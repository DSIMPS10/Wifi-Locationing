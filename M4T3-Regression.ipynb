{
 "cells": [
  {
   "cell_type": "code",
   "execution_count": 2,
   "metadata": {
    "ExecuteTime": {
     "end_time": "2023-07-06T15:18:16.736484Z",
     "start_time": "2023-07-06T15:18:13.725322Z"
    }
   },
   "outputs": [],
   "source": [
    "#imports\n",
    "#numpy,pandas,scipy, math, matplotlib\n",
    "import numpy as np\n",
    "import pandas as pd\n",
    "from matplotlib import pyplot as plt\n",
    "import seaborn as sns\n",
    "import datetime\n",
    "import plotly.express as px\n",
    "\n",
    "#estimators\n",
    "from sklearn.ensemble import RandomForestRegressor\n",
    "from sklearn.linear_model import LinearRegression\n",
    "from sklearn.svm import SVR\n",
    "from sklearn.ensemble import RandomForestClassifier, GradientBoostingClassifier\n",
    "from sklearn.tree import DecisionTreeClassifier, DecisionTreeRegressor\n",
    "from sklearn.preprocessing import PolynomialFeatures\n",
    "from sklearn.neighbors import KNeighborsClassifier,KNeighborsRegressor\n",
    "from sklearn.naive_bayes import CategoricalNB\n",
    "from sklearn.metrics import accuracy_score, classification_report\n",
    "#model metrics\n",
    "from sklearn.metrics import mean_squared_error\n",
    "from sklearn.metrics import r2_score\n",
    "from sklearn.metrics import mean_absolute_error\n",
    "from sklearn.model_selection import cross_val_score\n",
    "from sklearn.datasets import make_classification\n",
    "from sklearn.metrics import confusion_matrix\n",
    "from sklearn.metrics import ConfusionMatrixDisplay\n",
    "from sklearn.metrics import cohen_kappa_score\n",
    "#cross validation\n",
    "from sklearn.model_selection import train_test_split "
   ]
  },
  {
   "cell_type": "markdown",
   "metadata": {},
   "source": [
    "# Importing data"
   ]
  },
  {
   "cell_type": "code",
   "execution_count": 3,
   "metadata": {
    "ExecuteTime": {
     "end_time": "2023-07-06T15:18:18.553171Z",
     "start_time": "2023-07-06T15:18:16.738667Z"
    },
    "scrolled": true
   },
   "outputs": [
    {
     "name": "stderr",
     "output_type": "stream",
     "text": [
      "C:\\Users\\domsi\\anaconda3\\lib\\site-packages\\pandas\\core\\frame.py:3065: SettingWithCopyWarning: \n",
      "A value is trying to be set on a copy of a slice from a DataFrame.\n",
      "Try using .loc[row_indexer,col_indexer] = value instead\n",
      "\n",
      "See the caveats in the documentation: https://pandas.pydata.org/pandas-docs/stable/user_guide/indexing.html#returning-a-view-versus-a-copy\n",
      "  self[k1] = value[k2]\n"
     ]
    }
   ],
   "source": [
    "#Whole dataset\n",
    "df=pd.read_csv(\"C:\\\\Users\\\\domsi\\\\OneDrive\\\\Documents\\\\M4\\\\UJIndoorLoc\\\\trainingData.csv\")\n",
    "\n",
    "#Validation dataset\n",
    "valid_df=pd.read_csv(\"C:\\\\Users\\\\domsi\\\\OneDrive\\\\Documents\\\\M4\\\\UJIndoorLoc\\\\validationData.csv\")\n",
    "\n",
    "#Removing dupes\n",
    "df_dupes = df[df.duplicated()]\n",
    "df_2=df.drop_duplicates()\n",
    "\n",
    "#Changing the varible types for the columns\n",
    "cols_cat = ['FLOOR', 'BUILDINGID', 'SPACEID','RELATIVEPOSITION', 'USERID', 'PHONEID']\n",
    "df_2[cols_cat] = df_2[cols_cat].astype('category') "
   ]
  },
  {
   "cell_type": "code",
   "execution_count": 171,
   "metadata": {
    "ExecuteTime": {
     "end_time": "2023-07-09T13:11:55.294776Z",
     "start_time": "2023-07-09T13:11:55.246804Z"
    }
   },
   "outputs": [
    {
     "data": {
      "text/html": [
       "<div>\n",
       "<style scoped>\n",
       "    .dataframe tbody tr th:only-of-type {\n",
       "        vertical-align: middle;\n",
       "    }\n",
       "\n",
       "    .dataframe tbody tr th {\n",
       "        vertical-align: top;\n",
       "    }\n",
       "\n",
       "    .dataframe thead th {\n",
       "        text-align: right;\n",
       "    }\n",
       "</style>\n",
       "<table border=\"1\" class=\"dataframe\">\n",
       "  <thead>\n",
       "    <tr style=\"text-align: right;\">\n",
       "      <th></th>\n",
       "      <th>WAP001</th>\n",
       "      <th>WAP002</th>\n",
       "      <th>WAP003</th>\n",
       "      <th>WAP004</th>\n",
       "      <th>WAP005</th>\n",
       "      <th>WAP006</th>\n",
       "      <th>WAP007</th>\n",
       "      <th>WAP008</th>\n",
       "      <th>WAP009</th>\n",
       "      <th>WAP010</th>\n",
       "      <th>...</th>\n",
       "      <th>WAP520</th>\n",
       "      <th>LONGITUDE</th>\n",
       "      <th>LATITUDE</th>\n",
       "      <th>FLOOR</th>\n",
       "      <th>BUILDINGID</th>\n",
       "      <th>SPACEID</th>\n",
       "      <th>RELATIVEPOSITION</th>\n",
       "      <th>USERID</th>\n",
       "      <th>PHONEID</th>\n",
       "      <th>TIMESTAMP</th>\n",
       "    </tr>\n",
       "  </thead>\n",
       "  <tbody>\n",
       "    <tr>\n",
       "      <th>0</th>\n",
       "      <td>100</td>\n",
       "      <td>100</td>\n",
       "      <td>100</td>\n",
       "      <td>100</td>\n",
       "      <td>100</td>\n",
       "      <td>100</td>\n",
       "      <td>100</td>\n",
       "      <td>100</td>\n",
       "      <td>100</td>\n",
       "      <td>100</td>\n",
       "      <td>...</td>\n",
       "      <td>100</td>\n",
       "      <td>-7541.2643</td>\n",
       "      <td>4.864921e+06</td>\n",
       "      <td>2</td>\n",
       "      <td>1</td>\n",
       "      <td>106</td>\n",
       "      <td>2</td>\n",
       "      <td>2</td>\n",
       "      <td>23</td>\n",
       "      <td>1371713733</td>\n",
       "    </tr>\n",
       "    <tr>\n",
       "      <th>1</th>\n",
       "      <td>100</td>\n",
       "      <td>100</td>\n",
       "      <td>100</td>\n",
       "      <td>100</td>\n",
       "      <td>100</td>\n",
       "      <td>100</td>\n",
       "      <td>100</td>\n",
       "      <td>100</td>\n",
       "      <td>100</td>\n",
       "      <td>100</td>\n",
       "      <td>...</td>\n",
       "      <td>100</td>\n",
       "      <td>-7536.6212</td>\n",
       "      <td>4.864934e+06</td>\n",
       "      <td>2</td>\n",
       "      <td>1</td>\n",
       "      <td>106</td>\n",
       "      <td>2</td>\n",
       "      <td>2</td>\n",
       "      <td>23</td>\n",
       "      <td>1371713691</td>\n",
       "    </tr>\n",
       "    <tr>\n",
       "      <th>2</th>\n",
       "      <td>100</td>\n",
       "      <td>100</td>\n",
       "      <td>100</td>\n",
       "      <td>100</td>\n",
       "      <td>100</td>\n",
       "      <td>100</td>\n",
       "      <td>100</td>\n",
       "      <td>-97</td>\n",
       "      <td>100</td>\n",
       "      <td>100</td>\n",
       "      <td>...</td>\n",
       "      <td>100</td>\n",
       "      <td>-7519.1524</td>\n",
       "      <td>4.864950e+06</td>\n",
       "      <td>2</td>\n",
       "      <td>1</td>\n",
       "      <td>103</td>\n",
       "      <td>2</td>\n",
       "      <td>2</td>\n",
       "      <td>23</td>\n",
       "      <td>1371714095</td>\n",
       "    </tr>\n",
       "    <tr>\n",
       "      <th>3</th>\n",
       "      <td>100</td>\n",
       "      <td>100</td>\n",
       "      <td>100</td>\n",
       "      <td>100</td>\n",
       "      <td>100</td>\n",
       "      <td>100</td>\n",
       "      <td>100</td>\n",
       "      <td>100</td>\n",
       "      <td>100</td>\n",
       "      <td>100</td>\n",
       "      <td>...</td>\n",
       "      <td>100</td>\n",
       "      <td>-7524.5704</td>\n",
       "      <td>4.864934e+06</td>\n",
       "      <td>2</td>\n",
       "      <td>1</td>\n",
       "      <td>102</td>\n",
       "      <td>2</td>\n",
       "      <td>2</td>\n",
       "      <td>23</td>\n",
       "      <td>1371713807</td>\n",
       "    </tr>\n",
       "    <tr>\n",
       "      <th>4</th>\n",
       "      <td>100</td>\n",
       "      <td>100</td>\n",
       "      <td>100</td>\n",
       "      <td>100</td>\n",
       "      <td>100</td>\n",
       "      <td>100</td>\n",
       "      <td>100</td>\n",
       "      <td>100</td>\n",
       "      <td>100</td>\n",
       "      <td>100</td>\n",
       "      <td>...</td>\n",
       "      <td>100</td>\n",
       "      <td>-7632.1436</td>\n",
       "      <td>4.864982e+06</td>\n",
       "      <td>0</td>\n",
       "      <td>0</td>\n",
       "      <td>122</td>\n",
       "      <td>2</td>\n",
       "      <td>11</td>\n",
       "      <td>13</td>\n",
       "      <td>1369909710</td>\n",
       "    </tr>\n",
       "  </tbody>\n",
       "</table>\n",
       "<p>5 rows × 529 columns</p>\n",
       "</div>"
      ],
      "text/plain": [
       "   WAP001  WAP002  WAP003  WAP004  WAP005  WAP006  WAP007  WAP008  WAP009  \\\n",
       "0     100     100     100     100     100     100     100     100     100   \n",
       "1     100     100     100     100     100     100     100     100     100   \n",
       "2     100     100     100     100     100     100     100     -97     100   \n",
       "3     100     100     100     100     100     100     100     100     100   \n",
       "4     100     100     100     100     100     100     100     100     100   \n",
       "\n",
       "   WAP010  ...  WAP520  LONGITUDE      LATITUDE  FLOOR  BUILDINGID  SPACEID  \\\n",
       "0     100  ...     100 -7541.2643  4.864921e+06      2           1      106   \n",
       "1     100  ...     100 -7536.6212  4.864934e+06      2           1      106   \n",
       "2     100  ...     100 -7519.1524  4.864950e+06      2           1      103   \n",
       "3     100  ...     100 -7524.5704  4.864934e+06      2           1      102   \n",
       "4     100  ...     100 -7632.1436  4.864982e+06      0           0      122   \n",
       "\n",
       "   RELATIVEPOSITION  USERID  PHONEID   TIMESTAMP  \n",
       "0                 2       2       23  1371713733  \n",
       "1                 2       2       23  1371713691  \n",
       "2                 2       2       23  1371714095  \n",
       "3                 2       2       23  1371713807  \n",
       "4                 2      11       13  1369909710  \n",
       "\n",
       "[5 rows x 529 columns]"
      ]
     },
     "execution_count": 171,
     "metadata": {},
     "output_type": "execute_result"
    }
   ],
   "source": [
    "df.head()"
   ]
  },
  {
   "cell_type": "markdown",
   "metadata": {},
   "source": [
    "All EDA is in another notebook."
   ]
  },
  {
   "cell_type": "markdown",
   "metadata": {},
   "source": [
    "# Regression Models"
   ]
  },
  {
   "cell_type": "markdown",
   "metadata": {},
   "source": [
    "We will now look into a regression model which we can use to try and predict the longitude and latidue of a position based on the strength of its WIFI signal."
   ]
  },
  {
   "cell_type": "markdown",
   "metadata": {},
   "source": [
    "## Feature Selection"
   ]
  },
  {
   "cell_type": "markdown",
   "metadata": {},
   "source": [
    "The validation set (below) only has FLOOR and BUILDINGID as features other than the 520 WAPs. This means we can only use these features going forward."
   ]
  },
  {
   "cell_type": "code",
   "execution_count": 4,
   "metadata": {
    "ExecuteTime": {
     "end_time": "2023-07-06T15:18:18.592828Z",
     "start_time": "2023-07-06T15:18:18.555877Z"
    }
   },
   "outputs": [
    {
     "data": {
      "text/html": [
       "<div>\n",
       "<style scoped>\n",
       "    .dataframe tbody tr th:only-of-type {\n",
       "        vertical-align: middle;\n",
       "    }\n",
       "\n",
       "    .dataframe tbody tr th {\n",
       "        vertical-align: top;\n",
       "    }\n",
       "\n",
       "    .dataframe thead th {\n",
       "        text-align: right;\n",
       "    }\n",
       "</style>\n",
       "<table border=\"1\" class=\"dataframe\">\n",
       "  <thead>\n",
       "    <tr style=\"text-align: right;\">\n",
       "      <th></th>\n",
       "      <th>WAP001</th>\n",
       "      <th>WAP002</th>\n",
       "      <th>WAP003</th>\n",
       "      <th>WAP004</th>\n",
       "      <th>WAP005</th>\n",
       "      <th>WAP006</th>\n",
       "      <th>WAP007</th>\n",
       "      <th>WAP008</th>\n",
       "      <th>WAP009</th>\n",
       "      <th>WAP010</th>\n",
       "      <th>...</th>\n",
       "      <th>WAP520</th>\n",
       "      <th>LONGITUDE</th>\n",
       "      <th>LATITUDE</th>\n",
       "      <th>FLOOR</th>\n",
       "      <th>BUILDINGID</th>\n",
       "      <th>SPACEID</th>\n",
       "      <th>RELATIVEPOSITION</th>\n",
       "      <th>USERID</th>\n",
       "      <th>PHONEID</th>\n",
       "      <th>TIMESTAMP</th>\n",
       "    </tr>\n",
       "  </thead>\n",
       "  <tbody>\n",
       "    <tr>\n",
       "      <th>0</th>\n",
       "      <td>100</td>\n",
       "      <td>100</td>\n",
       "      <td>100</td>\n",
       "      <td>100</td>\n",
       "      <td>100</td>\n",
       "      <td>100</td>\n",
       "      <td>100</td>\n",
       "      <td>100</td>\n",
       "      <td>100</td>\n",
       "      <td>100</td>\n",
       "      <td>...</td>\n",
       "      <td>100</td>\n",
       "      <td>-7515.916799</td>\n",
       "      <td>4.864890e+06</td>\n",
       "      <td>1</td>\n",
       "      <td>1</td>\n",
       "      <td>0</td>\n",
       "      <td>0</td>\n",
       "      <td>0</td>\n",
       "      <td>0</td>\n",
       "      <td>1380872703</td>\n",
       "    </tr>\n",
       "    <tr>\n",
       "      <th>1</th>\n",
       "      <td>100</td>\n",
       "      <td>100</td>\n",
       "      <td>100</td>\n",
       "      <td>100</td>\n",
       "      <td>100</td>\n",
       "      <td>100</td>\n",
       "      <td>100</td>\n",
       "      <td>100</td>\n",
       "      <td>100</td>\n",
       "      <td>100</td>\n",
       "      <td>...</td>\n",
       "      <td>100</td>\n",
       "      <td>-7383.867221</td>\n",
       "      <td>4.864840e+06</td>\n",
       "      <td>4</td>\n",
       "      <td>2</td>\n",
       "      <td>0</td>\n",
       "      <td>0</td>\n",
       "      <td>0</td>\n",
       "      <td>13</td>\n",
       "      <td>1381155054</td>\n",
       "    </tr>\n",
       "    <tr>\n",
       "      <th>2</th>\n",
       "      <td>100</td>\n",
       "      <td>100</td>\n",
       "      <td>100</td>\n",
       "      <td>100</td>\n",
       "      <td>100</td>\n",
       "      <td>100</td>\n",
       "      <td>100</td>\n",
       "      <td>100</td>\n",
       "      <td>100</td>\n",
       "      <td>100</td>\n",
       "      <td>...</td>\n",
       "      <td>100</td>\n",
       "      <td>-7374.302080</td>\n",
       "      <td>4.864847e+06</td>\n",
       "      <td>4</td>\n",
       "      <td>2</td>\n",
       "      <td>0</td>\n",
       "      <td>0</td>\n",
       "      <td>0</td>\n",
       "      <td>13</td>\n",
       "      <td>1381155095</td>\n",
       "    </tr>\n",
       "    <tr>\n",
       "      <th>3</th>\n",
       "      <td>100</td>\n",
       "      <td>100</td>\n",
       "      <td>100</td>\n",
       "      <td>100</td>\n",
       "      <td>100</td>\n",
       "      <td>100</td>\n",
       "      <td>100</td>\n",
       "      <td>100</td>\n",
       "      <td>100</td>\n",
       "      <td>100</td>\n",
       "      <td>...</td>\n",
       "      <td>100</td>\n",
       "      <td>-7365.824883</td>\n",
       "      <td>4.864843e+06</td>\n",
       "      <td>4</td>\n",
       "      <td>2</td>\n",
       "      <td>0</td>\n",
       "      <td>0</td>\n",
       "      <td>0</td>\n",
       "      <td>13</td>\n",
       "      <td>1381155138</td>\n",
       "    </tr>\n",
       "    <tr>\n",
       "      <th>4</th>\n",
       "      <td>100</td>\n",
       "      <td>100</td>\n",
       "      <td>100</td>\n",
       "      <td>100</td>\n",
       "      <td>100</td>\n",
       "      <td>100</td>\n",
       "      <td>100</td>\n",
       "      <td>100</td>\n",
       "      <td>100</td>\n",
       "      <td>100</td>\n",
       "      <td>...</td>\n",
       "      <td>100</td>\n",
       "      <td>-7641.499303</td>\n",
       "      <td>4.864922e+06</td>\n",
       "      <td>2</td>\n",
       "      <td>0</td>\n",
       "      <td>0</td>\n",
       "      <td>0</td>\n",
       "      <td>0</td>\n",
       "      <td>2</td>\n",
       "      <td>1380877774</td>\n",
       "    </tr>\n",
       "  </tbody>\n",
       "</table>\n",
       "<p>5 rows × 529 columns</p>\n",
       "</div>"
      ],
      "text/plain": [
       "   WAP001  WAP002  WAP003  WAP004  WAP005  WAP006  WAP007  WAP008  WAP009  \\\n",
       "0     100     100     100     100     100     100     100     100     100   \n",
       "1     100     100     100     100     100     100     100     100     100   \n",
       "2     100     100     100     100     100     100     100     100     100   \n",
       "3     100     100     100     100     100     100     100     100     100   \n",
       "4     100     100     100     100     100     100     100     100     100   \n",
       "\n",
       "   WAP010  ...  WAP520    LONGITUDE      LATITUDE  FLOOR  BUILDINGID  SPACEID  \\\n",
       "0     100  ...     100 -7515.916799  4.864890e+06      1           1        0   \n",
       "1     100  ...     100 -7383.867221  4.864840e+06      4           2        0   \n",
       "2     100  ...     100 -7374.302080  4.864847e+06      4           2        0   \n",
       "3     100  ...     100 -7365.824883  4.864843e+06      4           2        0   \n",
       "4     100  ...     100 -7641.499303  4.864922e+06      2           0        0   \n",
       "\n",
       "   RELATIVEPOSITION  USERID  PHONEID   TIMESTAMP  \n",
       "0                 0       0        0  1380872703  \n",
       "1                 0       0       13  1381155054  \n",
       "2                 0       0       13  1381155095  \n",
       "3                 0       0       13  1381155138  \n",
       "4                 0       0        2  1380877774  \n",
       "\n",
       "[5 rows x 529 columns]"
      ]
     },
     "execution_count": 4,
     "metadata": {},
     "output_type": "execute_result"
    }
   ],
   "source": [
    "valid_df.head()"
   ]
  },
  {
   "cell_type": "code",
   "execution_count": 5,
   "metadata": {
    "ExecuteTime": {
     "end_time": "2023-07-06T15:18:18.626386Z",
     "start_time": "2023-07-06T15:18:18.595205Z"
    }
   },
   "outputs": [],
   "source": [
    "#Creating copies of datasets to manipulate.\n",
    "df_reg=df_2.copy()\n",
    "valid_df_reg = valid_df.copy()"
   ]
  },
  {
   "cell_type": "markdown",
   "metadata": {},
   "source": [
    "I will change the current WAP readings from -105 being the weakest, 0 the strongest and 100 as null value to 0 (no reading) to 105 (strongest)."
   ]
  },
  {
   "cell_type": "code",
   "execution_count": 6,
   "metadata": {
    "ExecuteTime": {
     "end_time": "2023-07-06T15:18:19.329887Z",
     "start_time": "2023-07-06T15:18:18.626592Z"
    }
   },
   "outputs": [],
   "source": [
    "#Reblabelling values '100' (no singal) to -106\n",
    "wifi_dict_reg = {100:-106}\n",
    "\n",
    "#Change the WAP values according to the dictionary above\n",
    "df_reg.iloc[:,:520]=df_reg.iloc[:,:520].replace(wifi_dict_reg)\n",
    "valid_df_reg.iloc[:,:520]=valid_df_reg.iloc[:,:520].replace(wifi_dict_reg)\n",
    "\n",
    "#Add 106 to all WAP values\n",
    "df_reg.iloc[:,:520]=df_reg.iloc[:,:520] + 106\n",
    "valid_df_reg.iloc[:,:520]=valid_df_reg.iloc[:,:520] + 106"
   ]
  },
  {
   "cell_type": "code",
   "execution_count": 7,
   "metadata": {
    "ExecuteTime": {
     "end_time": "2023-07-06T15:18:19.355056Z",
     "start_time": "2023-07-06T15:18:19.329887Z"
    }
   },
   "outputs": [],
   "source": [
    "#Real results from the validation set to compare all predictions with later\n",
    "#Lat & Long\n",
    "valid_df_long_lat = valid_df_reg[['LONGITUDE','LATITUDE']]\n",
    "\n",
    "#Re formatting the dataframe to fit the model (moving a column to the correct order), this could be done a lot cleaner\n",
    "valid_df_results_FLOOR = valid_df_reg['FLOOR']\n",
    "valid_df_results=valid_df_reg.drop(columns=['LONGITUDE', 'LATITUDE', 'SPACEID',\n",
    "       'RELATIVEPOSITION', 'USERID', 'PHONEID', 'TIMESTAMP','FLOOR'])\n",
    "valid_df_results['FLOOR'] = valid_df_results_FLOOR"
   ]
  },
  {
   "cell_type": "code",
   "execution_count": 8,
   "metadata": {
    "ExecuteTime": {
     "end_time": "2023-07-06T15:18:19.463048Z",
     "start_time": "2023-07-06T15:18:19.356306Z"
    }
   },
   "outputs": [],
   "source": [
    "#Defining the independant and dependant variables for the regression models\n",
    "\n",
    "#Indep = WAPS + Building + Floor, dep = Long & lat\n",
    "indep_var_regression_long = df_reg.iloc[:,:520].merge(df_reg[['BUILDINGID','FLOOR']], left_index=True,right_index=True)\n",
    "indep_var_regression_lat = df_reg.iloc[:,:520].merge(df_reg[['BUILDINGID','FLOOR']], left_index=True,right_index=True)\n",
    "\n",
    "dep_var_regression_long = df_reg['LONGITUDE'] \n",
    "dep_var_regression_lat = df_reg['LATITUDE'] \n",
    "\n",
    "#We will try the below regression models to determine which predicts best\n",
    "algos_Class_regression = []\n",
    "algos_Class_regression.append(('Linear Regression',LinearRegression()))\n",
    "algos_Class_regression.append(('Random Forest Regression',RandomForestRegressor()))\n",
    "algos_Class_regression.append(('Decision Tree Regression', DecisionTreeRegressor()))\n",
    "algos_Class_regression.append(('K Nearest Neighbours Regression', KNeighborsRegressor()))\n",
    "algos_Class_regression.append(('Support Vector Machine', SVR()))"
   ]
  },
  {
   "cell_type": "code",
   "execution_count": 9,
   "metadata": {
    "ExecuteTime": {
     "end_time": "2023-07-06T15:25:02.450804Z",
     "start_time": "2023-07-06T15:18:19.467038Z"
    }
   },
   "outputs": [
    {
     "name": "stdout",
     "output_type": "stream",
     "text": [
      "Linear Regression -8.813139264323083e+18\n",
      "Random Forest Regression 0.9665228156041618\n",
      "Decision Tree Regression 0.9396933218140483\n",
      "K Nearest Neighbours Regression 0.9031869846273164\n",
      "Support Vector Machine 0.7929296265336016\n"
     ]
    }
   ],
   "source": [
    "#We can check the average cross validation score across our models \n",
    "\n",
    "#longitude\n",
    "results_reg_long = []\n",
    "names_reg_long = []\n",
    "for name, model in algos_Class_regression:\n",
    "    result = cross_val_score(model, indep_var_regression_long, dep_var_regression_long, cv=3)\n",
    "    names_reg_long.append(name)\n",
    "    results_reg_long.append(result)\n",
    "\n",
    "for i in range(len(names_reg_long)):\n",
    "    print(names_reg_long[i],results_reg_long[i].mean())\n",
    "    \n",
    "#Creating our test/train split in the data to use in our longitude models.\n",
    "indep_var_regression_long_train, indep_var_regression_long_test, dep_var_regression_long_train, dep_var_regression_long_test = train_test_split(indep_var_regression_long, dep_var_regression_long, test_size = .30, random_state = 123)"
   ]
  },
  {
   "cell_type": "code",
   "execution_count": 15,
   "metadata": {
    "ExecuteTime": {
     "end_time": "2023-07-06T15:33:26.699594Z",
     "start_time": "2023-07-06T15:27:24.029978Z"
    },
    "scrolled": true
   },
   "outputs": [
    {
     "name": "stdout",
     "output_type": "stream",
     "text": [
      "Linear Regression -4.2618746640199215e+20\n",
      "Random Forest Regression 0.9273826564404125\n",
      "Decision Tree Regression 0.8987505756328145\n",
      "K Nearest Neighbours Regression 0.8740408856533411\n",
      "Support Vector Machine 0.694210626831715\n"
     ]
    }
   ],
   "source": [
    "#latitude\n",
    "results_reg_lat = []\n",
    "names_reg_lat = []\n",
    "for name, model in algos_Class_regression:\n",
    "    result = cross_val_score(model, indep_var_regression_lat, dep_var_regression_lat, cv=3)\n",
    "    names_reg_lat.append(name)\n",
    "    results_reg_lat.append(result)\n",
    "    \n",
    "for i in range(len(names_reg_lat)):\n",
    "    print(names_reg_lat[i],results_reg_lat[i].mean())\n",
    "    \n",
    "#creating the test/train split for Latitude\n",
    "indep_var_regression_lat_train, indep_var_regression_lat_test, dep_var_regression_lat_train, dep_var_regression_lat_test = train_test_split(indep_var_regression_lat, dep_var_regression_lat, test_size = .30, random_state = 123)"
   ]
  },
  {
   "cell_type": "markdown",
   "metadata": {},
   "source": [
    "We will exclude testing Linear Regression, it does not fit for this scenario."
   ]
  },
  {
   "cell_type": "markdown",
   "metadata": {},
   "source": [
    "### Random Forest"
   ]
  },
  {
   "cell_type": "code",
   "execution_count": 10,
   "metadata": {
    "ExecuteTime": {
     "end_time": "2023-07-06T15:25:40.250129Z",
     "start_time": "2023-07-06T15:25:02.452584Z"
    }
   },
   "outputs": [
    {
     "name": "stdout",
     "output_type": "stream",
     "text": [
      "MAE on Random Forest Regression train data =  2.1990196623225375\n",
      "R squared on Random Forest Regression train data =  0.9987014021182196\n",
      "MSE on Random Forest Regression train data =  20.056654844653433\n",
      "RMSE on Random Forest Regression train data =  4.4784656797449545\n"
     ]
    }
   ],
   "source": [
    "#Longitude\n",
    "algo_RF_reg_long = RandomForestRegressor() #Define the algo\n",
    "model_RF_reg_long = algo_RF_reg_long.fit(indep_var_regression_long_train,dep_var_regression_long_train) #Fit the model\n",
    "prediction_RF_reg_long = model_RF_reg_long.predict(indep_var_regression_long_test) #Prediction\n",
    "\n",
    "print(\"MAE on Random Forest Regression train data to predict longitude = \" , mean_absolute_error(dep_var_regression_long_test, prediction_RF_reg_long))\n",
    "print(\"R squared on Random Forest Regression train data to predict longitude = \" , r2_score(dep_var_regression_long_test, prediction_RF_reg_long))\n",
    "print(\"MSE on Random Forest Regression train data to predict longitude= \" , mean_squared_error(dep_var_regression_long_test, prediction_RF_reg_long))\n",
    "print(\"RMSE on Random Forest Regression train data to predict longitude= \" , mean_squared_error(dep_var_regression_long_test, prediction_RF_reg_long,squared=False))\n",
    "\n",
    "#Saving the errors to assess later\n",
    "RF_long_errors=[mean_absolute_error(dep_var_regression_long_test, prediction_RF_reg_long),r2_score(dep_var_regression_long_test, prediction_RF_reg_long),mean_squared_error(dep_var_regression_long_test, prediction_RF_reg_long),\n",
    "               mean_squared_error(dep_var_regression_long_test, prediction_RF_reg_long,squared=False)]"
   ]
  },
  {
   "cell_type": "code",
   "execution_count": 16,
   "metadata": {
    "ExecuteTime": {
     "end_time": "2023-07-06T15:34:30.281833Z",
     "start_time": "2023-07-06T15:33:26.702798Z"
    }
   },
   "outputs": [
    {
     "name": "stdout",
     "output_type": "stream",
     "text": [
      "MAE on Random Forest Regression train data =  2.006761738370512\n",
      "R squared on Random Forest Regression train data =  0.9964064727719331\n",
      "MSE on Random Forest Regression train data =  16.496656182479253\n",
      "RMSE on Random Forest Regression train data =  4.061607585978642\n"
     ]
    }
   ],
   "source": [
    "#latitude\n",
    "algo_RF_reg_lat = RandomForestRegressor()\n",
    "model_RF_reg_lat = algo_RF_reg_lat.fit(indep_var_regression_lat_train,dep_var_regression_lat_train)\n",
    "prediction_RF_reg_lat = model_RF_reg_lat.predict(indep_var_regression_lat_test)\n",
    "\n",
    "print(\"MAE on Random Forest Regression train data to predict latitude = \" , mean_absolute_error(dep_var_regression_lat_test, prediction_RF_reg_lat))\n",
    "print(\"R squared on Random Forest Regression train data to predict latitude = \" , r2_score(dep_var_regression_lat_test, prediction_RF_reg_lat))\n",
    "print(\"MSE on Random Forest Regression train data to predict latitude = \" , mean_squared_error(dep_var_regression_lat_test, prediction_RF_reg_lat))\n",
    "print(\"RMSE on Random Forest Regression train data to predict latitude = \" , mean_squared_error(dep_var_regression_lat_test, prediction_RF_reg_lat,squared=False))\n",
    "\n",
    "#Save the errors\n",
    "RF_lat_errors=[mean_absolute_error(dep_var_regression_lat_test, prediction_RF_reg_lat),r2_score(dep_var_regression_lat_test, prediction_RF_reg_lat),mean_squared_error(dep_var_regression_lat_test, prediction_RF_reg_lat),\n",
    "              mean_squared_error(dep_var_regression_lat_test, prediction_RF_reg_lat,squared=False)]"
   ]
  },
  {
   "cell_type": "markdown",
   "metadata": {},
   "source": [
    "### Decision Tree"
   ]
  },
  {
   "cell_type": "code",
   "execution_count": 11,
   "metadata": {
    "ExecuteTime": {
     "end_time": "2023-07-06T15:25:40.821310Z",
     "start_time": "2023-07-06T15:25:40.251612Z"
    }
   },
   "outputs": [
    {
     "name": "stdout",
     "output_type": "stream",
     "text": [
      "MAE on Decision Tree Regression train data=  2.583301774780804\n",
      "R squared on Decision Tree Regression train data =  0.9969109121758682\n",
      "MSE on Decision Tree Regression  train data =  47.710510807613694\n",
      "RMSE on Decision Tree Regression  train data =  6.907279551865097\n"
     ]
    }
   ],
   "source": [
    "algo_DT_reg_long = DecisionTreeRegressor()\n",
    "model_DT_reg_long = algo_DT_reg_long.fit(indep_var_regression_long_train,dep_var_regression_long_train)\n",
    "prediction_DT_reg_long = model_DT_reg_long.predict(indep_var_regression_long_test)\n",
    "\n",
    "print(\"MAE on Decision Tree Regression train data to predict longitude = \" , mean_absolute_error(dep_var_regression_long_test, prediction_DT_reg_long))\n",
    "print(\"R squared on Decision Tree Regression train data to predict longitude = \" , r2_score(dep_var_regression_long_test, prediction_DT_reg_long))\n",
    "print(\"MSE on Decision Tree Regression  train data to predict longitude = \" , mean_squared_error(dep_var_regression_long_test, prediction_DT_reg_long))\n",
    "print(\"RMSE on Decision Tree Regression  train data to predict longitude = \" , mean_squared_error(dep_var_regression_long_test, prediction_DT_reg_long,squared=False))\n",
    "\n",
    "#Saving the errors to assess later\n",
    "DT_long_errors=[mean_absolute_error(dep_var_regression_long_test, prediction_DT_reg_long),r2_score(dep_var_regression_long_test, prediction_DT_reg_long),mean_squared_error(dep_var_regression_long_test, prediction_DT_reg_long),\n",
    "               mean_squared_error(dep_var_regression_long_test, prediction_DT_reg_long,squared=False)]"
   ]
  },
  {
   "cell_type": "code",
   "execution_count": 17,
   "metadata": {
    "ExecuteTime": {
     "end_time": "2023-07-06T15:34:31.067019Z",
     "start_time": "2023-07-06T15:34:30.284403Z"
    }
   },
   "outputs": [
    {
     "name": "stdout",
     "output_type": "stream",
     "text": [
      "MAE on Decision Tree Regression train data=  2.2144372268230854\n",
      "R squared on Decision Tree Regression train data =  0.9928811471205736\n",
      "MSE on Decision Tree Regression  train data =  32.68022221963907\n",
      "RMSE on Decision Tree Regression  train data =  5.716661807352178\n"
     ]
    }
   ],
   "source": [
    "algo_DT_reg_lat = DecisionTreeRegressor()\n",
    "model_DT_reg_lat = algo_DT_reg_lat.fit(indep_var_regression_lat_train,dep_var_regression_lat_train)\n",
    "prediction_DT_reg_lat = model_DT_reg_lat.predict(indep_var_regression_lat_test)\n",
    "\n",
    "print(\"MAE on Decision Tree Regression train data to predict latitude= \" , mean_absolute_error(dep_var_regression_lat_test, prediction_DT_reg_lat))\n",
    "print(\"R squared on Decision Tree Regression train data to predict latitude= \" , r2_score(dep_var_regression_lat_test, prediction_DT_reg_lat))\n",
    "print(\"MSE on Decision Tree Regression train data to predict latitude= \" , mean_squared_error(dep_var_regression_lat_test, prediction_DT_reg_lat))\n",
    "print(\"RMSE on Decision Tree Regression train data to predict latitude= \" , mean_squared_error(dep_var_regression_lat_test, prediction_DT_reg_lat, squared=False))\n",
    "\n",
    "#Saving the errors\n",
    "DT_lat_errors=[mean_absolute_error(dep_var_regression_lat_test, prediction_DT_reg_lat),r2_score(dep_var_regression_lat_test, prediction_DT_reg_lat),mean_squared_error(dep_var_regression_lat_test, prediction_DT_reg_lat),\n",
    "              mean_squared_error(dep_var_regression_lat_test, prediction_DT_reg_lat,squared=False)]"
   ]
  },
  {
   "cell_type": "markdown",
   "metadata": {},
   "source": [
    "### K Nearest Neighbours"
   ]
  },
  {
   "cell_type": "code",
   "execution_count": 12,
   "metadata": {
    "ExecuteTime": {
     "end_time": "2023-07-06T15:25:43.569182Z",
     "start_time": "2023-07-06T15:25:40.822422Z"
    }
   },
   "outputs": [
    {
     "name": "stdout",
     "output_type": "stream",
     "text": [
      "MAE on K Nearest Neighbours Regression train data=  1.8497344504102078\n",
      "R squared on K Nearest NeighboursRegression train data =  0.9986554740768938\n",
      "MSE on K Nearest Neighbours Regression  train data =  20.766006742946534\n",
      "RMSE on K Nearest Neighbours Regression  train data =  4.556973419161729\n"
     ]
    }
   ],
   "source": [
    "algo_KN_reg_long = KNeighborsRegressor()\n",
    "model_KN_reg_long = algo_KN_reg_long.fit(indep_var_regression_long_train,dep_var_regression_long_train)\n",
    "prediction_KN_reg_long = model_KN_reg_long.predict(indep_var_regression_long_test)\n",
    "\n",
    "print(\"MAE on K Nearest Neighbours Regression train data to predict longitude= \" , mean_absolute_error(dep_var_regression_long_test, prediction_KN_reg_long))\n",
    "print(\"R squared on K Nearest NeighboursRegression train data to predict longitude= \" , r2_score(dep_var_regression_long_test, prediction_KN_reg_long))\n",
    "print(\"MSE on K Nearest Neighbours Regression train data to predict longitude= \" , mean_squared_error(dep_var_regression_long_test, prediction_KN_reg_long))\n",
    "print(\"RMSE on K Nearest Neighbours Regression train data to predict longitude= \" , mean_squared_error(dep_var_regression_long_test, prediction_KN_reg_long,squared=False))\n",
    "#Saving the errors to assess later\n",
    "KN_long_errors=[mean_absolute_error(dep_var_regression_long_test, prediction_KN_reg_long),r2_score(dep_var_regression_long_test, prediction_KN_reg_long),mean_squared_error(dep_var_regression_long_test, prediction_KN_reg_long),mean_squared_error(dep_var_regression_long_test, prediction_KN_reg_long,squared=False)]"
   ]
  },
  {
   "cell_type": "code",
   "execution_count": 18,
   "metadata": {
    "ExecuteTime": {
     "end_time": "2023-07-06T15:34:33.913224Z",
     "start_time": "2023-07-06T15:34:31.072712Z"
    }
   },
   "outputs": [
    {
     "name": "stdout",
     "output_type": "stream",
     "text": [
      "MAE on K Nearest Neighbours Regression train data=  1.5683369536272898\n",
      "R squared on K Nearest NeighboursRegression train data =  0.9971883328525457\n",
      "MSE on K Nearest Neighbours Regression  train data =  12.907403586330124\n",
      "RMSE on K Nearest Neighbours Regression  train data =  3.592687515820173\n"
     ]
    }
   ],
   "source": [
    "algo_KN_reg_lat = KNeighborsRegressor()\n",
    "model_KN_reg_lat = algo_KN_reg_lat.fit(indep_var_regression_lat_train,dep_var_regression_lat_train)\n",
    "prediction_KN_reg_lat = model_KN_reg_lat.predict(indep_var_regression_lat_test)\n",
    "\n",
    "print(\"MAE on K Nearest Neighbours Regression train data to predict latitude = \" , mean_absolute_error(dep_var_regression_lat_test, prediction_KN_reg_lat))\n",
    "print(\"R squared on K Nearest NeighboursRegression train data to predict latitude = \" , r2_score(dep_var_regression_lat_test, prediction_KN_reg_lat))\n",
    "print(\"MSE on K Nearest Neighbours Regression train data to predict latitude = \" , mean_squared_error(dep_var_regression_lat_test, prediction_KN_reg_lat))\n",
    "print(\"RMSE on K Nearest Neighbours Regression train data to predict latitude = \" , mean_squared_error(dep_var_regression_lat_test, prediction_KN_reg_lat,squared=False))\n",
    "\n",
    "#Save the errors\n",
    "KN_lat_errors=[mean_absolute_error(dep_var_regression_lat_test, prediction_KN_reg_lat),r2_score(dep_var_regression_lat_test, prediction_KN_reg_lat),mean_squared_error(dep_var_regression_lat_test, prediction_KN_reg_lat),\n",
    "              mean_squared_error(dep_var_regression_lat_test, prediction_KN_reg_lat,squared=False)]"
   ]
  },
  {
   "cell_type": "markdown",
   "metadata": {},
   "source": [
    "### SVM"
   ]
  },
  {
   "cell_type": "code",
   "execution_count": 13,
   "metadata": {
    "ExecuteTime": {
     "end_time": "2023-07-06T15:27:24.012771Z",
     "start_time": "2023-07-06T15:25:43.570307Z"
    }
   },
   "outputs": [
    {
     "name": "stdout",
     "output_type": "stream",
     "text": [
      "MAE on Support Vector Regression train data=  15.348007770771158\n",
      "R squared on Support Vector Regression train data =  0.9635932352474476\n",
      "MSE on Support Vector Regression  train data =  562.297170584696\n",
      "RMSE on Support VectorRegression  train data =  23.71280604619993\n"
     ]
    }
   ],
   "source": [
    "algo_SVM_reg_long = SVR()\n",
    "model_SVM_reg_long = algo_SVM_reg_long.fit(indep_var_regression_long_train,dep_var_regression_long_train)\n",
    "prediction_SVM_reg_long = model_SVM_reg_long.predict(indep_var_regression_long_test)\n",
    "\n",
    "print(\"MAE on Support Vector Regression train data to predict longitude= \" , mean_absolute_error(dep_var_regression_long_test, prediction_SVM_reg_long))\n",
    "print(\"R squared on Support Vector Regression train data to predict longitude= \" , r2_score(dep_var_regression_long_test, prediction_SVM_reg_long))\n",
    "print(\"MSE on Support Vector Regression  train data to predict longitude= \" , mean_squared_error(dep_var_regression_long_test, prediction_SVM_reg_long))\n",
    "print(\"RMSE on Support VectorRegression  train data to predict longitude= \" , mean_squared_error(dep_var_regression_long_test, prediction_SVM_reg_long,squared=False))\n",
    "\n",
    "#Saving the errors to assess later\n",
    "SVM_long_errors=[mean_absolute_error(dep_var_regression_long_test, prediction_SVM_reg_long),r2_score(dep_var_regression_long_test, prediction_SVM_reg_long),mean_squared_error(dep_var_regression_long_test, prediction_SVM_reg_long),\n",
    "                 mean_squared_error(dep_var_regression_long_test, prediction_SVM_reg_long,squared=False)]"
   ]
  },
  {
   "cell_type": "code",
   "execution_count": 19,
   "metadata": {
    "ExecuteTime": {
     "end_time": "2023-07-06T15:36:10.645304Z",
     "start_time": "2023-07-06T15:34:33.914178Z"
    }
   },
   "outputs": [
    {
     "name": "stdout",
     "output_type": "stream",
     "text": [
      "MAE on Support Vector Regression train data=  8.582613279717446\n",
      "R squared on Support Vector Regression train data =  0.9593759325874399\n",
      "MSE on Support Vector Regression train data =  186.49121887949954\n",
      "RMSE on Support Vector Regression train data =  13.656178780299397\n"
     ]
    }
   ],
   "source": [
    "algo_SVM_reg_lat = SVR()\n",
    "model_SVM_reg_lat = algo_SVM_reg_lat.fit(indep_var_regression_lat_train,dep_var_regression_lat_train)\n",
    "prediction_SVM_reg_lat = model_SVM_reg_lat.predict(indep_var_regression_lat_test)\n",
    "\n",
    "print(\"MAE on Support Vector Regression train data to predict latitude= \" , mean_absolute_error(dep_var_regression_lat_test, prediction_SVM_reg_lat))\n",
    "print(\"R squared on Support Vector Regression train data to predict latitude= \" , r2_score(dep_var_regression_lat_test, prediction_SVM_reg_lat))\n",
    "print(\"MSE on Support Vector Regression train data to predict latitude= \" , mean_squared_error(dep_var_regression_lat_test, prediction_SVM_reg_lat))\n",
    "print(\"RMSE on Support Vector Regression train data to predict latitude= \" , mean_squared_error(dep_var_regression_lat_test, prediction_SVM_reg_lat,squared=False))\n",
    "\n",
    "#Save the errors\n",
    "SVM_lat_errors=[mean_absolute_error(dep_var_regression_lat_test, prediction_SVM_reg_lat),r2_score(dep_var_regression_lat_test, prediction_SVM_reg_lat),mean_squared_error(dep_var_regression_lat_test, prediction_SVM_reg_lat),\n",
    "              mean_squared_error(dep_var_regression_lat_test, prediction_SVM_reg_lat,squared=False)]"
   ]
  },
  {
   "cell_type": "markdown",
   "metadata": {},
   "source": [
    "### Error comparisons"
   ]
  },
  {
   "cell_type": "code",
   "execution_count": 14,
   "metadata": {
    "ExecuteTime": {
     "end_time": "2023-07-06T15:27:24.028257Z",
     "start_time": "2023-07-06T15:27:24.014307Z"
    },
    "scrolled": true
   },
   "outputs": [
    {
     "name": "stdout",
     "output_type": "stream",
     "text": [
      "           Random Forest  Decision Tree  K Nearest Neighbours  \\\n",
      "MAE             2.199020       2.583302              1.849734   \n",
      "R Squared       0.998701       0.996911              0.998655   \n",
      "MSE            20.056655      47.710511             20.766007   \n",
      "RMSE            4.478466       6.907280              4.556973   \n",
      "\n",
      "           Support Vector Machine  \n",
      "MAE                     15.348008  \n",
      "R Squared                0.963593  \n",
      "MSE                    562.297171  \n",
      "RMSE                    23.712806  \n"
     ]
    }
   ],
   "source": [
    "#Creating a dataframe to compare the errors across all models.\n",
    "models_list=['Random Forest', 'Decision Tree','K Nearest Neighbours','Support Vector Machine']\n",
    "error_stat=['MAE','R Squared', 'MSE','RMSE']\n",
    "df_error_comp_long=pd.DataFrame(columns=models_list, index=error_stat\n",
    "                        )\n",
    "df_error_comp_long['Random Forest']=RF_long_errors\n",
    "df_error_comp_long['Decision Tree'] = DT_long_errors\n",
    "df_error_comp_long['K Nearest Neighbours'] = KN_long_errors\n",
    "df_error_comp_long['Support Vector Machine'] = SVM_long_errors\n",
    "\n",
    "print(df_error_comp_long)"
   ]
  },
  {
   "cell_type": "code",
   "execution_count": 20,
   "metadata": {
    "ExecuteTime": {
     "end_time": "2023-07-06T15:36:10.660574Z",
     "start_time": "2023-07-06T15:36:10.646350Z"
    }
   },
   "outputs": [
    {
     "name": "stdout",
     "output_type": "stream",
     "text": [
      "           Random Forest  Decision Tree  K Nearest Neighbours  \\\n",
      "MAE             2.006762       2.214437              1.568337   \n",
      "R Squared       0.996406       0.992881              0.997188   \n",
      "MSE            16.496656      32.680222             12.907404   \n",
      "RMSE            4.061608       5.716662              3.592688   \n",
      "\n",
      "           Support Vector Machine  \n",
      "MAE                      8.582613  \n",
      "R Squared                0.959376  \n",
      "MSE                    186.491219  \n",
      "RMSE                    13.656179  \n"
     ]
    }
   ],
   "source": [
    "df_error_comp_lat=pd.DataFrame(columns=models_list, index=error_stat\n",
    "                        )\n",
    "df_error_comp_lat['Random Forest']=RF_lat_errors\n",
    "df_error_comp_lat['Decision Tree'] = DT_lat_errors\n",
    "df_error_comp_lat['K Nearest Neighbours'] = KN_lat_errors\n",
    "df_error_comp_lat['Support Vector Machine'] = SVM_lat_errors\n",
    "\n",
    "print(df_error_comp_lat)"
   ]
  },
  {
   "cell_type": "markdown",
   "metadata": {
    "ExecuteTime": {
     "end_time": "2023-07-03T10:08:16.713650Z",
     "start_time": "2023-07-03T10:08:16.702315Z"
    },
    "scrolled": false
   },
   "source": [
    "Random Forest and K Nearest Neighbours have minimised the errors to the greatest extent."
   ]
  },
  {
   "cell_type": "markdown",
   "metadata": {},
   "source": [
    "## Predictions on validation set"
   ]
  },
  {
   "cell_type": "markdown",
   "metadata": {},
   "source": [
    "### Random Forest"
   ]
  },
  {
   "cell_type": "code",
   "execution_count": 128,
   "metadata": {
    "ExecuteTime": {
     "end_time": "2023-07-07T09:22:51.714822Z",
     "start_time": "2023-07-07T09:22:51.580720Z"
    },
    "scrolled": true
   },
   "outputs": [
    {
     "name": "stdout",
     "output_type": "stream",
     "text": [
      "MAE on RF Regression validation data predicting Latitude =  6.498629585021653\n",
      "R squared on RF Regression validation data predicting Latitude =  0.9794462494352625\n",
      "MSE on RF Regression validation data predicting Latitude =  101.40853538182547\n",
      "RMSE on RF Regression validation data predicting Latitude =  10.070180503934647\n",
      "\n",
      "\n",
      "MAE on RF Regression validation data predicting Longitude =  6.5493703689261915\n",
      "R squared on RF Regression validation data predicting Longitude =  0.9931163401030292\n",
      "MSE on RF Regression validation data predicting Longitude =  99.38131078327503\n",
      "RMSE on RF Regression validation data predicting Longitude =  9.969017543533315\n"
     ]
    }
   ],
   "source": [
    "#Long and Lat predictions\n",
    "prediction_RF_reg_long_valid_df = model_RF_reg_long.predict(valid_df_results)\n",
    "prediction_RF_reg_lat_valid_df = model_RF_reg_lat.predict(valid_df_results)\n",
    "\n",
    "#Creating a DF to compare predicitions\n",
    "compare_dict={'Real Long':valid_df_long_lat['LONGITUDE'],\n",
    "              'RF Long Pred':pd.Series(prediction_RF_reg_long_valid_df),\n",
    "              'Real lat': valid_df_long_lat['LATITUDE'], \n",
    "              'RF Lat Pred':pd.Series(prediction_RF_reg_lat_valid_df)}\n",
    "\n",
    "pred_compare_df=pd.DataFrame(compare_dict)\n",
    "\n",
    "pred_compare_df['Long Error'] = pred_compare_df['Real Long'] - pred_compare_df['RF Long Pred']\n",
    "pred_compare_df['Lat Error'] = pred_compare_df['Real lat'] - pred_compare_df['RF Lat Pred']\n",
    "\n",
    "print(\"MAE on RF Regression validation data predicting Latitude = \" , mean_absolute_error(pred_compare_df['Real lat'], pred_compare_df['RF Lat Pred']))\n",
    "print(\"R squared on RF Regression validation data predicting Latitude = \" , r2_score(pred_compare_df['Real lat'], pred_compare_df['RF Lat Pred']))\n",
    "print(\"MSE on RF Regression validation data predicting Latitude = \" , mean_squared_error(pred_compare_df['Real lat'], pred_compare_df['RF Lat Pred']))\n",
    "print(\"RMSE on RF Regression validation data predicting Latitude = \" , mean_squared_error(pred_compare_df['Real lat'], pred_compare_df['RF Lat Pred'],squared=False))\n",
    "\n",
    "RF_valid_lat_errors=[mean_absolute_error(pred_compare_df['Real lat'], pred_compare_df['RF Lat Pred']),r2_score(pred_compare_df['Real lat'], pred_compare_df['RF Lat Pred']),mean_squared_error(pred_compare_df['Real lat'], pred_compare_df['RF Lat Pred']),\n",
    "               mean_squared_error(pred_compare_df['Real lat'], pred_compare_df['RF Lat Pred'],squared=False)]\n",
    "print('\\n')\n",
    "print(\"MAE on RF Regression validation data predicting Longitude = \" , mean_absolute_error(pred_compare_df['Real Long'], pred_compare_df['RF Long Pred']))\n",
    "print(\"R squared on RF Regression validation data predicting Longitude = \" , r2_score(pred_compare_df['Real Long'], pred_compare_df['RF Long Pred']))\n",
    "print(\"MSE on RF Regression validation data predicting Longitude = \" , mean_squared_error(pred_compare_df['Real Long'], pred_compare_df['RF Long Pred']))\n",
    "print(\"RMSE on RF Regression validation data predicting Longitude = \" , mean_squared_error(pred_compare_df['Real Long'], pred_compare_df['RF Long Pred'],squared=False))\n",
    "\n",
    "RF_valid_long_errors=[mean_absolute_error(pred_compare_df['Real Long'], pred_compare_df['RF Long Pred']),r2_score(pred_compare_df['Real Long'], pred_compare_df['RF Long Pred']),mean_squared_error(pred_compare_df['Real Long'], pred_compare_df['RF Long Pred']),\n",
    "               mean_squared_error(pred_compare_df['Real Long'], pred_compare_df['RF Long Pred'],squared=False)]"
   ]
  },
  {
   "cell_type": "markdown",
   "metadata": {},
   "source": [
    "### K Nearest Neighbours"
   ]
  },
  {
   "cell_type": "code",
   "execution_count": 129,
   "metadata": {
    "ExecuteTime": {
     "end_time": "2023-07-07T09:28:31.985308Z",
     "start_time": "2023-07-07T09:28:30.592673Z"
    },
    "scrolled": true
   },
   "outputs": [
    {
     "name": "stdout",
     "output_type": "stream",
     "text": [
      "MAE on KN Regression validation data predicting Latitude =  5.690228532906706\n",
      "R squared on KN Regression validation data predicting Latitude =  0.9708035296829614\n",
      "MSE on KN Regression validation data predicting Latitude =  144.05017146843286\n",
      "RMSE on KN Regression validation data predicting Latitude =  12.002090295795682\n",
      "\n",
      "\n",
      "MAE on KN Regression validation data predicting Longitude =  6.513229864852181\n",
      "R squared on KN Regression validation data predicting Longitude =  0.9832756361561437\n",
      "MSE on KN Regression validation data predicting Longitude =  241.4542882268587\n",
      "RMSE on KN Regression validation data predicting Longitude =  15.538799446123845\n"
     ]
    }
   ],
   "source": [
    "#Long and Lat predictions\n",
    "prediction_KN_reg_long_valid_df = model_KN_reg_long.predict(valid_df_results)\n",
    "prediction_KN_reg_lat_valid_df = model_KN_reg_lat.predict(valid_df_results)\n",
    "\n",
    "#Creating a DF to compare predicitions\n",
    "compare_dict_KN={'Real Long':valid_df_long_lat['LONGITUDE'],\n",
    "              'KN Long Pred':pd.Series(prediction_KN_reg_long_valid_df),\n",
    "              'Real lat': valid_df_long_lat['LATITUDE'], \n",
    "              'KN Lat Pred':pd.Series(prediction_KN_reg_lat_valid_df)}\n",
    "\n",
    "pred_compare_df_KN=pd.DataFrame(compare_dict_KN)\n",
    "\n",
    "pred_compare_df_KN['Long Error'] = pred_compare_df_KN['Real Long'] - pred_compare_df_KN['KN Long Pred']\n",
    "pred_compare_df_KN['Lat Error'] = pred_compare_df_KN['Real lat'] - pred_compare_df_KN['KN Lat Pred']\n",
    "\n",
    "print(\"MAE on KN Regression validation data predicting Latitude = \" , mean_absolute_error(pred_compare_df_KN['Real lat'], pred_compare_df_KN['KN Lat Pred']))\n",
    "print(\"R squared on KN Regression validation data predicting Latitude = \" , r2_score(pred_compare_df_KN['Real lat'], pred_compare_df_KN['KN Lat Pred']))\n",
    "print(\"MSE on KN Regression validation data predicting Latitude = \" , mean_squared_error(pred_compare_df_KN['Real lat'], pred_compare_df_KN['KN Lat Pred']))\n",
    "print(\"RMSE on KN Regression validation data predicting Latitude = \" , mean_squared_error(pred_compare_df_KN['Real lat'], pred_compare_df_KN['KN Lat Pred'],squared=False))\n",
    "\n",
    "KN_valid_lat_errors=[mean_absolute_error(pred_compare_df_KN['Real lat'], pred_compare_df_KN['KN Lat Pred']),r2_score(pred_compare_df_KN['Real lat'], pred_compare_df_KN['KN Lat Pred']),mean_squared_error(pred_compare_df_KN['Real lat'], pred_compare_df_KN['KN Lat Pred']),\n",
    "               mean_squared_error(pred_compare_df_KN['Real lat'], pred_compare_df_KN['KN Lat Pred'],squared=False)]\n",
    "print('\\n')\n",
    "print(\"MAE on KN Regression validation data predicting Longitude = \" , mean_absolute_error(pred_compare_df_KN['Real Long'], pred_compare_df_KN['KN Long Pred']))\n",
    "print(\"R squared on KN Regression validation data predicting Longitude = \" , r2_score(pred_compare_df_KN['Real Long'], pred_compare_df_KN['KN Long Pred']))\n",
    "print(\"MSE on KN Regression validation data predicting Longitude = \" , mean_squared_error(pred_compare_df_KN['Real Long'], pred_compare_df_KN['KN Long Pred']))\n",
    "print(\"RMSE on KN Regression validation data predicting Longitude = \" , mean_squared_error(pred_compare_df_KN['Real Long'], pred_compare_df_KN['KN Long Pred'],squared=False))\n",
    "\n",
    "KN_valid_long_errors=[mean_absolute_error(pred_compare_df_KN['Real Long'], pred_compare_df_KN['KN Long Pred']),r2_score(pred_compare_df_KN['Real Long'], pred_compare_df_KN['KN Long Pred']),mean_squared_error(pred_compare_df_KN['Real Long'], pred_compare_df_KN['KN Long Pred']),\n",
    "               mean_squared_error(pred_compare_df_KN['Real Long'], pred_compare_df_KN['KN Long Pred'],squared=False)]"
   ]
  },
  {
   "cell_type": "code",
   "execution_count": 137,
   "metadata": {
    "ExecuteTime": {
     "end_time": "2023-07-07T09:33:17.189624Z",
     "start_time": "2023-07-07T09:33:17.158545Z"
    }
   },
   "outputs": [
    {
     "name": "stdout",
     "output_type": "stream",
     "text": [
      "Longitude Errors:\n"
     ]
    },
    {
     "data": {
      "text/html": [
       "<div>\n",
       "<style scoped>\n",
       "    .dataframe tbody tr th:only-of-type {\n",
       "        vertical-align: middle;\n",
       "    }\n",
       "\n",
       "    .dataframe tbody tr th {\n",
       "        vertical-align: top;\n",
       "    }\n",
       "\n",
       "    .dataframe thead th {\n",
       "        text-align: right;\n",
       "    }\n",
       "</style>\n",
       "<table border=\"1\" class=\"dataframe\">\n",
       "  <thead>\n",
       "    <tr style=\"text-align: right;\">\n",
       "      <th></th>\n",
       "      <th>Random Forest</th>\n",
       "      <th>K Nearest Neighbours</th>\n",
       "    </tr>\n",
       "  </thead>\n",
       "  <tbody>\n",
       "    <tr>\n",
       "      <th>MAE</th>\n",
       "      <td>6.549370</td>\n",
       "      <td>6.513230</td>\n",
       "    </tr>\n",
       "    <tr>\n",
       "      <th>R Squared</th>\n",
       "      <td>0.993116</td>\n",
       "      <td>0.983276</td>\n",
       "    </tr>\n",
       "    <tr>\n",
       "      <th>MSE</th>\n",
       "      <td>99.381311</td>\n",
       "      <td>241.454288</td>\n",
       "    </tr>\n",
       "    <tr>\n",
       "      <th>RMSE</th>\n",
       "      <td>9.969018</td>\n",
       "      <td>15.538799</td>\n",
       "    </tr>\n",
       "  </tbody>\n",
       "</table>\n",
       "</div>"
      ],
      "text/plain": [
       "           Random Forest  K Nearest Neighbours\n",
       "MAE             6.549370              6.513230\n",
       "R Squared       0.993116              0.983276\n",
       "MSE            99.381311            241.454288\n",
       "RMSE            9.969018             15.538799"
      ]
     },
     "execution_count": 137,
     "metadata": {},
     "output_type": "execute_result"
    }
   ],
   "source": [
    "#Defining the labels for error comparison\n",
    "reg_model=['Random Forest','K Nearest Neighbours']\n",
    "error_stat=['MAE','R Squared', 'MSE','RMSE']\n",
    "\n",
    "df_valid_error_comp_lat=pd.DataFrame(columns=reg_model, index=error_stat\n",
    "                        )\n",
    "df_valid_error_comp_long=pd.DataFrame(columns=reg_model, index=error_stat\n",
    "                        )\n",
    "\n",
    "df_valid_error_comp_lat['Random Forest']=RF_valid_lat_errors\n",
    "df_valid_error_comp_lat['K Nearest Neighbours'] = KN_valid_lat_errors\n",
    "df_valid_error_comp_long['Random Forest']=RF_valid_long_errors\n",
    "df_valid_error_comp_long['K Nearest Neighbours'] = KN_valid_long_errors\n",
    "\n",
    "print(\"Longitude Errors:\")\n",
    "df_valid_error_comp_long"
   ]
  },
  {
   "cell_type": "code",
   "execution_count": 136,
   "metadata": {
    "ExecuteTime": {
     "end_time": "2023-07-07T09:33:14.263101Z",
     "start_time": "2023-07-07T09:33:14.240159Z"
    }
   },
   "outputs": [
    {
     "name": "stdout",
     "output_type": "stream",
     "text": [
      "Latitude Errors:\n"
     ]
    },
    {
     "data": {
      "text/html": [
       "<div>\n",
       "<style scoped>\n",
       "    .dataframe tbody tr th:only-of-type {\n",
       "        vertical-align: middle;\n",
       "    }\n",
       "\n",
       "    .dataframe tbody tr th {\n",
       "        vertical-align: top;\n",
       "    }\n",
       "\n",
       "    .dataframe thead th {\n",
       "        text-align: right;\n",
       "    }\n",
       "</style>\n",
       "<table border=\"1\" class=\"dataframe\">\n",
       "  <thead>\n",
       "    <tr style=\"text-align: right;\">\n",
       "      <th></th>\n",
       "      <th>Random Forest</th>\n",
       "      <th>K Nearest Neighbours</th>\n",
       "    </tr>\n",
       "  </thead>\n",
       "  <tbody>\n",
       "    <tr>\n",
       "      <th>MAE</th>\n",
       "      <td>6.498630</td>\n",
       "      <td>5.690229</td>\n",
       "    </tr>\n",
       "    <tr>\n",
       "      <th>R Squared</th>\n",
       "      <td>0.979446</td>\n",
       "      <td>0.970804</td>\n",
       "    </tr>\n",
       "    <tr>\n",
       "      <th>MSE</th>\n",
       "      <td>101.408535</td>\n",
       "      <td>144.050171</td>\n",
       "    </tr>\n",
       "    <tr>\n",
       "      <th>RMSE</th>\n",
       "      <td>10.070181</td>\n",
       "      <td>12.002090</td>\n",
       "    </tr>\n",
       "  </tbody>\n",
       "</table>\n",
       "</div>"
      ],
      "text/plain": [
       "           Random Forest  K Nearest Neighbours\n",
       "MAE             6.498630              5.690229\n",
       "R Squared       0.979446              0.970804\n",
       "MSE           101.408535            144.050171\n",
       "RMSE           10.070181             12.002090"
      ]
     },
     "execution_count": 136,
     "metadata": {},
     "output_type": "execute_result"
    }
   ],
   "source": [
    "print(\"Latitude Errors:\")\n",
    "df_valid_error_comp_lat"
   ]
  },
  {
   "cell_type": "code",
   "execution_count": 141,
   "metadata": {
    "ExecuteTime": {
     "end_time": "2023-07-07T09:38:48.302229Z",
     "start_time": "2023-07-07T09:38:47.830194Z"
    },
    "scrolled": false
   },
   "outputs": [
    {
     "data": {
      "text/plain": [
       "Text(0.5, 1.0, 'K Nearest Neighbours Predicted Values')"
      ]
     },
     "execution_count": 141,
     "metadata": {},
     "output_type": "execute_result"
    },
    {
     "data": {
      "image/png": "[encoded data removed]",
      "text/plain": [
       "<Figure size 576x1152 with 3 Axes>"
      ]
     },
     "metadata": {
      "needs_background": "light"
     },
     "output_type": "display_data"
    }
   ],
   "source": [
    "fig, (ax01,ax02,ax03) = plt.subplots(nrows=3,ncols=1,figsize = (8,16), sharex = True)\n",
    "#fonts\n",
    "fontdict = {'fontsize': 18}\n",
    "fontdict_yaxis = {'fontsize': 14}\n",
    "\n",
    "#x axis\n",
    "plt.xlabel('Latitude',fontdict = fontdict_yaxis)\n",
    "\n",
    "ax01.plot(valid_df_long_lat['LONGITUDE'],valid_df_long_lat['LATITUDE'],'o')\n",
    "ax01.set_ylabel('Longitude', fontdict = fontdict_yaxis); \n",
    "ax01.set_title('Real Values', fontdict= fontdict);\n",
    "\n",
    "ax02.plot(prediction_RF_reg_long_valid_df ,prediction_RF_reg_lat_valid_df,'go')\n",
    "ax02.set_ylabel('Longitude', fontdict = fontdict_yaxis); \n",
    "ax02.set_title('Random Forest Predicted Values', fontdict= fontdict);\n",
    "\n",
    "ax03.plot(prediction_KN_reg_long_valid_df,prediction_KN_reg_lat_valid_df,'bo')\n",
    "ax03.set_ylabel('Longitude', fontdict = fontdict_yaxis); \n",
    "ax03.set_title('K Nearest Neighbours Predicted Values', fontdict= fontdict)"
   ]
  },
  {
   "cell_type": "markdown",
   "metadata": {},
   "source": [
    "# Can we guess a location from only WIFI strength?"
   ]
  },
  {
   "cell_type": "markdown",
   "metadata": {},
   "source": [
    "We are going to investigate how closely we can predict a points longitude and latitude based on the Wifi singal strength. "
   ]
  },
  {
   "cell_type": "markdown",
   "metadata": {},
   "source": [
    "### Building & Floor Classification"
   ]
  },
  {
   "cell_type": "markdown",
   "metadata": {},
   "source": [
    "We will start off trying to predict the Building number and floor number of a signal spot based on the WIFI signal strength registered."
   ]
  },
  {
   "cell_type": "code",
   "execution_count": 23,
   "metadata": {
    "ExecuteTime": {
     "end_time": "2023-07-06T15:36:11.064534Z",
     "start_time": "2023-07-06T15:36:10.804014Z"
    }
   },
   "outputs": [],
   "source": [
    "#Creating the independant variables (WIFI SIGNALS) dataframe dependant variable (BUILDING NUMBER)\n",
    "indep_var_BUILDING = df_reg.iloc[:,:520]\n",
    "dep_var_BUILDING = df_reg['BUILDINGID']\n",
    "\n",
    "#Creating the independant variables (WIFI SIGNALS + BUILDING NUMBER) dataframe dependant variable (FLOOR NUMBER)\n",
    "indep_var_FLOOR = df_reg.iloc[:,:520].merge(df_reg['BUILDINGID'], left_index=True,right_index=True)\n",
    "dep_var_FLOOR= df_reg['FLOOR'] \n",
    "\n",
    "#Defining variables to guess the building number\n",
    "indep_var_BUILDING_train, indep_var_BUILDING_test,dep_var_BUILDING_train, dep_var_BUILDING_test = train_test_split(indep_var_BUILDING, \n",
    "                                                                 dep_var_BUILDING, test_size = .30,\n",
    "                                                                 random_state = 123)\n",
    "\n",
    "#Defining variables to guess the floor number\n",
    "indep_var_FLOOR_train, indep_var_FLOOR_test,dep_var_FLOOR_train, dep_var_FLOOR_test = train_test_split(indep_var_FLOOR, dep_var_FLOOR,\n",
    "                                                           test_size = .30, random_state = 123)"
   ]
  },
  {
   "cell_type": "markdown",
   "metadata": {},
   "source": [
    "### Random Forest Classifier to predict Building & Floor"
   ]
  },
  {
   "cell_type": "code",
   "execution_count": 24,
   "metadata": {
    "ExecuteTime": {
     "end_time": "2023-07-06T15:36:17.301131Z",
     "start_time": "2023-07-06T15:36:11.072108Z"
    }
   },
   "outputs": [],
   "source": [
    "#Define the classifying algos\n",
    "algo_RF_B = RandomForestClassifier() \n",
    "algo_RF_F = RandomForestClassifier() \n",
    "\n",
    "#Fit the algo to our independant & dependant (BUILDING) var training set\n",
    "model_RF_BUILDING = algo_RF_B.fit(indep_var_BUILDING_train,dep_var_BUILDING_train)\n",
    "\n",
    "#Fit the algo to our independant & dependant (FLOOR) var training set\n",
    "model_RF_FLOOR = algo_RF_F.fit(indep_var_FLOOR_train,dep_var_FLOOR_train)\n",
    "\n",
    "#Prediction of the building number on our unseen test set\n",
    "prediction_RF_BUILDING = model_RF_BUILDING.predict(indep_var_BUILDING_test)\n",
    "\n",
    "#Prediction of the floor number on our unseen test set\n",
    "prediction_RF_FLOOR = model_RF_FLOOR.predict(indep_var_FLOOR_test)"
   ]
  },
  {
   "cell_type": "code",
   "execution_count": 25,
   "metadata": {
    "ExecuteTime": {
     "end_time": "2023-07-06T15:36:17.335084Z",
     "start_time": "2023-07-06T15:36:17.301636Z"
    },
    "scrolled": false
   },
   "outputs": [
    {
     "name": "stdout",
     "output_type": "stream",
     "text": [
      "Almost 100% accuracy in guessing the building number based off the wifi singals:\n",
      "              precision    recall  f1-score   support\n",
      "\n",
      "           0       1.00      1.00      1.00      1584\n",
      "           1       1.00      0.99      1.00      1460\n",
      "           2       1.00      1.00      1.00      2746\n",
      "\n",
      "    accuracy                           1.00      5790\n",
      "   macro avg       1.00      1.00      1.00      5790\n",
      "weighted avg       1.00      1.00      1.00      5790\n",
      "\n"
     ]
    }
   ],
   "source": [
    "print(\"Almost 100% accuracy in guessing the building number based off the wifi singals:\")\n",
    "print(classification_report(dep_var_BUILDING_test, prediction_RF_BUILDING))"
   ]
  },
  {
   "cell_type": "code",
   "execution_count": 26,
   "metadata": {
    "ExecuteTime": {
     "end_time": "2023-07-06T15:36:17.366890Z",
     "start_time": "2023-07-06T15:36:17.337081Z"
    },
    "scrolled": false
   },
   "outputs": [
    {
     "name": "stdout",
     "output_type": "stream",
     "text": [
      "Almost 100% accuracy in guessing the Floor number based off the wifi singals & building number:\n",
      "              precision    recall  f1-score   support\n",
      "\n",
      "           0       1.00      1.00      1.00      1284\n",
      "           1       1.00      1.00      1.00      1417\n",
      "           2       1.00      1.00      1.00      1318\n",
      "           3       1.00      1.00      1.00      1555\n",
      "           4       1.00      1.00      1.00       216\n",
      "\n",
      "    accuracy                           1.00      5790\n",
      "   macro avg       1.00      1.00      1.00      5790\n",
      "weighted avg       1.00      1.00      1.00      5790\n",
      "\n"
     ]
    }
   ],
   "source": [
    "print(\"Almost 100% accuracy in guessing the Floor number based off the wifi singals & building number:\")\n",
    "print(classification_report(dep_var_FLOOR_test, prediction_RF_FLOOR))"
   ]
  },
  {
   "cell_type": "markdown",
   "metadata": {},
   "source": [
    "We have an extremely high accuracy in predicting which building and floor each data point was recorded on."
   ]
  },
  {
   "cell_type": "markdown",
   "metadata": {},
   "source": [
    "## Regression models for Long/Lat based on buildings"
   ]
  },
  {
   "cell_type": "markdown",
   "metadata": {},
   "source": [
    "We will now use our predictions for the building and floor to formulate a longitude and latitude for each data point.\n",
    "\n",
    "A each building defines a longitude and latitude boundary, we will train models individually to try and make the predictions as accurate as possible."
   ]
  },
  {
   "cell_type": "code",
   "execution_count": 27,
   "metadata": {
    "ExecuteTime": {
     "end_time": "2023-07-06T15:36:17.428627Z",
     "start_time": "2023-07-06T15:36:17.368077Z"
    }
   },
   "outputs": [],
   "source": [
    "#Creating seperate dataframes for each building, we will use these sets to train our regression models \n",
    "B_0_df_reg = df_reg[df_reg['BUILDINGID']==0]\n",
    "B_1_df_reg = df_reg[df_reg['BUILDINGID']==1]\n",
    "B_2_df_reg = df_reg[df_reg['BUILDINGID']==2]"
   ]
  },
  {
   "cell_type": "markdown",
   "metadata": {},
   "source": [
    "### Building 0"
   ]
  },
  {
   "cell_type": "code",
   "execution_count": 28,
   "metadata": {
    "ExecuteTime": {
     "end_time": "2023-07-06T15:36:17.507835Z",
     "start_time": "2023-07-06T15:36:17.430647Z"
    }
   },
   "outputs": [],
   "source": [
    "#Defining our independant variables for Longitude and Latitude\n",
    "\n",
    "#Longitude\n",
    "indep_var_regression_long_b0 = B_0_df_reg.iloc[:,:520].merge(B_0_df_reg['FLOOR'], left_index=True,right_index=True)\n",
    "dep_var_regression_long_b0 = B_0_df_reg['LONGITUDE'] \n",
    "\n",
    "#Latitude\n",
    "indep_var_regression_lat_b0 = B_0_df_reg.iloc[:,:520].merge(B_0_df_reg['FLOOR'], left_index=True,right_index=True)\n",
    "dep_var_regression_lat_b0 = B_0_df_reg['LATITUDE'] \n",
    "\n",
    "#Creating our test/train split independant and dependant variables\n",
    "indep_var_regression_long_b0_train, indep_var_regression_long_b0_test, dep_var_regression_long_b0_train,dep_var_regression_long_b0_test = train_test_split(indep_var_regression_long_b0, dep_var_regression_long_b0,test_size = .30, random_state = 123)\n",
    "indep_var_regression_lat_b0_train, indep_var_regression_lat_b0_test, dep_var_regression_lat_b0_train,dep_var_regression_lat_b0_test = train_test_split(indep_var_regression_lat_b0, dep_var_regression_lat_b0, test_size = .30, random_state = 123)"
   ]
  },
  {
   "cell_type": "markdown",
   "metadata": {},
   "source": [
    "#### Random Forest"
   ]
  },
  {
   "cell_type": "markdown",
   "metadata": {},
   "source": [
    "###### Longitude"
   ]
  },
  {
   "cell_type": "code",
   "execution_count": 29,
   "metadata": {
    "ExecuteTime": {
     "end_time": "2023-07-06T15:36:24.324160Z",
     "start_time": "2023-07-06T15:36:17.509827Z"
    }
   },
   "outputs": [],
   "source": [
    "algo_RF_reg_long2= RandomForestRegressor() #Define the algo\n",
    "model_RF_reg_b0_long = algo_RF_reg_long2.fit(indep_var_regression_long_b0_train,\n",
    "                                             dep_var_regression_long_b0_train) #fit the model\n",
    "prediction_RF_reg_b0_long = model_RF_reg_b0_long.predict(indep_var_regression_long_b0_test) #Prediction"
   ]
  },
  {
   "cell_type": "code",
   "execution_count": 30,
   "metadata": {
    "ExecuteTime": {
     "end_time": "2023-07-06T15:36:24.342086Z",
     "start_time": "2023-07-06T15:36:24.325157Z"
    },
    "scrolled": true
   },
   "outputs": [
    {
     "name": "stdout",
     "output_type": "stream",
     "text": [
      "MAE on Random Forest Regression train data (Building 0) =  1.8432651662715251\n",
      "R squared on Random Forest Regression train data (Building 0) =  0.9803200082051076\n",
      "MSE on Random Forest Regression train data (Building 0) =  12.480561139874567\n",
      "RMSE on Random Forest Regression train data (Building 0) =  3.532783766362522\n"
     ]
    }
   ],
   "source": [
    "print(\"MAE on Random Forest Regression train data (Building 0) = \" , mean_absolute_error(dep_var_regression_long_b0_test, prediction_RF_reg_b0_long))\n",
    "print(\"R squared on Random Forest Regression train data (Building 0) = \" , r2_score(dep_var_regression_long_b0_test, prediction_RF_reg_b0_long))\n",
    "print(\"MSE on Random Forest Regression train data (Building 0) = \" , mean_squared_error(dep_var_regression_long_b0_test, prediction_RF_reg_b0_long))\n",
    "print(\"RMSE on Random Forest Regression train data (Building 0) = \" , mean_squared_error(dep_var_regression_long_b0_test, prediction_RF_reg_b0_long,squared=False))\n",
    "\n",
    "RF_long_b0_errors=[mean_absolute_error(dep_var_regression_long_b0_test, prediction_RF_reg_b0_long),r2_score(dep_var_regression_long_b0_test, prediction_RF_reg_b0_long),mean_squared_error(dep_var_regression_long_b0_test, prediction_RF_reg_b0_long),\n",
    "               mean_squared_error(dep_var_regression_long_b0_test, prediction_RF_reg_b0_long,squared=False)]"
   ]
  },
  {
   "cell_type": "markdown",
   "metadata": {},
   "source": [
    "###### Latitude"
   ]
  },
  {
   "cell_type": "code",
   "execution_count": 31,
   "metadata": {
    "ExecuteTime": {
     "end_time": "2023-07-06T15:36:31.579406Z",
     "start_time": "2023-07-06T15:36:24.342591Z"
    }
   },
   "outputs": [],
   "source": [
    "algo_RF_reg_lat2 = RandomForestRegressor() # Define the algo\n",
    "model_RF_reg_b0_lat = algo_RF_reg_lat2.fit(indep_var_regression_lat_b0_train,\n",
    "                                           dep_var_regression_lat_b0_train) # fit the model\n",
    "prediction_RF_reg_b0_lat = model_RF_reg_b0_lat.predict(indep_var_regression_lat_b0_test) # Prediciton"
   ]
  },
  {
   "cell_type": "code",
   "execution_count": 32,
   "metadata": {
    "ExecuteTime": {
     "end_time": "2023-07-06T15:36:31.594647Z",
     "start_time": "2023-07-06T15:36:31.581678Z"
    },
    "scrolled": true
   },
   "outputs": [
    {
     "name": "stdout",
     "output_type": "stream",
     "text": [
      "MAE on Random Forest Regression train data predicting Latitude (Building 0) =  1.4568609967520116\n",
      "R squared on Random Forest Regression train data predicting Latitude (Building 0) =  0.9942731164777896\n",
      "MSE on Random Forest Regression train data predicting Latitude (Building 0) =  6.1634306826923515\n",
      "RMSE on Random Forest Regression train data predicting Latitude (Building 0) =  2.482625763721216\n"
     ]
    }
   ],
   "source": [
    "print(\"MAE on Random Forest Regression train data predicting Latitude (Building 0) = \" , mean_absolute_error(dep_var_regression_lat_b0_test, prediction_RF_reg_b0_lat))\n",
    "print(\"R squared on Random Forest Regression train data predicting Latitude (Building 0) = \" , r2_score(dep_var_regression_lat_b0_test, prediction_RF_reg_b0_lat))\n",
    "print(\"MSE on Random Forest Regression train data predicting Latitude (Building 0) = \" , mean_squared_error(dep_var_regression_lat_b0_test, prediction_RF_reg_b0_lat))\n",
    "print(\"RMSE on Random Forest Regression train data predicting Latitude (Building 0) = \" , mean_squared_error(dep_var_regression_lat_b0_test, prediction_RF_reg_b0_lat,squared=False))\n",
    "\n",
    "RF_lat_b0_errors=[mean_absolute_error(dep_var_regression_lat_b0_test, prediction_RF_reg_b0_lat),r2_score(dep_var_regression_lat_b0_test, prediction_RF_reg_b0_lat),mean_squared_error(dep_var_regression_lat_b0_test, prediction_RF_reg_b0_lat),\n",
    "               mean_squared_error(dep_var_regression_lat_b0_test, prediction_RF_reg_b0_lat,squared=False)]"
   ]
  },
  {
   "cell_type": "markdown",
   "metadata": {},
   "source": [
    "#### K Nearest Neighbours"
   ]
  },
  {
   "cell_type": "markdown",
   "metadata": {},
   "source": [
    "###### Longitude"
   ]
  },
  {
   "cell_type": "code",
   "execution_count": 33,
   "metadata": {
    "ExecuteTime": {
     "end_time": "2023-07-06T15:36:31.813891Z",
     "start_time": "2023-07-06T15:36:31.596280Z"
    }
   },
   "outputs": [],
   "source": [
    "algo_KN_reg_long2 = KNeighborsRegressor()\n",
    "model_KN_reg_b0_long = algo_KN_reg_long2.fit(indep_var_regression_long_b0_train,\n",
    "                                             dep_var_regression_long_b0_train)\n",
    "prediction_KN_reg_b0_long = model_KN_reg_b0_long.predict(indep_var_regression_long_b0_test)"
   ]
  },
  {
   "cell_type": "code",
   "execution_count": 34,
   "metadata": {
    "ExecuteTime": {
     "end_time": "2023-07-06T15:36:31.829162Z",
     "start_time": "2023-07-06T15:36:31.816250Z"
    },
    "scrolled": true
   },
   "outputs": [
    {
     "name": "stdout",
     "output_type": "stream",
     "text": [
      "MAE on K Nearest Neighbours Regression train data (Building 0) =  1.552031373670978\n",
      "R squared on K Nearest Neighbours Regression train data (Building 0) =  0.9842221453762703\n",
      "MSE on K Nearest Neighbours Regression train data (Building 0) =  10.005922834714658\n",
      "RMSE on K Nearest Neighbours Regression train data (Building 0) =  3.1632140039388195\n"
     ]
    }
   ],
   "source": [
    "print(\"MAE on K Nearest Neighbours Regression train data (Building 0) = \" , mean_absolute_error(dep_var_regression_long_b0_test, prediction_KN_reg_b0_long))\n",
    "print(\"R squared on K Nearest Neighbours Regression train data (Building 0) = \" , r2_score(dep_var_regression_long_b0_test, prediction_KN_reg_b0_long))\n",
    "print(\"MSE on K Nearest Neighbours Regression train data (Building 0) = \" , mean_squared_error(dep_var_regression_long_b0_test, prediction_KN_reg_b0_long))\n",
    "print(\"RMSE on K Nearest Neighbours Regression train data (Building 0) = \" , mean_squared_error(dep_var_regression_long_b0_test, prediction_KN_reg_b0_long,squared=False))\n",
    "\n",
    "KN_long_b0_errors=[mean_absolute_error(dep_var_regression_long_b0_test, prediction_KN_reg_b0_long),r2_score(dep_var_regression_long_b0_test, prediction_KN_reg_b0_long),mean_squared_error(dep_var_regression_long_b0_test, prediction_KN_reg_b0_long),\n",
    "               mean_squared_error(dep_var_regression_long_b0_test, prediction_KN_reg_b0_long,squared=False)]"
   ]
  },
  {
   "cell_type": "markdown",
   "metadata": {},
   "source": [
    "###### Latitude"
   ]
  },
  {
   "cell_type": "code",
   "execution_count": 35,
   "metadata": {
    "ExecuteTime": {
     "end_time": "2023-07-06T15:36:32.080781Z",
     "start_time": "2023-07-06T15:36:31.839387Z"
    }
   },
   "outputs": [],
   "source": [
    "algo_KN_reg_lat2= KNeighborsRegressor()\n",
    "model_KN_reg_b0_lat = algo_KN_reg_lat2.fit(indep_var_regression_lat_b0_train,\n",
    "                                           dep_var_regression_lat_b0_train)\n",
    "prediction_KN_reg_b0_lat = model_KN_reg_b0_lat.predict(indep_var_regression_lat_b0_test)"
   ]
  },
  {
   "cell_type": "code",
   "execution_count": 36,
   "metadata": {
    "ExecuteTime": {
     "end_time": "2023-07-06T15:36:32.099215Z",
     "start_time": "2023-07-06T15:36:32.083284Z"
    }
   },
   "outputs": [
    {
     "name": "stdout",
     "output_type": "stream",
     "text": [
      "MAE on K Nearest Neighbours Regression train data predicting Latitude (Building 0) =  1.400609971573186\n",
      "R squared on K Nearest Neighbours Regression train data predicting Latitude (Building 0) =  0.9937302355795361\n",
      "MSE on K Nearest Neighbours Regression train data predicting Latitude (Building 0) =  6.747694143327812\n",
      "RMSE on K Nearest Neighbours Regression train data predicting Latitude (Building 0) =  2.5976324111251405\n"
     ]
    }
   ],
   "source": [
    "print(\"MAE on K Nearest Neighbours Regression train data predicting Latitude (Building 0) = \" , mean_absolute_error(dep_var_regression_lat_b0_test, prediction_KN_reg_b0_lat))\n",
    "print(\"R squared on K Nearest Neighbours Regression train data predicting Latitude (Building 0) = \" , r2_score(dep_var_regression_lat_b0_test, prediction_KN_reg_b0_lat))\n",
    "print(\"MSE on K Nearest Neighbours Regression train data predicting Latitude (Building 0) = \" , mean_squared_error(dep_var_regression_lat_b0_test, prediction_KN_reg_b0_lat))\n",
    "print(\"RMSE on K Nearest Neighbours Regression train data predicting Latitude (Building 0) = \" , mean_squared_error(dep_var_regression_lat_b0_test, prediction_KN_reg_b0_lat,squared=False))\n",
    "\n",
    "KN_lat_b0_errors=[mean_absolute_error(dep_var_regression_lat_b0_test, prediction_KN_reg_b0_lat),r2_score(dep_var_regression_lat_b0_test, prediction_KN_reg_b0_lat),mean_squared_error(dep_var_regression_lat_b0_test, prediction_KN_reg_b0_lat),\n",
    "               mean_squared_error(dep_var_regression_lat_b0_test, prediction_KN_reg_b0_lat,squared=False)]"
   ]
  },
  {
   "cell_type": "markdown",
   "metadata": {},
   "source": [
    "### Building 1"
   ]
  },
  {
   "cell_type": "code",
   "execution_count": 37,
   "metadata": {
    "ExecuteTime": {
     "end_time": "2023-07-06T15:36:32.177935Z",
     "start_time": "2023-07-06T15:36:32.100216Z"
    }
   },
   "outputs": [],
   "source": [
    "#Longitude\n",
    "indep_var_regression_long_b1 = B_1_df_reg.iloc[:,:520].merge(B_1_df_reg['FLOOR'], left_index=True,right_index=True)\n",
    "dep_var_regression_long_b1 = B_1_df_reg['LONGITUDE']\n",
    "\n",
    "#Latitude\n",
    "indep_var_regression_lat_b1 = B_1_df_reg.iloc[:,:520].merge(B_1_df_reg['FLOOR'], left_index=True,right_index=True) \n",
    "dep_var_regression_lat_b1 = B_1_df_reg['LATITUDE'] \n",
    "\n",
    "#Test/train split\n",
    "indep_var_regression_long_b1_train, indep_var_regression_long_b1_test, dep_var_regression_long_b1_train,dep_var_regression_long_b1_test = train_test_split(indep_var_regression_long_b1, dep_var_regression_long_b1, test_size = .30, random_state = 123)\n",
    "indep_var_regression_lat_b1_train, indep_var_regression_lat_b1_test, dep_var_regression_lat_b1_train,dep_var_regression_lat_b1_test = train_test_split(indep_var_regression_lat_b1, dep_var_regression_lat_b1, test_size = .30, random_state = 123)"
   ]
  },
  {
   "cell_type": "markdown",
   "metadata": {},
   "source": [
    "#### Random Forest"
   ]
  },
  {
   "cell_type": "markdown",
   "metadata": {},
   "source": [
    "###### Longitude"
   ]
  },
  {
   "cell_type": "code",
   "execution_count": 38,
   "metadata": {
    "ExecuteTime": {
     "end_time": "2023-07-06T15:36:38.260013Z",
     "start_time": "2023-07-06T15:36:32.184779Z"
    }
   },
   "outputs": [],
   "source": [
    "algo_RF_reg_b1_long = RandomForestRegressor()\n",
    "model_RF_reg_b1_long = algo_RF_reg_b1_long.fit(indep_var_regression_long_b1_train,\n",
    "                                               dep_var_regression_long_b1_train)\n",
    "prediction_RF_reg_b1_long = model_RF_reg_b1_long.predict(indep_var_regression_long_b1_test)"
   ]
  },
  {
   "cell_type": "code",
   "execution_count": 39,
   "metadata": {
    "ExecuteTime": {
     "end_time": "2023-07-06T15:36:38.275915Z",
     "start_time": "2023-07-06T15:36:38.260013Z"
    }
   },
   "outputs": [
    {
     "name": "stdout",
     "output_type": "stream",
     "text": [
      "MAE on Random Forest Regression train data predicting Longitude (Building 1) =  2.471910141589952\n",
      "R squared on Random Forest Regression train data predicting Longitude (Building 1) =  0.9923255215082137\n",
      "MSE on Random Forest Regression train data predicting Longitude (Building 1) =  19.519242619753054\n",
      "RMSE on Random Forest Regression train data predicting Longitude (Building 1) =  4.4180586935613535\n"
     ]
    }
   ],
   "source": [
    "print(\"MAE on Random Forest Regression train data predicting Longitude (Building 1) = \" , mean_absolute_error(dep_var_regression_long_b1_test, prediction_RF_reg_b1_long))\n",
    "print(\"R squared on Random Forest Regression train data predicting Longitude (Building 1) = \" , r2_score(dep_var_regression_long_b1_test, prediction_RF_reg_b1_long))\n",
    "print(\"MSE on Random Forest Regression train data predicting Longitude (Building 1) = \" , mean_squared_error(dep_var_regression_long_b1_test, prediction_RF_reg_b1_long))\n",
    "print(\"RMSE on Random Forest Regression train data predicting Longitude (Building 1) = \" , mean_squared_error(dep_var_regression_long_b1_test, prediction_RF_reg_b1_long,squared=False))\n",
    "\n",
    "RF_long_b1_errors=[mean_absolute_error(dep_var_regression_long_b1_test, prediction_RF_reg_b1_long),r2_score(dep_var_regression_long_b1_test, prediction_RF_reg_b1_long),mean_squared_error(dep_var_regression_long_b1_test, prediction_RF_reg_b1_long),\n",
    "               mean_squared_error(dep_var_regression_long_b1_test, prediction_RF_reg_b1_long,squared=False)]"
   ]
  },
  {
   "cell_type": "markdown",
   "metadata": {},
   "source": [
    "###### Latitude"
   ]
  },
  {
   "cell_type": "code",
   "execution_count": 40,
   "metadata": {
    "ExecuteTime": {
     "end_time": "2023-07-06T15:36:44.544256Z",
     "start_time": "2023-07-06T15:36:38.282609Z"
    }
   },
   "outputs": [],
   "source": [
    "algo_RF_reg_b1_lat = RandomForestRegressor()\n",
    "model_RF_reg_b1_lat = algo_RF_reg_b1_lat.fit(indep_var_regression_lat_b1_train,\n",
    "                                             dep_var_regression_lat_b1_train)\n",
    "prediction_RF_reg_b1_lat = model_RF_reg_b1_lat.predict(indep_var_regression_lat_b1_test)"
   ]
  },
  {
   "cell_type": "code",
   "execution_count": 41,
   "metadata": {
    "ExecuteTime": {
     "end_time": "2023-07-06T15:36:44.560396Z",
     "start_time": "2023-07-06T15:36:44.545238Z"
    },
    "scrolled": false
   },
   "outputs": [
    {
     "name": "stdout",
     "output_type": "stream",
     "text": [
      "MAE on Random Forest Regression train data predicting Latitude (Building 1) =  2.343969962396879\n",
      "R squared on Random Forest Regression train data predicting Latitude (Building 1) =  0.9856799766790819\n",
      "MSE on Random Forest Regression train data predicting Latitude (Building 1) =  19.379970667195927\n",
      "RMSE on Random Forest Regression train data predicting Latitude (Building 1) =  4.402268809056976\n"
     ]
    }
   ],
   "source": [
    "print(\"MAE on Random Forest Regression train data predicting Latitude (Building 1) = \" , mean_absolute_error(dep_var_regression_lat_b1_test, prediction_RF_reg_b1_lat))\n",
    "print(\"R squared on Random Forest Regression train data predicting Latitude (Building 1) = \" , r2_score(dep_var_regression_lat_b1_test, prediction_RF_reg_b1_lat))\n",
    "print(\"MSE on Random Forest Regression train data predicting Latitude (Building 1) = \" , mean_squared_error(dep_var_regression_lat_b1_test, prediction_RF_reg_b1_lat))\n",
    "print(\"RMSE on Random Forest Regression train data predicting Latitude (Building 1) = \" , mean_squared_error(dep_var_regression_lat_b1_test, prediction_RF_reg_b1_lat,squared=False))\n",
    "\n",
    "RF_lat_b1_errors=[mean_absolute_error(dep_var_regression_lat_b1_test, prediction_RF_reg_b1_lat),r2_score(dep_var_regression_lat_b1_test, prediction_RF_reg_b1_lat),mean_squared_error(dep_var_regression_lat_b1_test, prediction_RF_reg_b1_lat),\n",
    "               mean_squared_error(dep_var_regression_lat_b1_test, prediction_RF_reg_b1_lat,squared=False)]"
   ]
  },
  {
   "cell_type": "markdown",
   "metadata": {
    "heading_collapsed": true
   },
   "source": [
    "#### K Nearest Neighbours"
   ]
  },
  {
   "cell_type": "markdown",
   "metadata": {
    "hidden": true
   },
   "source": [
    "###### Longitude"
   ]
  },
  {
   "cell_type": "code",
   "execution_count": 42,
   "metadata": {
    "ExecuteTime": {
     "end_time": "2023-07-06T15:36:44.765757Z",
     "start_time": "2023-07-06T15:36:44.562332Z"
    },
    "hidden": true
   },
   "outputs": [],
   "source": [
    "algo_KN_reg_b1_long=KNeighborsRegressor()\n",
    "model_KN_reg_b1_long = algo_KN_reg_b1_long.fit(indep_var_regression_long_b1_train,\n",
    "                                               dep_var_regression_long_b1_train)\n",
    "prediction_KN_reg_b1_long = model_KN_reg_b1_long.predict(indep_var_regression_long_b1_test)"
   ]
  },
  {
   "cell_type": "code",
   "execution_count": 43,
   "metadata": {
    "ExecuteTime": {
     "end_time": "2023-07-06T15:36:44.780946Z",
     "start_time": "2023-07-06T15:36:44.767502Z"
    },
    "hidden": true,
    "scrolled": true
   },
   "outputs": [
    {
     "name": "stdout",
     "output_type": "stream",
     "text": [
      "MAE on K Nearest Neighbours Regression train data (Building 1) =  2.0641809202772423\n",
      "R squared on K Nearest Neighbours Regression train data (Building 1) =  0.9924113502295063\n",
      "MSE on K Nearest Neighbours Regression train data (Building 1) =  19.300946140527042\n",
      "RMSE on K Nearest Neighbours Regression train data (Building 1) =  4.393284208940623\n"
     ]
    }
   ],
   "source": [
    "print(\"MAE on K Nearest Neighbours Regression train data (Building 1) = \" , mean_absolute_error(dep_var_regression_long_b1_test, prediction_KN_reg_b1_long))\n",
    "print(\"R squared on K Nearest Neighbours Regression train data (Building 1) = \" , r2_score(dep_var_regression_long_b1_test, prediction_KN_reg_b1_long))\n",
    "print(\"MSE on K Nearest Neighbours Regression train data (Building 1) = \" , mean_squared_error(dep_var_regression_long_b1_test, prediction_KN_reg_b1_long))\n",
    "print(\"RMSE on K Nearest Neighbours Regression train data (Building 1) = \" , mean_squared_error(dep_var_regression_long_b1_test, prediction_KN_reg_b1_long,squared=False))\n",
    "\n",
    "KN_long_b1_errors=[mean_absolute_error(dep_var_regression_long_b1_test, prediction_KN_reg_b1_long),r2_score(dep_var_regression_long_b1_test, prediction_KN_reg_b1_long),mean_squared_error(dep_var_regression_long_b1_test, prediction_KN_reg_b1_long),\n",
    "               mean_squared_error(dep_var_regression_long_b1_test, prediction_KN_reg_b1_long,squared=False)]"
   ]
  },
  {
   "cell_type": "markdown",
   "metadata": {
    "hidden": true
   },
   "source": [
    "###### Latitude"
   ]
  },
  {
   "cell_type": "code",
   "execution_count": 44,
   "metadata": {
    "ExecuteTime": {
     "end_time": "2023-07-06T15:36:45.005535Z",
     "start_time": "2023-07-06T15:36:44.782944Z"
    },
    "hidden": true
   },
   "outputs": [],
   "source": [
    "algo_KN_reg_b1_lat=KNeighborsRegressor()\n",
    "model_KN_reg_b1_lat = algo_KN_reg_b1_lat.fit(indep_var_regression_lat_b1_train,\n",
    "                                             dep_var_regression_lat_b1_train)\n",
    "prediction_KN_reg_b1_lat = model_KN_reg_b1_lat.predict(indep_var_regression_lat_b1_test)"
   ]
  },
  {
   "cell_type": "code",
   "execution_count": 45,
   "metadata": {
    "ExecuteTime": {
     "end_time": "2023-07-06T15:36:45.021493Z",
     "start_time": "2023-07-06T15:36:45.007530Z"
    },
    "hidden": true
   },
   "outputs": [
    {
     "name": "stdout",
     "output_type": "stream",
     "text": [
      "MAE on K Nearest Neighbours Regression train data predicting Latitude (Building 1) =  1.7966591408934982\n",
      "R squared on K Nearest Neighbours Regression train data predicting Latitude (Building 1) =  0.9883669673159613\n",
      "MSE on K Nearest Neighbours Regression train data predicting Latitude (Building 1) =  15.743538060994508\n",
      "RMSE on K Nearest Neighbours Regression train data predicting Latitude (Building 1) =  3.9678127552840126\n"
     ]
    }
   ],
   "source": [
    "print(\"MAE on K Nearest Neighbours Regression train data predicting Latitude (Building 1) = \" , mean_absolute_error(dep_var_regression_lat_b1_test, prediction_KN_reg_b1_lat))\n",
    "print(\"R squared on K Nearest Neighbours Regression train data predicting Latitude (Building 1) = \" , r2_score(dep_var_regression_lat_b1_test, prediction_KN_reg_b1_lat))\n",
    "print(\"MSE on K Nearest Neighbours Regression train data predicting Latitude (Building 1) = \" , mean_squared_error(dep_var_regression_lat_b1_test, prediction_KN_reg_b1_lat))\n",
    "print(\"RMSE on K Nearest Neighbours Regression train data predicting Latitude (Building 1) = \" , mean_squared_error(dep_var_regression_lat_b1_test, prediction_KN_reg_b1_lat,squared=False))\n",
    "\n",
    "KN_lat_b1_errors=[mean_absolute_error(dep_var_regression_lat_b1_test, prediction_KN_reg_b1_lat),r2_score(dep_var_regression_lat_b1_test, prediction_KN_reg_b1_lat),mean_squared_error(dep_var_regression_lat_b1_test, prediction_KN_reg_b1_lat),\n",
    "               mean_squared_error(dep_var_regression_lat_b1_test, prediction_KN_reg_b1_lat,squared=False)]"
   ]
  },
  {
   "cell_type": "markdown",
   "metadata": {},
   "source": [
    "### Building 2"
   ]
  },
  {
   "cell_type": "code",
   "execution_count": 46,
   "metadata": {
    "ExecuteTime": {
     "end_time": "2023-07-06T15:36:45.141543Z",
     "start_time": "2023-07-06T15:36:45.022492Z"
    }
   },
   "outputs": [],
   "source": [
    "#Longitude\n",
    "indep_var_regression_long_b2 = B_2_df_reg.iloc[:,:520].merge(B_2_df_reg['FLOOR'], left_index=True,right_index=True)\n",
    "dep_var_regression_long_b2 = B_2_df_reg['LONGITUDE'] \n",
    "\n",
    "#Latitude\n",
    "indep_var_regression_lat_b2 = B_2_df_reg.iloc[:,:520].merge(B_2_df_reg['FLOOR'], left_index=True,right_index=True)\n",
    "dep_var_regression_lat_b2 = B_2_df_reg['LATITUDE'] \n",
    "\n",
    "#Test/train split\n",
    "indep_var_regression_long_b2_train, indep_var_regression_long_b2_test, dep_var_regression_long_b2_train,dep_var_regression_long_b2_test = train_test_split(indep_var_regression_long_b2, dep_var_regression_long_b2, test_size = .30, random_state = 123)\n",
    "indep_var_regression_lat_b2_train, indep_var_regression_lat_b2_test, dep_var_regression_lat_b2_train,dep_var_regression_lat_b2_test = train_test_split(indep_var_regression_lat_b2, dep_var_regression_lat_b2, test_size = .30, random_state = 123)"
   ]
  },
  {
   "cell_type": "markdown",
   "metadata": {},
   "source": [
    "#### Random Forest"
   ]
  },
  {
   "cell_type": "markdown",
   "metadata": {},
   "source": [
    "###### Longitude"
   ]
  },
  {
   "cell_type": "code",
   "execution_count": 47,
   "metadata": {
    "ExecuteTime": {
     "end_time": "2023-07-06T15:36:59.609833Z",
     "start_time": "2023-07-06T15:36:45.143538Z"
    }
   },
   "outputs": [],
   "source": [
    "algo_RF_reg_b2_long = RandomForestRegressor()\n",
    "model_RF_reg_b2_long = algo_RF_reg_b2_long.fit(indep_var_regression_long_b2_train,\n",
    "                                               dep_var_regression_long_b2_train)\n",
    "prediction_RF_reg_b2_long = model_RF_reg_b2_long.predict(indep_var_regression_long_b2_test)"
   ]
  },
  {
   "cell_type": "code",
   "execution_count": 48,
   "metadata": {
    "ExecuteTime": {
     "end_time": "2023-07-06T15:36:59.626630Z",
     "start_time": "2023-07-06T15:36:59.611122Z"
    }
   },
   "outputs": [
    {
     "name": "stdout",
     "output_type": "stream",
     "text": [
      "MAE on Random Forest Regression train data predicting Longitude (Building 2) =  2.422411162187274\n",
      "R squared on Random Forest Regression train data predicting Longitude (Building 2) =  0.9725682568486824\n",
      "MSE on Random Forest Regression train train predicting Longitude (Building 2) =  25.09921633391656\n",
      "RMSE on Random Forest Regression train train predicting Longitude (Building 2) =  5.0099118089958985\n"
     ]
    }
   ],
   "source": [
    "print(\"MAE on Random Forest Regression train data predicting Longitude (Building 2) = \" , mean_absolute_error(dep_var_regression_long_b2_test, prediction_RF_reg_b2_long))\n",
    "print(\"R squared on Random Forest Regression train data predicting Longitude (Building 2) = \" , r2_score(dep_var_regression_long_b2_test, prediction_RF_reg_b2_long))\n",
    "print(\"MSE on Random Forest Regression train train predicting Longitude (Building 2) = \" , mean_squared_error(dep_var_regression_long_b2_test, prediction_RF_reg_b2_long))\n",
    "print(\"RMSE on Random Forest Regression train train predicting Longitude (Building 2) = \" , mean_squared_error(dep_var_regression_long_b2_test, prediction_RF_reg_b2_long,squared=False))\n",
    "\n",
    "RF_long_b2_errors=[mean_absolute_error(dep_var_regression_long_b2_test, prediction_RF_reg_b2_long),r2_score(dep_var_regression_long_b2_test, prediction_RF_reg_b2_long),mean_squared_error(dep_var_regression_long_b2_test, prediction_RF_reg_b2_long),\n",
    "               mean_squared_error(dep_var_regression_long_b2_test, prediction_RF_reg_b2_long,squared=False)]"
   ]
  },
  {
   "cell_type": "markdown",
   "metadata": {
    "heading_collapsed": true
   },
   "source": [
    "###### Latitude"
   ]
  },
  {
   "cell_type": "code",
   "execution_count": 49,
   "metadata": {
    "ExecuteTime": {
     "end_time": "2023-07-06T15:37:12.976674Z",
     "start_time": "2023-07-06T15:36:59.628805Z"
    },
    "hidden": true
   },
   "outputs": [],
   "source": [
    "algo_RF_reg_b2_lat=RandomForestRegressor()\n",
    "model_RF_reg_b2_lat = algo_RF_reg_b2_lat.fit(indep_var_regression_lat_b2_train,\n",
    "                                             dep_var_regression_lat_b2_train)\n",
    "prediction_RF_reg_b2_lat = model_RF_reg_b2_lat.predict(indep_var_regression_lat_b2_test)"
   ]
  },
  {
   "cell_type": "code",
   "execution_count": 50,
   "metadata": {
    "ExecuteTime": {
     "end_time": "2023-07-06T15:37:12.992605Z",
     "start_time": "2023-07-06T15:37:12.978242Z"
    },
    "hidden": true,
    "scrolled": true
   },
   "outputs": [
    {
     "name": "stdout",
     "output_type": "stream",
     "text": [
      "MAE on Random Forest Regression train predicting Latitude (Building 2) =  1.9406136003287144\n",
      "R squared on Random Forest Regression train data predicting Latitude (Building 2)=  0.9838122506846977\n",
      "MSE on Random Forest Regression train data predicting Latitude (Building 2) =  12.753647729090401\n",
      "RMSE on Random Forest Regression train data predicting Latitude (Building 2) =  3.571224961982989\n"
     ]
    }
   ],
   "source": [
    "print(\"MAE on Random Forest Regression train predicting Latitude (Building 2) = \" , mean_absolute_error(dep_var_regression_lat_b2_test, prediction_RF_reg_b2_lat))\n",
    "print(\"R squared on Random Forest Regression train data predicting Latitude (Building 2)= \" , r2_score(dep_var_regression_lat_b2_test, prediction_RF_reg_b2_lat))\n",
    "print(\"MSE on Random Forest Regression train data predicting Latitude (Building 2) = \" , mean_squared_error(dep_var_regression_lat_b2_test, prediction_RF_reg_b2_lat))\n",
    "print(\"RMSE on Random Forest Regression train data predicting Latitude (Building 2) = \" , mean_squared_error(dep_var_regression_lat_b2_test, prediction_RF_reg_b2_lat,squared=False))\n",
    "\n",
    "RF_lat_b2_errors=[mean_absolute_error(dep_var_regression_lat_b2_test, prediction_RF_reg_b2_lat),r2_score(dep_var_regression_lat_b2_test, prediction_RF_reg_b2_lat),mean_squared_error(dep_var_regression_lat_b2_test, prediction_RF_reg_b2_lat),\n",
    "               mean_squared_error(dep_var_regression_lat_b2_test, prediction_RF_reg_b2_lat,squared=False)]"
   ]
  },
  {
   "cell_type": "markdown",
   "metadata": {},
   "source": [
    "#### K Nearest Neighbours"
   ]
  },
  {
   "cell_type": "markdown",
   "metadata": {},
   "source": [
    "###### Longitude"
   ]
  },
  {
   "cell_type": "code",
   "execution_count": 51,
   "metadata": {
    "ExecuteTime": {
     "end_time": "2023-07-06T15:37:13.585036Z",
     "start_time": "2023-07-06T15:37:12.994348Z"
    }
   },
   "outputs": [],
   "source": [
    "algo_KN_reg_b2_long=KNeighborsRegressor()\n",
    "model_KN_reg_b2_long = algo_KN_reg_b2_long.fit(indep_var_regression_long_b2_train,\n",
    "                                               dep_var_regression_long_b2_train)\n",
    "prediction_KN_reg_b2_long = model_KN_reg_b2_long.predict(indep_var_regression_long_b2_test)"
   ]
  },
  {
   "cell_type": "code",
   "execution_count": 52,
   "metadata": {
    "ExecuteTime": {
     "end_time": "2023-07-06T15:37:13.600499Z",
     "start_time": "2023-07-06T15:37:13.586878Z"
    },
    "scrolled": true
   },
   "outputs": [
    {
     "name": "stdout",
     "output_type": "stream",
     "text": [
      "MAE on K Nearest Neighbours Regression train data (Building 2) =  1.7576894644361227\n",
      "R squared on K Nearest Neighbours Regression train data (Building 2) =  0.9789830788454057\n",
      "MSE on K Nearest Neighbours Regression train data (Building 2) =  19.229847983856313\n",
      "RMSE on K Nearest Neighbours Regression train data (Building 2) =  4.3851850569680995\n"
     ]
    }
   ],
   "source": [
    "print(\"MAE on K Nearest Neighbours Regression train data (Building 2) = \" , mean_absolute_error(dep_var_regression_long_b2_test, prediction_KN_reg_b2_long))\n",
    "print(\"R squared on K Nearest Neighbours Regression train data (Building 2) = \" , r2_score(dep_var_regression_long_b2_test, prediction_KN_reg_b2_long))\n",
    "print(\"MSE on K Nearest Neighbours Regression train data (Building 2) = \" , mean_squared_error(dep_var_regression_long_b2_test, prediction_KN_reg_b2_long))\n",
    "print(\"RMSE on K Nearest Neighbours Regression train data (Building 2) = \" , mean_squared_error(dep_var_regression_long_b2_test, prediction_KN_reg_b2_long,squared=False))\n",
    "\n",
    "KN_long_b2_errors=[mean_absolute_error(dep_var_regression_long_b2_test, prediction_KN_reg_b2_long),r2_score(dep_var_regression_long_b2_test, prediction_KN_reg_b2_long),mean_squared_error(dep_var_regression_long_b2_test, prediction_KN_reg_b2_long),\n",
    "               mean_squared_error(dep_var_regression_long_b2_test, prediction_KN_reg_b2_long,squared=False)]"
   ]
  },
  {
   "cell_type": "markdown",
   "metadata": {},
   "source": [
    "###### Latitude"
   ]
  },
  {
   "cell_type": "code",
   "execution_count": 53,
   "metadata": {
    "ExecuteTime": {
     "end_time": "2023-07-06T15:37:14.319903Z",
     "start_time": "2023-07-06T15:37:13.602130Z"
    }
   },
   "outputs": [],
   "source": [
    "algo_KN_reg_b2_lat=KNeighborsRegressor() #Algo definition\n",
    "model_KN_reg_b2_lat = algo_KN_reg_b2_lat.fit(indep_var_regression_lat_b2_train,\n",
    "                                             dep_var_regression_lat_b2_train) #fitting the algo\n",
    "prediction_KN_reg_b2_lat = model_KN_reg_b2_lat.predict(indep_var_regression_lat_b2_test) #Prediction on testing data"
   ]
  },
  {
   "cell_type": "code",
   "execution_count": 54,
   "metadata": {
    "ExecuteTime": {
     "end_time": "2023-07-06T15:37:14.345208Z",
     "start_time": "2023-07-06T15:37:14.321898Z"
    },
    "scrolled": true
   },
   "outputs": [
    {
     "name": "stdout",
     "output_type": "stream",
     "text": [
      "MAE on K Nearest Neighbours Regression train data predicting Latitude (Building 2) =  1.4397519686775218\n",
      "R squared on K Nearest Neighbours Regression train data predicting Latitude (Building 2) =  0.9893674475264399\n",
      "MSE on K Nearest Neighbours Regression train data predicting Latitude (Building 2) =  8.376941480102305\n",
      "RMSE on K Nearest Neighbours Regression train data predicting Latitude (Building 2) =  2.8942946429315564\n"
     ]
    }
   ],
   "source": [
    "print(\"MAE on K Nearest Neighbours Regression train data predicting Latitude (Building 2) = \" , mean_absolute_error(dep_var_regression_lat_b2_test, prediction_KN_reg_b2_lat))\n",
    "print(\"R squared on K Nearest Neighbours Regression train data predicting Latitude (Building 2) = \" , r2_score(dep_var_regression_lat_b2_test, prediction_KN_reg_b2_lat))\n",
    "print(\"MSE on K Nearest Neighbours Regression train data predicting Latitude (Building 2) = \" , mean_squared_error(dep_var_regression_lat_b2_test, prediction_KN_reg_b2_lat))\n",
    "print(\"RMSE on K Nearest Neighbours Regression train data predicting Latitude (Building 2) = \" , mean_squared_error(dep_var_regression_lat_b2_test, prediction_KN_reg_b2_lat,squared=False))\n",
    "\n",
    "KN_lat_b2_errors=[mean_absolute_error(dep_var_regression_lat_b2_test, prediction_KN_reg_b2_lat),r2_score(dep_var_regression_lat_b2_test, prediction_KN_reg_b2_lat),mean_squared_error(dep_var_regression_lat_b2_test, prediction_KN_reg_b2_lat),\n",
    "               mean_squared_error(dep_var_regression_lat_b2_test, prediction_KN_reg_b2_lat,squared=False)]"
   ]
  },
  {
   "cell_type": "markdown",
   "metadata": {},
   "source": [
    "## Error comparison"
   ]
  },
  {
   "cell_type": "markdown",
   "metadata": {},
   "source": [
    "### Building 0"
   ]
  },
  {
   "cell_type": "code",
   "execution_count": 56,
   "metadata": {
    "ExecuteTime": {
     "end_time": "2023-07-06T15:37:14.376422Z",
     "start_time": "2023-07-06T15:37:14.361469Z"
    }
   },
   "outputs": [],
   "source": [
    "#Creating error stat dataframes \n",
    "df_error_B0_comp_lat=pd.DataFrame(columns=reg_model, index=error_stat\n",
    "                        )\n",
    "df_error_B0_comp_long=pd.DataFrame(columns=reg_model, index=error_stat\n",
    "                        )\n",
    "\n",
    "df_error_B0_comp_lat['Random Forest']=RF_lat_b0_errors\n",
    "df_error_B0_comp_lat['K Nearest Neighbours'] = KN_lat_b0_errors\n",
    "df_error_B0_comp_long['Random Forest']=RF_long_b0_errors\n",
    "df_error_B0_comp_long['K Nearest Neighbours'] = KN_long_b0_errors"
   ]
  },
  {
   "cell_type": "code",
   "execution_count": 57,
   "metadata": {
    "ExecuteTime": {
     "end_time": "2023-07-06T15:37:14.392160Z",
     "start_time": "2023-07-06T15:37:14.376422Z"
    },
    "scrolled": false
   },
   "outputs": [
    {
     "name": "stdout",
     "output_type": "stream",
     "text": [
      "Error Metrics for Latitude predictions in Building 0:\n",
      "           Random Forest  K Nearest Neighbours\n",
      "MAE             1.456861              1.400610\n",
      "R Squared       0.994273              0.993730\n",
      "MSE             6.163431              6.747694\n",
      "RMSE            2.482626              2.597632\n"
     ]
    }
   ],
   "source": [
    "print(\"Error Metrics for Latitude predictions in Building 0:\")\n",
    "print(df_error_B0_comp_lat)"
   ]
  },
  {
   "cell_type": "code",
   "execution_count": 58,
   "metadata": {
    "ExecuteTime": {
     "end_time": "2023-07-06T15:37:14.407949Z",
     "start_time": "2023-07-06T15:37:14.395071Z"
    },
    "scrolled": false
   },
   "outputs": [
    {
     "name": "stdout",
     "output_type": "stream",
     "text": [
      "Error Metrics for Longitude predictions in Building 0:\n",
      "           Random Forest  K Nearest Neighbours\n",
      "MAE             1.843265              1.552031\n",
      "R Squared       0.980320              0.984222\n",
      "MSE            12.480561             10.005923\n",
      "RMSE            3.532784              3.163214\n"
     ]
    }
   ],
   "source": [
    "print(\"Error Metrics for Longitude predictions in Building 0:\")\n",
    "print(df_error_B0_comp_long)"
   ]
  },
  {
   "cell_type": "markdown",
   "metadata": {},
   "source": [
    "RF performs slightly better in predicting Latitude but K Nearest better in Longitude."
   ]
  },
  {
   "cell_type": "markdown",
   "metadata": {},
   "source": [
    "### Building 1"
   ]
  },
  {
   "cell_type": "code",
   "execution_count": 59,
   "metadata": {
    "ExecuteTime": {
     "end_time": "2023-07-06T15:37:14.432453Z",
     "start_time": "2023-07-06T15:37:14.410944Z"
    }
   },
   "outputs": [],
   "source": [
    "#Creating error stat dataframes \n",
    "df_error_B1_comp_lat=pd.DataFrame(columns=reg_model, index=error_stat\n",
    "                        )\n",
    "df_error_B1_comp_long=pd.DataFrame(columns=reg_model, index=error_stat\n",
    "                        )\n",
    "df_error_B1_comp_lat['Random Forest']= RF_lat_b1_errors\n",
    "df_error_B1_comp_lat['K Nearest Neighbours'] = KN_lat_b1_errors\n",
    "df_error_B1_comp_long['Random Forest']= RF_long_b1_errors\n",
    "df_error_B1_comp_long['K Nearest Neighbours'] = KN_long_b1_errors"
   ]
  },
  {
   "cell_type": "code",
   "execution_count": 60,
   "metadata": {
    "ExecuteTime": {
     "end_time": "2023-07-06T15:37:14.448157Z",
     "start_time": "2023-07-06T15:37:14.434447Z"
    },
    "scrolled": false
   },
   "outputs": [
    {
     "name": "stdout",
     "output_type": "stream",
     "text": [
      "Error Metrics for Latitude predictions in Building 1:\n",
      "           Random Forest  K Nearest Neighbours\n",
      "MAE             2.343970              1.796659\n",
      "R Squared       0.985680              0.988367\n",
      "MSE            19.379971             15.743538\n",
      "RMSE            4.402269              3.967813\n"
     ]
    }
   ],
   "source": [
    "print(\"Error Metrics for Latitude predictions in Building 1:\")\n",
    "print(df_error_B1_comp_lat)"
   ]
  },
  {
   "cell_type": "code",
   "execution_count": 61,
   "metadata": {
    "ExecuteTime": {
     "end_time": "2023-07-06T15:37:14.471956Z",
     "start_time": "2023-07-06T15:37:14.449375Z"
    },
    "scrolled": false
   },
   "outputs": [
    {
     "name": "stdout",
     "output_type": "stream",
     "text": [
      "Error Metrics for Longitude predictions in Building 1:\n",
      "           Random Forest  K Nearest Neighbours\n",
      "MAE             2.471910              2.064181\n",
      "R Squared       0.992326              0.992411\n",
      "MSE            19.519243             19.300946\n",
      "RMSE            4.418059              4.393284\n"
     ]
    }
   ],
   "source": [
    "print(\"Error Metrics for Longitude predictions in Building 1:\")\n",
    "print(df_error_B1_comp_long)"
   ]
  },
  {
   "cell_type": "markdown",
   "metadata": {},
   "source": [
    "K Nearest performs better for Latitude but RF slightly better in predicting Longitude."
   ]
  },
  {
   "cell_type": "markdown",
   "metadata": {},
   "source": [
    "### Building 2"
   ]
  },
  {
   "cell_type": "code",
   "execution_count": 62,
   "metadata": {
    "ExecuteTime": {
     "end_time": "2023-07-06T15:37:14.488051Z",
     "start_time": "2023-07-06T15:37:14.473952Z"
    }
   },
   "outputs": [],
   "source": [
    "#Error stat dataframes\n",
    "df_error_B2_comp_lat=pd.DataFrame(columns=reg_model, index=error_stat)\n",
    "df_error_B2_comp_long=pd.DataFrame(columns=reg_model, index=error_stat)\n",
    "\n",
    "df_error_B2_comp_lat['Random Forest']= RF_lat_b2_errors\n",
    "df_error_B2_comp_lat['K Nearest Neighbours'] = KN_lat_b2_errors\n",
    "df_error_B2_comp_long['Random Forest']= RF_long_b2_errors\n",
    "df_error_B2_comp_long['K Nearest Neighbours'] = KN_long_b2_errors"
   ]
  },
  {
   "cell_type": "code",
   "execution_count": 63,
   "metadata": {
    "ExecuteTime": {
     "end_time": "2023-07-06T15:37:14.503921Z",
     "start_time": "2023-07-06T15:37:14.490633Z"
    },
    "scrolled": false
   },
   "outputs": [
    {
     "name": "stdout",
     "output_type": "stream",
     "text": [
      "Error Metrics for Latitude predictions in Building 2:\n",
      "           Random Forest  K Nearest Neighbours\n",
      "MAE             1.940614              1.439752\n",
      "R Squared       0.983812              0.989367\n",
      "MSE            12.753648              8.376941\n",
      "RMSE            3.571225              2.894295\n"
     ]
    }
   ],
   "source": [
    "print(\"Error Metrics for Latitude predictions in Building 2:\")\n",
    "print(df_error_B2_comp_lat)"
   ]
  },
  {
   "cell_type": "code",
   "execution_count": 64,
   "metadata": {
    "ExecuteTime": {
     "end_time": "2023-07-06T15:37:14.519867Z",
     "start_time": "2023-07-06T15:37:14.507189Z"
    },
    "scrolled": false
   },
   "outputs": [
    {
     "name": "stdout",
     "output_type": "stream",
     "text": [
      "Error Metrics for Longitude predictions in Building 2:\n",
      "           Random Forest  K Nearest Neighbours\n",
      "MAE             2.422411              1.757689\n",
      "R Squared       0.972568              0.978983\n",
      "MSE            25.099216             19.229848\n",
      "RMSE            5.009912              4.385185\n"
     ]
    }
   ],
   "source": [
    "print(\"Error Metrics for Longitude predictions in Building 2:\")\n",
    "print(df_error_B2_comp_long)"
   ]
  },
  {
   "cell_type": "markdown",
   "metadata": {},
   "source": [
    "K Nearest predicts Latitude and Longitude better than RF for Building 2."
   ]
  },
  {
   "cell_type": "markdown",
   "metadata": {},
   "source": [
    "K Nearest looks to be a better predictor, but we will use both RF and KN with our validation set to see which performs better."
   ]
  },
  {
   "cell_type": "markdown",
   "metadata": {},
   "source": [
    "## Predictions on unseen validation set"
   ]
  },
  {
   "cell_type": "markdown",
   "metadata": {},
   "source": [
    "First we will create a classification model to predict the number of building, based on the WIFI connection strength across the 520 WAP's."
   ]
  },
  {
   "cell_type": "code",
   "execution_count": 65,
   "metadata": {
    "ExecuteTime": {
     "end_time": "2023-07-06T15:37:14.581671Z",
     "start_time": "2023-07-06T15:37:14.522131Z"
    }
   },
   "outputs": [],
   "source": [
    "# Creating a subset of the validation Dataframe to include only 520 WAP to determine the Building ID. \n",
    "valid_df_results_wifi = valid_df_reg.iloc[:,:520]\n",
    "\n",
    "#The correct results(Long, Lat, Building and Floor) to compare our predictions with later:\n",
    "lat_long_results = valid_df_reg.iloc[:,520:524]\n",
    "\n",
    "#Storing the predictions of our Random Forest Classification model as Building_predictions\n",
    "Building_predictions = model_RF_BUILDING.predict(valid_df_results_wifi)"
   ]
  },
  {
   "cell_type": "markdown",
   "metadata": {},
   "source": [
    "We have extremely high accuracy in predicting the Building ID based on the WAP connection:"
   ]
  },
  {
   "cell_type": "code",
   "execution_count": 66,
   "metadata": {
    "ExecuteTime": {
     "end_time": "2023-07-06T15:37:14.613401Z",
     "start_time": "2023-07-06T15:37:14.584323Z"
    },
    "scrolled": true
   },
   "outputs": [
    {
     "name": "stdout",
     "output_type": "stream",
     "text": [
      "              precision    recall  f1-score   support\n",
      "\n",
      "           0       1.00      1.00      1.00       536\n",
      "           1       1.00      1.00      1.00       307\n",
      "           2       1.00      1.00      1.00       268\n",
      "\n",
      "    accuracy                           1.00      1111\n",
      "   macro avg       1.00      1.00      1.00      1111\n",
      "weighted avg       1.00      1.00      1.00      1111\n",
      "\n"
     ]
    }
   ],
   "source": [
    "print(classification_report(valid_df_reg['BUILDINGID'], Building_predictions))"
   ]
  },
  {
   "cell_type": "markdown",
   "metadata": {},
   "source": [
    "We can see one error in the below, where the model predicted Building 0 but the true result was building 1."
   ]
  },
  {
   "cell_type": "code",
   "execution_count": 67,
   "metadata": {
    "ExecuteTime": {
     "end_time": "2023-07-06T15:37:14.996252Z",
     "start_time": "2023-07-06T15:37:14.615412Z"
    },
    "scrolled": false
   },
   "outputs": [
    {
     "data": {
      "text/plain": [
       "<sklearn.metrics._plot.confusion_matrix.ConfusionMatrixDisplay at 0x2012f2bb7f0>"
      ]
     },
     "execution_count": 67,
     "metadata": {},
     "output_type": "execute_result"
    },
    {
     "data": {
      "image/png": "[encoded data removed]",
      "text/plain": [
       "<Figure size 432x288 with 2 Axes>"
      ]
     },
     "metadata": {
      "needs_background": "light"
     },
     "output_type": "display_data"
    }
   ],
   "source": [
    "#Creating a confusion matrix for the Building number predictions\n",
    "confusion_matrix_BUILDING_predictions = confusion_matrix(valid_df_reg['BUILDINGID'], Building_predictions)\n",
    "#Changing the display\n",
    "CMDisplay_BUILDING_Predictions=ConfusionMatrixDisplay(confusion_matrix_BUILDING_predictions)\n",
    "CMDisplay_BUILDING_Predictions.plot()"
   ]
  },
  {
   "cell_type": "markdown",
   "metadata": {},
   "source": [
    "Now, we will add our building predictions to our validation set, and use this to predict the floor number. It's important to remeber that any errors here will be carried forward, and can cause larger errors further down the line."
   ]
  },
  {
   "cell_type": "code",
   "execution_count": 68,
   "metadata": {
    "ExecuteTime": {
     "end_time": "2023-07-06T15:37:15.063554Z",
     "start_time": "2023-07-06T15:37:14.997344Z"
    }
   },
   "outputs": [],
   "source": [
    "#Adding the building predictions to the validation dataset\n",
    "valid_df_results_wifi_Build = valid_df_results_wifi.iloc[:,:520].merge(pd.Series(Building_predictions,name='BUILDINGID'), left_index=True,right_index=True)\n",
    "\n",
    "#Soting the floor predictions\n",
    "Floor_predictions = model_RF_FLOOR.predict(valid_df_results_wifi_Build)"
   ]
  },
  {
   "cell_type": "markdown",
   "metadata": {},
   "source": [
    "We have an accuracy of ~90% which is quite high given there is a 20% of guessing 0-4 and a 42% chance of guessing Floor 1 (462/1111)."
   ]
  },
  {
   "cell_type": "code",
   "execution_count": 69,
   "metadata": {
    "ExecuteTime": {
     "end_time": "2023-07-06T15:37:15.099135Z",
     "start_time": "2023-07-06T15:37:15.078245Z"
    },
    "scrolled": false
   },
   "outputs": [
    {
     "name": "stdout",
     "output_type": "stream",
     "text": [
      "              precision    recall  f1-score   support\n",
      "\n",
      "           0       0.96      0.87      0.91       132\n",
      "           1       0.96      0.89      0.92       462\n",
      "           2       0.85      0.95      0.90       306\n",
      "           3       0.86      0.96      0.91       172\n",
      "           4       0.97      0.72      0.82        39\n",
      "\n",
      "    accuracy                           0.91      1111\n",
      "   macro avg       0.92      0.88      0.89      1111\n",
      "weighted avg       0.92      0.91      0.91      1111\n",
      "\n"
     ]
    }
   ],
   "source": [
    "print(classification_report(valid_df_reg['FLOOR'], Floor_predictions))"
   ]
  },
  {
   "cell_type": "markdown",
   "metadata": {},
   "source": [
    "In the below we see the most errors where the model has predicted Floor 2, but it is actually floor 1 - this accounts for a high percentage of the errors. As previously discussed, any errors here could affect the longitude and latitdue predictions going forward."
   ]
  },
  {
   "cell_type": "code",
   "execution_count": 70,
   "metadata": {
    "ExecuteTime": {
     "end_time": "2023-07-06T15:37:15.427806Z",
     "start_time": "2023-07-06T15:37:15.104426Z"
    },
    "scrolled": false
   },
   "outputs": [
    {
     "data": {
      "text/plain": [
       "<sklearn.metrics._plot.confusion_matrix.ConfusionMatrixDisplay at 0x2012f28edc0>"
      ]
     },
     "execution_count": 70,
     "metadata": {},
     "output_type": "execute_result"
    },
    {
     "data": {
      "image/png": "[encoded data removed]",
      "text/plain": [
       "<Figure size 432x288 with 2 Axes>"
      ]
     },
     "metadata": {
      "needs_background": "light"
     },
     "output_type": "display_data"
    }
   ],
   "source": [
    "#Confusion matrix for FLoor predictions\n",
    "confusion_matrix_FLOOR_predictions = confusion_matrix(valid_df_reg['FLOOR'], Floor_predictions)\n",
    "#Changing display\n",
    "CMDisplay_FLOOR_Predictions=ConfusionMatrixDisplay(confusion_matrix_FLOOR_predictions)\n",
    "CMDisplay_FLOOR_Predictions.plot()"
   ]
  },
  {
   "cell_type": "code",
   "execution_count": 71,
   "metadata": {
    "ExecuteTime": {
     "end_time": "2023-07-06T15:37:15.451230Z",
     "start_time": "2023-07-06T15:37:15.429763Z"
    }
   },
   "outputs": [],
   "source": [
    "#Adding the predicted Floor values to the dataset\n",
    "valid_df_results_wifi_Build_Floor = valid_df_results_wifi_Build.merge(pd.Series(Floor_predictions,name='FLOOR'), left_index=True,right_index=True)\n",
    "\n",
    "#Adding the real long&lat results to compare against the models predictions later\n",
    "valid_df_results_wifi_Build_Floor_long_lat= valid_df_results_wifi_Build_Floor.merge(lat_long_results, left_index=True,right_index=True)"
   ]
  },
  {
   "cell_type": "markdown",
   "metadata": {},
   "source": [
    "Now we have our dataset, valid_df_results_wifi_Build_Floor, with the predicted Building ID and Floor ID from the strength of the 520 wifi signals in each reading. We will now run a regression model on this dataset to predict the Longitude and Latitude at each reading."
   ]
  },
  {
   "cell_type": "code",
   "execution_count": 72,
   "metadata": {
    "ExecuteTime": {
     "end_time": "2023-07-06T15:37:15.481972Z",
     "start_time": "2023-07-06T15:37:15.451230Z"
    }
   },
   "outputs": [],
   "source": [
    "#Splitting the predicted BuildingID and Floor datasets by building to fit the regression models formats (no BUILDINGID)\n",
    "B0_reg_prediction = valid_df_results_wifi_Build_Floor[valid_df_results_wifi_Build_Floor['BUILDINGID']== 0]\n",
    "B1_reg_prediction = valid_df_results_wifi_Build_Floor[valid_df_results_wifi_Build_Floor['BUILDINGID']== 1]\n",
    "B2_reg_prediction = valid_df_results_wifi_Build_Floor[valid_df_results_wifi_Build_Floor['BUILDINGID']== 2]\n",
    "\n",
    "#Removing Building ID column to fit regression models\n",
    "B0_reg_prediction=B0_reg_prediction.drop(columns=['BUILDINGID'])\n",
    "B1_reg_prediction=B1_reg_prediction.drop(columns=['BUILDINGID'])\n",
    "B2_reg_prediction=B2_reg_prediction.drop(columns=['BUILDINGID'])\n",
    "\n",
    "#These contain the predicted BUILDINGID and FLOOR values, as well as the correct BUILDINGID, FLOOR, LONGITUDE and LATITUDE\n",
    "B0_reg_results = valid_df_results_wifi_Build_Floor_long_lat[valid_df_results_wifi_Build_Floor_long_lat['BUILDINGID_x']== 0]\n",
    "B1_reg_results = valid_df_results_wifi_Build_Floor_long_lat[valid_df_results_wifi_Build_Floor_long_lat['BUILDINGID_x']== 1]\n",
    "B2_reg_results = valid_df_results_wifi_Build_Floor_long_lat[valid_df_results_wifi_Build_Floor_long_lat['BUILDINGID_x']== 2]"
   ]
  },
  {
   "cell_type": "markdown",
   "metadata": {},
   "source": [
    "### Predictions"
   ]
  },
  {
   "cell_type": "code",
   "execution_count": 73,
   "metadata": {
    "ExecuteTime": {
     "end_time": "2023-07-06T15:37:16.075708Z",
     "start_time": "2023-07-06T15:37:15.483558Z"
    }
   },
   "outputs": [],
   "source": [
    "#KN predictions\n",
    "B0_long_prediction_KN = model_KN_reg_b0_long.predict(B0_reg_prediction)\n",
    "B0_lat_prediction_KN = model_KN_reg_b0_lat.predict(B0_reg_prediction)\n",
    "B1_long_prediction_KN = model_KN_reg_b1_long.predict(B1_reg_prediction)\n",
    "B1_lat_prediction_KN = model_KN_reg_b1_lat.predict(B1_reg_prediction)\n",
    "B2_long_prediction_KN = model_KN_reg_b2_long.predict(B2_reg_prediction)\n",
    "B2_lat_prediction_KN = model_KN_reg_b2_lat.predict(B2_reg_prediction)\n",
    "\n",
    "#Random Forest Predictions\n",
    "B0_long_prediction_RF = model_RF_reg_b0_long.predict(B0_reg_prediction)\n",
    "B0_lat_prediction_RF = model_RF_reg_b0_lat.predict(B0_reg_prediction)\n",
    "B1_long_prediction_RF = model_RF_reg_b1_long.predict(B1_reg_prediction)\n",
    "B1_lat_prediction_RF = model_RF_reg_b1_lat.predict(B1_reg_prediction)\n",
    "B2_long_prediction_RF = model_RF_reg_b2_long.predict(B2_reg_prediction)\n",
    "B2_lat_prediction_RF = model_RF_reg_b2_lat.predict(B2_reg_prediction)\n",
    "\n"
   ]
  },
  {
   "cell_type": "markdown",
   "metadata": {},
   "source": [
    "Now we can compare our Long/Lat predictions with the actual Long/Lat from the validation set."
   ]
  },
  {
   "cell_type": "code",
   "execution_count": 74,
   "metadata": {
    "ExecuteTime": {
     "end_time": "2023-07-06T15:37:16.099352Z",
     "start_time": "2023-07-06T15:37:16.076870Z"
    }
   },
   "outputs": [],
   "source": [
    "#Creating a dictionary for each Building which we will use to compare results\n",
    "compare_dict_b0={'Real Longitude':np.array(B0_reg_results['LONGITUDE']),\n",
    "              'Predicted KN Longitude':np.array(B0_long_prediction_KN),\n",
    "            'Predicted RF Longitude':np.array(B0_long_prediction_RF),\n",
    "              'Real Latitude': np.array(B0_reg_results['LATITUDE']), \n",
    "              'Predicted KN Latitude':np.array(B0_lat_prediction_KN),\n",
    "                'Predicted RF Latitude':np.array(B0_lat_prediction_RF)}\n",
    "\n",
    "compare_dict_b1={'Real Longitude':np.array(B1_reg_results['LONGITUDE']),\n",
    "              'Predicted KN Longitude':np.array(B1_long_prediction_KN),\n",
    "            'Predicted RF Longitude':np.array(B1_long_prediction_RF),\n",
    "              'Real Latitude': np.array(B1_reg_results['LATITUDE']), \n",
    "              'Predicted KN Latitude':np.array(B1_lat_prediction_KN),\n",
    "                'Predicted RF Latitude':np.array(B1_lat_prediction_RF)}\n",
    "compare_dict_b2={'Real Longitude':np.array(B2_reg_results['LONGITUDE']),\n",
    "              'Predicted KN Longitude':np.array(B2_long_prediction_KN),\n",
    "            'Predicted RF Longitude':np.array(B2_long_prediction_RF),\n",
    "              'Real Latitude': np.array(B2_reg_results['LATITUDE']), \n",
    "              'Predicted KN Latitude':np.array(B2_lat_prediction_KN),\n",
    "                'Predicted RF Latitude':np.array(B2_lat_prediction_RF)}\n",
    "\n",
    "#Creating the dataframes\n",
    "b0_comp= pd.DataFrame.from_dict(compare_dict_b0)\n",
    "b1_comp= pd.DataFrame.from_dict(compare_dict_b1)\n",
    "b2_comp= pd.DataFrame.from_dict(compare_dict_b2)\n",
    "\n",
    "#Computing the errors\n",
    "b0_comp['Longitude KN Error'] = b0_comp['Real Longitude'] - b0_comp['Predicted KN Longitude']\n",
    "b0_comp['Latitude KN Error'] = b0_comp['Real Latitude'] - b0_comp['Predicted KN Latitude']\n",
    "b0_comp['Longitude RF Error'] = b0_comp['Real Longitude'] - b0_comp['Predicted RF Longitude']\n",
    "b0_comp['Latitude RF Error'] = b0_comp['Real Latitude'] - b0_comp['Predicted RF Latitude']\n",
    "\n",
    "b1_comp['Longitude KN Error'] = b1_comp['Real Longitude'] - b1_comp['Predicted KN Longitude']\n",
    "b1_comp['Latitude KN Error'] = b1_comp['Real Latitude'] - b1_comp['Predicted KN Latitude']\n",
    "b1_comp['Longitude RF Error'] = b1_comp['Real Longitude'] - b1_comp['Predicted RF Longitude']\n",
    "b1_comp['Latitude RF Error'] = b1_comp['Real Latitude'] - b1_comp['Predicted RF Latitude']\n",
    "\n",
    "b2_comp['Longitude KN Error'] = b2_comp['Real Longitude'] - b2_comp['Predicted KN Longitude']\n",
    "b2_comp['Latitude KN Error'] = b2_comp['Real Latitude'] - b2_comp['Predicted KN Latitude']\n",
    "b2_comp['Longitude RF Error'] = b2_comp['Real Longitude'] - b2_comp['Predicted RF Longitude']\n",
    "b2_comp['Latitude RF Error'] = b2_comp['Real Latitude'] - b2_comp['Predicted RF Latitude']"
   ]
  },
  {
   "cell_type": "code",
   "execution_count": 75,
   "metadata": {
    "ExecuteTime": {
     "end_time": "2023-07-06T15:37:16.593229Z",
     "start_time": "2023-07-06T15:37:16.100387Z"
    },
    "scrolled": false
   },
   "outputs": [
    {
     "data": {
      "text/plain": [
       "Text(0.5, 1.0, 'Building 0 K Nearest Neighbours Predicted Values')"
      ]
     },
     "execution_count": 75,
     "metadata": {},
     "output_type": "execute_result"
    },
    {
     "data": {
      "image/png": "[encoded data removed]",
      "text/plain": [
       "<Figure size 576x1152 with 3 Axes>"
      ]
     },
     "metadata": {
      "needs_background": "light"
     },
     "output_type": "display_data"
    }
   ],
   "source": [
    "fig, (axb01,axb02,axb03) = plt.subplots(nrows=3,ncols=1,figsize = (8,16), sharex = True)\n",
    "#fonts\n",
    "fontdict = {'fontsize': 18}\n",
    "fontdict_yaxis = {'fontsize': 14}\n",
    "\n",
    "#x axis\n",
    "plt.xlabel('Latitude',fontdict = fontdict_yaxis)\n",
    "\n",
    "axb01.plot(b0_comp['Real Longitude'],b0_comp['Real Latitude'],'o')\n",
    "axb01.set_ylabel('Longitude', fontdict = fontdict_yaxis); \n",
    "axb01.set_title('Building 0 Real Values', fontdict= fontdict);\n",
    "\n",
    "axb02.plot(b0_comp['Predicted RF Longitude'],b0_comp['Predicted RF Latitude'],'go')\n",
    "axb02.set_ylabel('Longitude', fontdict = fontdict_yaxis); \n",
    "axb02.set_title('Building 0 Random Forest Predicted Values', fontdict= fontdict);\n",
    "\n",
    "axb03.plot(b0_comp['Predicted KN Longitude'],b0_comp['Predicted KN Latitude'],'bo')\n",
    "axb03.set_ylabel('Longitude', fontdict = fontdict_yaxis); \n",
    "axb03.set_title('Building 0 K Nearest Neighbours Predicted Values', fontdict= fontdict)"
   ]
  },
  {
   "cell_type": "markdown",
   "metadata": {},
   "source": [
    "K Nearest Neighbours looks very similar to the actual plot in Building 0, with a high level of accruacy."
   ]
  },
  {
   "cell_type": "code",
   "execution_count": 76,
   "metadata": {
    "ExecuteTime": {
     "end_time": "2023-07-06T15:37:16.993380Z",
     "start_time": "2023-07-06T15:37:16.595812Z"
    },
    "scrolled": false
   },
   "outputs": [
    {
     "data": {
      "text/plain": [
       "Text(0.5, 1.0, 'Building 1 K Nearest Neighbours Predicted Values')"
      ]
     },
     "execution_count": 76,
     "metadata": {},
     "output_type": "execute_result"
    },
    {
     "data": {
      "image/png": "[encoded data removed]",
      "text/plain": [
       "<Figure size 576x1152 with 3 Axes>"
      ]
     },
     "metadata": {
      "needs_background": "light"
     },
     "output_type": "display_data"
    }
   ],
   "source": [
    "fig, (axb11,axb12,axb13) = plt.subplots(nrows=3,ncols=1,figsize = (8,16), sharex = True)\n",
    "#fonts\n",
    "fontdict = {'fontsize': 18}\n",
    "fontdict_yaxis = {'fontsize': 14}\n",
    "plt.xlabel('Latitude',fontdict = fontdict_yaxis)\n",
    "\n",
    "axb11.plot(b1_comp['Real Longitude'],b1_comp['Real Latitude'],'o')\n",
    "axb11.set_ylabel('Longitude', fontdict = fontdict_yaxis); \n",
    "axb11.set_title('Building 1 Real Values', fontdict= fontdict);\n",
    "\n",
    "axb12.plot(b1_comp['Predicted RF Longitude'],b1_comp['Predicted RF Latitude'],'go')\n",
    "axb12.set_ylabel('Longitude', fontdict = fontdict_yaxis); \n",
    "axb12.set_title('Building 1 Random Forest Predicted Values', fontdict= fontdict);\n",
    "\n",
    "axb13.plot(b1_comp['Predicted KN Longitude'],b1_comp['Predicted KN Latitude'],'bo')\n",
    "axb13.set_ylabel('Longitude', fontdict = fontdict_yaxis); \n",
    "axb13.set_title('Building 1 K Nearest Neighbours Predicted Values', fontdict= fontdict)"
   ]
  },
  {
   "cell_type": "markdown",
   "metadata": {},
   "source": [
    "Building 1 is a bit less conclusive, both models resemble the original image which is not as defined as building 0."
   ]
  },
  {
   "cell_type": "code",
   "execution_count": 77,
   "metadata": {
    "ExecuteTime": {
     "end_time": "2023-07-06T15:37:17.344646Z",
     "start_time": "2023-07-06T15:37:16.995584Z"
    },
    "scrolled": true
   },
   "outputs": [
    {
     "data": {
      "text/plain": [
       "Text(0.5, 1.0, 'Building 2 K Nearest Neighbours Predicted Values')"
      ]
     },
     "execution_count": 77,
     "metadata": {},
     "output_type": "execute_result"
    },
    {
     "data": {
      "image/png": "[encoded data removed]",
      "text/plain": [
       "<Figure size 576x1152 with 3 Axes>"
      ]
     },
     "metadata": {
      "needs_background": "light"
     },
     "output_type": "display_data"
    }
   ],
   "source": [
    "fig, (axb21,axb22,axb23) = plt.subplots(nrows=3,ncols=1,figsize = (8,16), sharex = True)\n",
    "#fonts\n",
    "fontdict = {'fontsize': 18}\n",
    "fontdict_yaxis = {'fontsize': 14}\n",
    "plt.xlabel('Latitude',fontdict = fontdict_yaxis)\n",
    "\n",
    "axb21.plot(b2_comp['Real Longitude'],b2_comp['Real Latitude'],'o')\n",
    "axb21.set_ylabel('Longitude', fontdict = fontdict_yaxis); \n",
    "axb21.set_title('Building 2 Real Values', fontdict= fontdict);\n",
    "\n",
    "axb22.plot(b2_comp['Predicted RF Longitude'],b2_comp['Predicted RF Latitude'],'go')\n",
    "axb22.set_ylabel('Longitude', fontdict = fontdict_yaxis); \n",
    "axb22.set_title('Building 2 Random Forest Predicted Values', fontdict= fontdict);\n",
    "\n",
    "axb23.plot(b2_comp['Predicted KN Longitude'],b2_comp['Predicted KN Latitude'],'bo')\n",
    "axb23.set_ylabel('Longitude', fontdict = fontdict_yaxis); \n",
    "axb23.set_title('Building 2 K Nearest Neighbours Predicted Values', fontdict= fontdict)"
   ]
  },
  {
   "cell_type": "markdown",
   "metadata": {},
   "source": [
    "K Nearest again looks to have performed better here, with the outline more defined than RF."
   ]
  },
  {
   "cell_type": "code",
   "execution_count": 78,
   "metadata": {
    "ExecuteTime": {
     "end_time": "2023-07-06T15:37:18.192059Z",
     "start_time": "2023-07-06T15:37:17.346608Z"
    },
    "scrolled": false
   },
   "outputs": [
    {
     "data": {
      "text/plain": [
       "Text(0, 0.5, 'Longitude (meters from value)')"
      ]
     },
     "execution_count": 78,
     "metadata": {},
     "output_type": "execute_result"
    },
    {
     "data": {
      "image/png": "[encoded data removed]",
      "text/plain": [
       "<Figure size 1080x720 with 6 Axes>"
      ]
     },
     "metadata": {
      "needs_background": "light"
     },
     "output_type": "display_data"
    }
   ],
   "source": [
    "#Creating a dashboard of all the error plots\n",
    "fig,((axsB00,axsB01),(axsB10,axsB11),(axsB20,axsB21))=plt.subplots(nrows=3,ncols=2,figsize=(15,10))\n",
    "\n",
    "#font size\n",
    "fontdict = {'fontsize': 18}\n",
    "fontdict_yaxis = {'fontsize': 14}\n",
    "\n",
    "axsB00.scatter(b0_comp['Latitude KN Error'], b0_comp['Longitude KN Error'],marker=\".\")\n",
    "axsB00.set_title('Building 0 KN Errors')\n",
    "axsB01.scatter(b0_comp['Latitude RF Error'],-b0_comp['Longitude RF Error'],marker=\".\")\n",
    "axsB01.set_title('Building 0 RF Errors')\n",
    "\n",
    "axsB10.scatter(b1_comp['Latitude KN Error'], b1_comp['Longitude KN Error'],marker=\".\")\n",
    "axsB10.set_title('Building 1 KN Errors')\n",
    "axsB11.scatter(b1_comp['Latitude RF Error'],-b1_comp['Longitude RF Error'],marker=\".\")\n",
    "axsB11.set_title('Building 1 RF Errors')\n",
    "\n",
    "axsB20.scatter(b2_comp['Latitude KN Error'], b2_comp['Longitude KN Error'],marker=\".\")\n",
    "axsB20.set_title('Building 2 KN Errors')\n",
    "axsB21.scatter(b2_comp['Latitude RF Error'],-b2_comp['Longitude RF Error'],marker=\".\")\n",
    "axsB21.set_title('Building 2 RF Errors')\n",
    "\n",
    "axsB00.axhline(y=0,color='r', linestyle='-')\n",
    "axsB00.axvline(x=0,color='r', linestyle='-')\n",
    "axsB01.axhline(y=0,color='r', linestyle='-')\n",
    "axsB01.axvline(x=0,color='r', linestyle='-')\n",
    "axsB10.axhline(y=0,color='r', linestyle='-')\n",
    "axsB10.axvline(x=0,color='r', linestyle='-')\n",
    "axsB11.axhline(y=0,color='r', linestyle='-')\n",
    "axsB11.axvline(x=0,color='r', linestyle='-')\n",
    "axsB20.axhline(y=0,color='r', linestyle='-')\n",
    "axsB20.axvline(x=0,color='r', linestyle='-')\n",
    "axsB21.axhline(y=0,color='r', linestyle='-')\n",
    "axsB21.axvline(x=0,color='r', linestyle='-')\n",
    "\n",
    "axsB20.set_xlabel('Latitude (meters from value)')\n",
    "axsB10.set_ylabel('Longitude (meters from value)')"
   ]
  },
  {
   "cell_type": "markdown",
   "metadata": {},
   "source": [
    "Most of the errors in Building 0 are within 20 meters in longitude and latitude, with KN perhaps having a tighter nucleus.\n",
    "\n",
    "KN errors are more condensed around the (0,0) center than RF for Building 1.\n",
    "\n",
    "Building 2 RF looks to have slightly more accurate with more points closer to the center than KN."
   ]
  },
  {
   "cell_type": "markdown",
   "metadata": {},
   "source": [
    "### Error comparisons"
   ]
  },
  {
   "cell_type": "code",
   "execution_count": 152,
   "metadata": {
    "ExecuteTime": {
     "end_time": "2023-07-07T10:52:49.496834Z",
     "start_time": "2023-07-07T10:52:49.413301Z"
    }
   },
   "outputs": [],
   "source": [
    "#Error Metrics\n",
    "\n",
    "#Building 0\n",
    "#RF\n",
    "RF_long_b0_validation_errors=[mean_absolute_error(b0_comp['Real Longitude'], b0_comp['Predicted RF Longitude']),r2_score(b0_comp['Real Longitude'], b0_comp['Predicted RF Longitude']),mean_squared_error(b0_comp['Real Longitude'], b0_comp['Predicted RF Longitude']),\n",
    "               mean_squared_error(b0_comp['Real Longitude'], b0_comp['Predicted RF Longitude'],squared=False)]\n",
    "RF_lat_b0_validation_errors=[mean_absolute_error(b0_comp['Real Latitude'], b0_comp['Predicted RF Latitude']),r2_score(b0_comp['Real Latitude'], b0_comp['Predicted RF Latitude']),mean_squared_error(b0_comp['Real Latitude'], b0_comp['Predicted RF Latitude']),\n",
    "               mean_squared_error(b0_comp['Real Latitude'], b0_comp['Predicted RF Latitude'],squared=False)]\n",
    "#KN\n",
    "KN_long_b0_validation_errors=[mean_absolute_error(b0_comp['Real Longitude'], b0_comp['Predicted KN Longitude']),r2_score(b0_comp['Real Longitude'], b0_comp['Predicted KN Longitude']),mean_squared_error(b0_comp['Real Longitude'], b0_comp['Predicted KN Longitude']),\n",
    "               mean_squared_error(b0_comp['Real Longitude'], b0_comp['Predicted KN Longitude'],squared=False)]\n",
    "KN_lat_b0_validation_errors=[mean_absolute_error(b0_comp['Real Latitude'], b0_comp['Predicted KN Latitude']),r2_score(b0_comp['Real Latitude'], b0_comp['Predicted KN Latitude']),mean_squared_error(b0_comp['Real Latitude'], b0_comp['Predicted KN Latitude']),\n",
    "               mean_squared_error(b0_comp['Real Latitude'], b0_comp['Predicted KN Latitude'],squared=False)]\n",
    "\n",
    "#Building 1\n",
    "#RF\n",
    "RF_long_b1_validation_errors=[mean_absolute_error(b1_comp['Real Longitude'], b1_comp['Predicted RF Longitude']),r2_score(b1_comp['Real Longitude'], b1_comp['Predicted RF Longitude']),mean_squared_error(b1_comp['Real Longitude'], b1_comp['Predicted RF Longitude']),\n",
    "               mean_squared_error(b1_comp['Real Longitude'], b1_comp['Predicted RF Longitude'],squared=False)]\n",
    "RF_lat_b1_validation_errors=[mean_absolute_error(b1_comp['Real Latitude'], b1_comp['Predicted RF Latitude']),r2_score(b1_comp['Real Latitude'], b1_comp['Predicted RF Latitude']),mean_squared_error(b1_comp['Real Latitude'], b1_comp['Predicted RF Latitude']),\n",
    "               mean_squared_error(b1_comp['Real Latitude'], b1_comp['Predicted RF Latitude'],squared=False)]\n",
    "#KN\n",
    "KN_long_b1_validation_errors=[mean_absolute_error(b1_comp['Real Longitude'], b1_comp['Predicted KN Longitude']),r2_score(b1_comp['Real Longitude'], b1_comp['Predicted KN Longitude']),mean_squared_error(b1_comp['Real Longitude'], b1_comp['Predicted KN Longitude']),\n",
    "               mean_squared_error(b1_comp['Real Longitude'], b1_comp['Predicted KN Longitude'],squared=False)]\n",
    "KN_lat_b1_validation_errors=[mean_absolute_error(b1_comp['Real Latitude'], b1_comp['Predicted KN Latitude']),r2_score(b1_comp['Real Latitude'], b1_comp['Predicted KN Latitude']),mean_squared_error(b1_comp['Real Latitude'], b1_comp['Predicted KN Latitude']),\n",
    "               mean_squared_error(b1_comp['Real Latitude'], b1_comp['Predicted KN Latitude'],squared=False)]\n",
    "\n",
    "#Building 2\n",
    "#RF\n",
    "RF_long_b2_validation_errors=[mean_absolute_error(b2_comp['Real Longitude'], b2_comp['Predicted RF Longitude']),r2_score(b2_comp['Real Longitude'], b2_comp['Predicted RF Longitude']),mean_squared_error(b2_comp['Real Longitude'], b2_comp['Predicted RF Longitude']),\n",
    "               mean_squared_error(b2_comp['Real Longitude'], b2_comp['Predicted RF Longitude'],squared=False)]\n",
    "RF_lat_b2_validation_errors=[mean_absolute_error(b2_comp['Real Latitude'], b2_comp['Predicted RF Latitude']),r2_score(b2_comp['Real Latitude'], b2_comp['Predicted RF Latitude']),mean_squared_error(b2_comp['Real Latitude'], b2_comp['Predicted RF Latitude']),\n",
    "               mean_squared_error(b2_comp['Real Latitude'], b2_comp['Predicted RF Latitude'],squared=False)]\n",
    "#KN\n",
    "KN_long_b2_validation_errors=[mean_absolute_error(b2_comp['Real Longitude'], b2_comp['Predicted KN Longitude']),r2_score(b2_comp['Real Longitude'], b2_comp['Predicted KN Longitude']),mean_squared_error(b2_comp['Real Longitude'], b2_comp['Predicted KN Longitude']),\n",
    "               mean_squared_error(b2_comp['Real Longitude'], b2_comp['Predicted KN Longitude'],squared=False)]\n",
    "KN_lat_b2_validation_errors=[mean_absolute_error(b2_comp['Real Latitude'], b2_comp['Predicted KN Latitude']),r2_score(b2_comp['Real Latitude'], b2_comp['Predicted KN Latitude']),mean_squared_error(b2_comp['Real Latitude'], b2_comp['Predicted KN Latitude']),\n",
    "               mean_squared_error(b2_comp['Real Latitude'], b2_comp['Predicted KN Latitude'],squared=False)]"
   ]
  },
  {
   "cell_type": "code",
   "execution_count": 153,
   "metadata": {
    "ExecuteTime": {
     "end_time": "2023-07-07T10:56:22.151797Z",
     "start_time": "2023-07-07T10:56:22.106195Z"
    }
   },
   "outputs": [],
   "source": [
    "#Defining the labels for error comparison\n",
    "reg_model=['Random Forest','K Nearest Neighbours']\n",
    "error_stat=['MAE','R Squared', 'MSE','RMSE']\n",
    "\n",
    "df_valid_error_validation_b0_lat=pd.DataFrame(columns=reg_model, index=error_stat\n",
    "                        )\n",
    "df_valid_error_validation_b0_long=pd.DataFrame(columns=reg_model, index=error_stat\n",
    "                        )\n",
    "\n",
    "df_valid_error_validation_b1_lat=pd.DataFrame(columns=reg_model, index=error_stat\n",
    "                        )\n",
    "df_valid_error_validation_b1_long=pd.DataFrame(columns=reg_model, index=error_stat\n",
    "                        )\n",
    "\n",
    "df_valid_error_validation_b2_lat=pd.DataFrame(columns=reg_model, index=error_stat\n",
    "                        )\n",
    "df_valid_error_validation_b2_long=pd.DataFrame(columns=reg_model, index=error_stat\n",
    "                        )\n",
    "\n",
    "#Building 0\n",
    "df_valid_error_validation_b0_lat['Random Forest']=RF_lat_b0_validation_errors\n",
    "df_valid_error_validation_b0_lat['K Nearest Neighbours'] = KN_lat_b0_validation_errors\n",
    "\n",
    "df_valid_error_validation_b0_long['Random Forest']=RF_long_b0_validation_errors\n",
    "df_valid_error_validation_b0_long['K Nearest Neighbours'] = KN_long_b0_validation_errors\n",
    "\n",
    "df_valid_error_validation_b1_lat['Random Forest']=RF_lat_b1_validation_errors\n",
    "df_valid_error_validation_b1_lat['K Nearest Neighbours'] = KN_lat_b1_validation_errors\n",
    "\n",
    "df_valid_error_validation_b1_long['Random Forest']=RF_long_b1_validation_errors\n",
    "df_valid_error_validation_b1_long['K Nearest Neighbours'] = KN_long_b1_validation_errors\n",
    "\n",
    "#Building 2\n",
    "df_valid_error_validation_b2_lat['Random Forest']=RF_lat_b2_validation_errors\n",
    "df_valid_error_validation_b2_lat['K Nearest Neighbours'] = KN_lat_b2_validation_errors\n",
    "\n",
    "df_valid_error_validation_b2_long['Random Forest']=RF_long_b2_validation_errors\n",
    "df_valid_error_validation_b2_long['K Nearest Neighbours'] = KN_long_b2_validation_errors"
   ]
  },
  {
   "cell_type": "markdown",
   "metadata": {},
   "source": [
    "#### Building 0"
   ]
  },
  {
   "cell_type": "code",
   "execution_count": 154,
   "metadata": {
    "ExecuteTime": {
     "end_time": "2023-07-07T10:56:42.422063Z",
     "start_time": "2023-07-07T10:56:42.402098Z"
    },
    "scrolled": true
   },
   "outputs": [
    {
     "data": {
      "text/html": [
       "<div>\n",
       "<style scoped>\n",
       "    .dataframe tbody tr th:only-of-type {\n",
       "        vertical-align: middle;\n",
       "    }\n",
       "\n",
       "    .dataframe tbody tr th {\n",
       "        vertical-align: top;\n",
       "    }\n",
       "\n",
       "    .dataframe thead th {\n",
       "        text-align: right;\n",
       "    }\n",
       "</style>\n",
       "<table border=\"1\" class=\"dataframe\">\n",
       "  <thead>\n",
       "    <tr style=\"text-align: right;\">\n",
       "      <th></th>\n",
       "      <th>Random Forest</th>\n",
       "      <th>K Nearest Neighbours</th>\n",
       "    </tr>\n",
       "  </thead>\n",
       "  <tbody>\n",
       "    <tr>\n",
       "      <th>MAE</th>\n",
       "      <td>4.700397</td>\n",
       "      <td>3.526988</td>\n",
       "    </tr>\n",
       "    <tr>\n",
       "      <th>R Squared</th>\n",
       "      <td>0.944857</td>\n",
       "      <td>0.965441</td>\n",
       "    </tr>\n",
       "    <tr>\n",
       "      <th>MSE</th>\n",
       "      <td>56.115324</td>\n",
       "      <td>35.168357</td>\n",
       "    </tr>\n",
       "    <tr>\n",
       "      <th>RMSE</th>\n",
       "      <td>7.491016</td>\n",
       "      <td>5.930292</td>\n",
       "    </tr>\n",
       "  </tbody>\n",
       "</table>\n",
       "</div>"
      ],
      "text/plain": [
       "           Random Forest  K Nearest Neighbours\n",
       "MAE             4.700397              3.526988\n",
       "R Squared       0.944857              0.965441\n",
       "MSE            56.115324             35.168357\n",
       "RMSE            7.491016              5.930292"
      ]
     },
     "execution_count": 154,
     "metadata": {},
     "output_type": "execute_result"
    }
   ],
   "source": [
    "print(\"Error Metrics for validation set Latitude predictions in Building 0:\")\n",
    "df_valid_error_validation_b0_lat"
   ]
  },
  {
   "cell_type": "code",
   "execution_count": 155,
   "metadata": {
    "ExecuteTime": {
     "end_time": "2023-07-07T10:56:53.388108Z",
     "start_time": "2023-07-07T10:56:53.358813Z"
    },
    "scrolled": false
   },
   "outputs": [
    {
     "data": {
      "text/html": [
       "<div>\n",
       "<style scoped>\n",
       "    .dataframe tbody tr th:only-of-type {\n",
       "        vertical-align: middle;\n",
       "    }\n",
       "\n",
       "    .dataframe tbody tr th {\n",
       "        vertical-align: top;\n",
       "    }\n",
       "\n",
       "    .dataframe thead th {\n",
       "        text-align: right;\n",
       "    }\n",
       "</style>\n",
       "<table border=\"1\" class=\"dataframe\">\n",
       "  <thead>\n",
       "    <tr style=\"text-align: right;\">\n",
       "      <th></th>\n",
       "      <th>Random Forest</th>\n",
       "      <th>K Nearest Neighbours</th>\n",
       "    </tr>\n",
       "  </thead>\n",
       "  <tbody>\n",
       "    <tr>\n",
       "      <th>MAE</th>\n",
       "      <td>4.911700</td>\n",
       "      <td>4.017717</td>\n",
       "    </tr>\n",
       "    <tr>\n",
       "      <th>R Squared</th>\n",
       "      <td>0.914506</td>\n",
       "      <td>0.941721</td>\n",
       "    </tr>\n",
       "    <tr>\n",
       "      <th>MSE</th>\n",
       "      <td>59.174094</td>\n",
       "      <td>40.337393</td>\n",
       "    </tr>\n",
       "    <tr>\n",
       "      <th>RMSE</th>\n",
       "      <td>7.692470</td>\n",
       "      <td>6.351173</td>\n",
       "    </tr>\n",
       "  </tbody>\n",
       "</table>\n",
       "</div>"
      ],
      "text/plain": [
       "           Random Forest  K Nearest Neighbours\n",
       "MAE             4.911700              4.017717\n",
       "R Squared       0.914506              0.941721\n",
       "MSE            59.174094             40.337393\n",
       "RMSE            7.692470              6.351173"
      ]
     },
     "execution_count": 155,
     "metadata": {},
     "output_type": "execute_result"
    }
   ],
   "source": [
    "print(\"Error Metrics for validation set Longitude predictions in Building 0:\")\n",
    "df_valid_error_validation_b0_long"
   ]
  },
  {
   "cell_type": "markdown",
   "metadata": {},
   "source": [
    "#### Building 1"
   ]
  },
  {
   "cell_type": "code",
   "execution_count": 154,
   "metadata": {
    "ExecuteTime": {
     "end_time": "2023-07-07T10:56:42.422063Z",
     "start_time": "2023-07-07T10:56:42.402098Z"
    },
    "scrolled": true
   },
   "outputs": [
    {
     "data": {
      "text/html": [
       "<div>\n",
       "<style scoped>\n",
       "    .dataframe tbody tr th:only-of-type {\n",
       "        vertical-align: middle;\n",
       "    }\n",
       "\n",
       "    .dataframe tbody tr th {\n",
       "        vertical-align: top;\n",
       "    }\n",
       "\n",
       "    .dataframe thead th {\n",
       "        text-align: right;\n",
       "    }\n",
       "</style>\n",
       "<table border=\"1\" class=\"dataframe\">\n",
       "  <thead>\n",
       "    <tr style=\"text-align: right;\">\n",
       "      <th></th>\n",
       "      <th>Random Forest</th>\n",
       "      <th>K Nearest Neighbours</th>\n",
       "    </tr>\n",
       "  </thead>\n",
       "  <tbody>\n",
       "    <tr>\n",
       "      <th>MAE</th>\n",
       "      <td>4.700397</td>\n",
       "      <td>3.526988</td>\n",
       "    </tr>\n",
       "    <tr>\n",
       "      <th>R Squared</th>\n",
       "      <td>0.944857</td>\n",
       "      <td>0.965441</td>\n",
       "    </tr>\n",
       "    <tr>\n",
       "      <th>MSE</th>\n",
       "      <td>56.115324</td>\n",
       "      <td>35.168357</td>\n",
       "    </tr>\n",
       "    <tr>\n",
       "      <th>RMSE</th>\n",
       "      <td>7.491016</td>\n",
       "      <td>5.930292</td>\n",
       "    </tr>\n",
       "  </tbody>\n",
       "</table>\n",
       "</div>"
      ],
      "text/plain": [
       "           Random Forest  K Nearest Neighbours\n",
       "MAE             4.700397              3.526988\n",
       "R Squared       0.944857              0.965441\n",
       "MSE            56.115324             35.168357\n",
       "RMSE            7.491016              5.930292"
      ]
     },
     "execution_count": 154,
     "metadata": {},
     "output_type": "execute_result"
    }
   ],
   "source": [
    "print(\"Error Metrics for validation set Latitude predictions in Building 1:\")\n",
    "df_valid_error_validation_b1_lat"
   ]
  },
  {
   "cell_type": "code",
   "execution_count": 158,
   "metadata": {
    "ExecuteTime": {
     "end_time": "2023-07-07T10:59:27.955887Z",
     "start_time": "2023-07-07T10:59:27.939108Z"
    },
    "scrolled": true
   },
   "outputs": [
    {
     "name": "stdout",
     "output_type": "stream",
     "text": [
      "Error Metrics for validation set Longitude predictions in Building 1c:\n"
     ]
    },
    {
     "data": {
      "text/html": [
       "<div>\n",
       "<style scoped>\n",
       "    .dataframe tbody tr th:only-of-type {\n",
       "        vertical-align: middle;\n",
       "    }\n",
       "\n",
       "    .dataframe tbody tr th {\n",
       "        vertical-align: top;\n",
       "    }\n",
       "\n",
       "    .dataframe thead th {\n",
       "        text-align: right;\n",
       "    }\n",
       "</style>\n",
       "<table border=\"1\" class=\"dataframe\">\n",
       "  <thead>\n",
       "    <tr style=\"text-align: right;\">\n",
       "      <th></th>\n",
       "      <th>Random Forest</th>\n",
       "      <th>K Nearest Neighbours</th>\n",
       "    </tr>\n",
       "  </thead>\n",
       "  <tbody>\n",
       "    <tr>\n",
       "      <th>MAE</th>\n",
       "      <td>7.131037</td>\n",
       "      <td>6.568645</td>\n",
       "    </tr>\n",
       "    <tr>\n",
       "      <th>R Squared</th>\n",
       "      <td>0.950580</td>\n",
       "      <td>0.946005</td>\n",
       "    </tr>\n",
       "    <tr>\n",
       "      <th>MSE</th>\n",
       "      <td>103.070937</td>\n",
       "      <td>112.611892</td>\n",
       "    </tr>\n",
       "    <tr>\n",
       "      <th>RMSE</th>\n",
       "      <td>10.152386</td>\n",
       "      <td>10.611875</td>\n",
       "    </tr>\n",
       "  </tbody>\n",
       "</table>\n",
       "</div>"
      ],
      "text/plain": [
       "           Random Forest  K Nearest Neighbours\n",
       "MAE             7.131037              6.568645\n",
       "R Squared       0.950580              0.946005\n",
       "MSE           103.070937            112.611892\n",
       "RMSE           10.152386             10.611875"
      ]
     },
     "execution_count": 158,
     "metadata": {},
     "output_type": "execute_result"
    }
   ],
   "source": [
    "print(\"Error Metrics for validation set Longitude predictions in Building 1c:\")\n",
    "df_valid_error_validation_b1_long"
   ]
  },
  {
   "cell_type": "markdown",
   "metadata": {},
   "source": [
    "#### Building 2"
   ]
  },
  {
   "cell_type": "code",
   "execution_count": 157,
   "metadata": {
    "ExecuteTime": {
     "end_time": "2023-07-07T10:59:24.630304Z",
     "start_time": "2023-07-07T10:59:24.611323Z"
    },
    "scrolled": true
   },
   "outputs": [
    {
     "name": "stdout",
     "output_type": "stream",
     "text": [
      "Error Metrics for validation set Latitude predictions in Building 2:\n"
     ]
    },
    {
     "data": {
      "text/html": [
       "<div>\n",
       "<style scoped>\n",
       "    .dataframe tbody tr th:only-of-type {\n",
       "        vertical-align: middle;\n",
       "    }\n",
       "\n",
       "    .dataframe tbody tr th {\n",
       "        vertical-align: top;\n",
       "    }\n",
       "\n",
       "    .dataframe thead th {\n",
       "        text-align: right;\n",
       "    }\n",
       "</style>\n",
       "<table border=\"1\" class=\"dataframe\">\n",
       "  <thead>\n",
       "    <tr style=\"text-align: right;\">\n",
       "      <th></th>\n",
       "      <th>Random Forest</th>\n",
       "      <th>K Nearest Neighbours</th>\n",
       "    </tr>\n",
       "  </thead>\n",
       "  <tbody>\n",
       "    <tr>\n",
       "      <th>MAE</th>\n",
       "      <td>8.045274</td>\n",
       "      <td>6.824960</td>\n",
       "    </tr>\n",
       "    <tr>\n",
       "      <th>R Squared</th>\n",
       "      <td>0.827394</td>\n",
       "      <td>0.866449</td>\n",
       "    </tr>\n",
       "    <tr>\n",
       "      <th>MSE</th>\n",
       "      <td>140.258341</td>\n",
       "      <td>108.522868</td>\n",
       "    </tr>\n",
       "    <tr>\n",
       "      <th>RMSE</th>\n",
       "      <td>11.843071</td>\n",
       "      <td>10.417431</td>\n",
       "    </tr>\n",
       "  </tbody>\n",
       "</table>\n",
       "</div>"
      ],
      "text/plain": [
       "           Random Forest  K Nearest Neighbours\n",
       "MAE             8.045274              6.824960\n",
       "R Squared       0.827394              0.866449\n",
       "MSE           140.258341            108.522868\n",
       "RMSE           11.843071             10.417431"
      ]
     },
     "execution_count": 157,
     "metadata": {},
     "output_type": "execute_result"
    }
   ],
   "source": [
    "print(\"Error Metrics for validation set Latitude predictions in Building 2:\")\n",
    "df_valid_error_validation_b2_lat"
   ]
  },
  {
   "cell_type": "code",
   "execution_count": 156,
   "metadata": {
    "ExecuteTime": {
     "end_time": "2023-07-07T10:59:21.569063Z",
     "start_time": "2023-07-07T10:59:21.533542Z"
    },
    "scrolled": false
   },
   "outputs": [
    {
     "name": "stdout",
     "output_type": "stream",
     "text": [
      "Error Metrics for validation set Longitude predictions in Building 2:\n"
     ]
    },
    {
     "data": {
      "text/html": [
       "<div>\n",
       "<style scoped>\n",
       "    .dataframe tbody tr th:only-of-type {\n",
       "        vertical-align: middle;\n",
       "    }\n",
       "\n",
       "    .dataframe tbody tr th {\n",
       "        vertical-align: top;\n",
       "    }\n",
       "\n",
       "    .dataframe thead th {\n",
       "        text-align: right;\n",
       "    }\n",
       "</style>\n",
       "<table border=\"1\" class=\"dataframe\">\n",
       "  <thead>\n",
       "    <tr style=\"text-align: right;\">\n",
       "      <th></th>\n",
       "      <th>Random Forest</th>\n",
       "      <th>K Nearest Neighbours</th>\n",
       "    </tr>\n",
       "  </thead>\n",
       "  <tbody>\n",
       "    <tr>\n",
       "      <th>MAE</th>\n",
       "      <td>8.370941</td>\n",
       "      <td>7.788749</td>\n",
       "    </tr>\n",
       "    <tr>\n",
       "      <th>R Squared</th>\n",
       "      <td>0.859774</td>\n",
       "      <td>0.850385</td>\n",
       "    </tr>\n",
       "    <tr>\n",
       "      <th>MSE</th>\n",
       "      <td>138.135699</td>\n",
       "      <td>147.384414</td>\n",
       "    </tr>\n",
       "    <tr>\n",
       "      <th>RMSE</th>\n",
       "      <td>11.753114</td>\n",
       "      <td>12.140198</td>\n",
       "    </tr>\n",
       "  </tbody>\n",
       "</table>\n",
       "</div>"
      ],
      "text/plain": [
       "           Random Forest  K Nearest Neighbours\n",
       "MAE             8.370941              7.788749\n",
       "R Squared       0.859774              0.850385\n",
       "MSE           138.135699            147.384414\n",
       "RMSE           11.753114             12.140198"
      ]
     },
     "execution_count": 156,
     "metadata": {},
     "output_type": "execute_result"
    }
   ],
   "source": [
    "print(\"Error Metrics for validation set Longitude predictions in Building 2:\")\n",
    "df_valid_error_validation_b2_long"
   ]
  },
  {
   "cell_type": "markdown",
   "metadata": {},
   "source": [
    "## Model optimisation"
   ]
  },
  {
   "cell_type": "markdown",
   "metadata": {},
   "source": [
    "I will try to improve results by tuning the hyperparameters in one of our worst performing models, "
   ]
  },
  {
   "cell_type": "code",
   "execution_count": 82,
   "metadata": {
    "ExecuteTime": {
     "end_time": "2023-07-06T17:10:12.047008Z",
     "start_time": "2023-07-06T15:37:18.257215Z"
    },
    "scrolled": true
   },
   "outputs": [
    {
     "name": "stdout",
     "output_type": "stream",
     "text": [
      "Fitting 3 folds for each of 100 candidates, totalling 300 fits\n"
     ]
    },
    {
     "data": {
      "text/html": [
       "<style>#sk-container-id-1 {color: black;background-color: white;}#sk-container-id-1 pre{padding: 0;}#sk-container-id-1 div.sk-toggleable {background-color: white;}#sk-container-id-1 label.sk-toggleable__label {cursor: pointer;display: block;width: 100%;margin-bottom: 0;padding: 0.3em;box-sizing: border-box;text-align: center;}#sk-container-id-1 label.sk-toggleable__label-arrow:before {content: \"▸\";float: left;margin-right: 0.25em;color: #696969;}#sk-container-id-1 label.sk-toggleable__label-arrow:hover:before {color: black;}#sk-container-id-1 div.sk-estimator:hover label.sk-toggleable__label-arrow:before {color: black;}#sk-container-id-1 div.sk-toggleable__content {max-height: 0;max-width: 0;overflow: hidden;text-align: left;background-color: #f0f8ff;}#sk-container-id-1 div.sk-toggleable__content pre {margin: 0.2em;color: black;border-radius: 0.25em;background-color: #f0f8ff;}#sk-container-id-1 input.sk-toggleable__control:checked~div.sk-toggleable__content {max-height: 200px;max-width: 100%;overflow: auto;}#sk-container-id-1 input.sk-toggleable__control:checked~label.sk-toggleable__label-arrow:before {content: \"▾\";}#sk-container-id-1 div.sk-estimator input.sk-toggleable__control:checked~label.sk-toggleable__label {background-color: #d4ebff;}#sk-container-id-1 div.sk-label input.sk-toggleable__control:checked~label.sk-toggleable__label {background-color: #d4ebff;}#sk-container-id-1 input.sk-hidden--visually {border: 0;clip: rect(1px 1px 1px 1px);clip: rect(1px, 1px, 1px, 1px);height: 1px;margin: -1px;overflow: hidden;padding: 0;position: absolute;width: 1px;}#sk-container-id-1 div.sk-estimator {font-family: monospace;background-color: #f0f8ff;border: 1px dotted black;border-radius: 0.25em;box-sizing: border-box;margin-bottom: 0.5em;}#sk-container-id-1 div.sk-estimator:hover {background-color: #d4ebff;}#sk-container-id-1 div.sk-parallel-item::after {content: \"\";width: 100%;border-bottom: 1px solid gray;flex-grow: 1;}#sk-container-id-1 div.sk-label:hover label.sk-toggleable__label {background-color: #d4ebff;}#sk-container-id-1 div.sk-serial::before {content: \"\";position: absolute;border-left: 1px solid gray;box-sizing: border-box;top: 0;bottom: 0;left: 50%;z-index: 0;}#sk-container-id-1 div.sk-serial {display: flex;flex-direction: column;align-items: center;background-color: white;padding-right: 0.2em;padding-left: 0.2em;position: relative;}#sk-container-id-1 div.sk-item {position: relative;z-index: 1;}#sk-container-id-1 div.sk-parallel {display: flex;align-items: stretch;justify-content: center;background-color: white;position: relative;}#sk-container-id-1 div.sk-item::before, #sk-container-id-1 div.sk-parallel-item::before {content: \"\";position: absolute;border-left: 1px solid gray;box-sizing: border-box;top: 0;bottom: 0;left: 50%;z-index: -1;}#sk-container-id-1 div.sk-parallel-item {display: flex;flex-direction: column;z-index: 1;position: relative;background-color: white;}#sk-container-id-1 div.sk-parallel-item:first-child::after {align-self: flex-end;width: 50%;}#sk-container-id-1 div.sk-parallel-item:last-child::after {align-self: flex-start;width: 50%;}#sk-container-id-1 div.sk-parallel-item:only-child::after {width: 0;}#sk-container-id-1 div.sk-dashed-wrapped {border: 1px dashed gray;margin: 0 0.4em 0.5em 0.4em;box-sizing: border-box;padding-bottom: 0.4em;background-color: white;}#sk-container-id-1 div.sk-label label {font-family: monospace;font-weight: bold;display: inline-block;line-height: 1.2em;}#sk-container-id-1 div.sk-label-container {text-align: center;}#sk-container-id-1 div.sk-container {/* jupyter's `normalize.less` sets `[hidden] { display: none; }` but bootstrap.min.css set `[hidden] { display: none !important; }` so we also need the `!important` here to be able to override the default hidden behavior on the sphinx rendered scikit-learn.org. See: https://github.com/scikit-learn/scikit-learn/issues/21755 */display: inline-block !important;position: relative;}#sk-container-id-1 div.sk-text-repr-fallback {display: none;}</style><div id=\"sk-container-id-1\" class=\"sk-top-container\"><div class=\"sk-text-repr-fallback\"><pre>RandomizedSearchCV(cv=3, estimator=RandomForestRegressor(), n_iter=100,\n",
       "                   n_jobs=-1,\n",
       "                   param_distributions={&#x27;bootstrap&#x27;: [True, False],\n",
       "                                        &#x27;max_depth&#x27;: [10, 20, 30, 40, 50, 60,\n",
       "                                                      70, 80, 90, 100, 110,\n",
       "                                                      None],\n",
       "                                        &#x27;max_features&#x27;: [&#x27;auto&#x27;, &#x27;sqrt&#x27;],\n",
       "                                        &#x27;min_samples_leaf&#x27;: [1, 2, 4],\n",
       "                                        &#x27;min_samples_split&#x27;: [2, 5, 10],\n",
       "                                        &#x27;n_estimators&#x27;: [200, 400, 600, 800,\n",
       "                                                         1000, 1200, 1400, 1600,\n",
       "                                                         1800, 2000]},\n",
       "                   random_state=42, verbose=2)</pre><b>In a Jupyter environment, please rerun this cell to show the HTML representation or trust the notebook. <br />On GitHub, the HTML representation is unable to render, please try loading this page with nbviewer.org.</b></div><div class=\"sk-container\" hidden><div class=\"sk-item sk-dashed-wrapped\"><div class=\"sk-label-container\"><div class=\"sk-label sk-toggleable\"><input class=\"sk-toggleable__control sk-hidden--visually\" id=\"sk-estimator-id-1\" type=\"checkbox\" ><label for=\"sk-estimator-id-1\" class=\"sk-toggleable__label sk-toggleable__label-arrow\">RandomizedSearchCV</label><div class=\"sk-toggleable__content\"><pre>RandomizedSearchCV(cv=3, estimator=RandomForestRegressor(), n_iter=100,\n",
       "                   n_jobs=-1,\n",
       "                   param_distributions={&#x27;bootstrap&#x27;: [True, False],\n",
       "                                        &#x27;max_depth&#x27;: [10, 20, 30, 40, 50, 60,\n",
       "                                                      70, 80, 90, 100, 110,\n",
       "                                                      None],\n",
       "                                        &#x27;max_features&#x27;: [&#x27;auto&#x27;, &#x27;sqrt&#x27;],\n",
       "                                        &#x27;min_samples_leaf&#x27;: [1, 2, 4],\n",
       "                                        &#x27;min_samples_split&#x27;: [2, 5, 10],\n",
       "                                        &#x27;n_estimators&#x27;: [200, 400, 600, 800,\n",
       "                                                         1000, 1200, 1400, 1600,\n",
       "                                                         1800, 2000]},\n",
       "                   random_state=42, verbose=2)</pre></div></div></div><div class=\"sk-parallel\"><div class=\"sk-parallel-item\"><div class=\"sk-item\"><div class=\"sk-label-container\"><div class=\"sk-label sk-toggleable\"><input class=\"sk-toggleable__control sk-hidden--visually\" id=\"sk-estimator-id-2\" type=\"checkbox\" ><label for=\"sk-estimator-id-2\" class=\"sk-toggleable__label sk-toggleable__label-arrow\">estimator: RandomForestRegressor</label><div class=\"sk-toggleable__content\"><pre>RandomForestRegressor()</pre></div></div></div><div class=\"sk-serial\"><div class=\"sk-item\"><div class=\"sk-estimator sk-toggleable\"><input class=\"sk-toggleable__control sk-hidden--visually\" id=\"sk-estimator-id-3\" type=\"checkbox\" ><label for=\"sk-estimator-id-3\" class=\"sk-toggleable__label sk-toggleable__label-arrow\">RandomForestRegressor</label><div class=\"sk-toggleable__content\"><pre>RandomForestRegressor()</pre></div></div></div></div></div></div></div></div></div></div>"
      ],
      "text/plain": [
       "RandomizedSearchCV(cv=3, estimator=RandomForestRegressor(), n_iter=100,\n",
       "                   n_jobs=-1,\n",
       "                   param_distributions={'bootstrap': [True, False],\n",
       "                                        'max_depth': [10, 20, 30, 40, 50, 60,\n",
       "                                                      70, 80, 90, 100, 110,\n",
       "                                                      None],\n",
       "                                        'max_features': ['auto', 'sqrt'],\n",
       "                                        'min_samples_leaf': [1, 2, 4],\n",
       "                                        'min_samples_split': [2, 5, 10],\n",
       "                                        'n_estimators': [200, 400, 600, 800,\n",
       "                                                         1000, 1200, 1400, 1600,\n",
       "                                                         1800, 2000]},\n",
       "                   random_state=42, verbose=2)"
      ]
     },
     "execution_count": 82,
     "metadata": {},
     "output_type": "execute_result"
    }
   ],
   "source": [
    "from sklearn.model_selection import RandomizedSearchCV\n",
    "# Number of trees in random forest\n",
    "n_estimators = [int(x) for x in np.linspace(start = 200, stop = 2000, num = 10)]\n",
    "# Number of features to consider at every split\n",
    "max_features = ['auto', 'sqrt']\n",
    "# Maximum number of levels in tree\n",
    "max_depth = [int(x) for x in np.linspace(10, 110, num = 11)]\n",
    "max_depth.append(None)\n",
    "# Minimum number of samples required to split a node\n",
    "min_samples_split = [2, 5, 10]\n",
    "# Minimum number of samples required at each leaf node\n",
    "min_samples_leaf = [1, 2, 4]\n",
    "# Method of selecting samples for training each tree\n",
    "bootstrap = [True, False]\n",
    "# Create the random grid\n",
    "random_grid = {'n_estimators': n_estimators,\n",
    "               'max_features': max_features,\n",
    "               'max_depth': max_depth,\n",
    "               'min_samples_split': min_samples_split,\n",
    "               'min_samples_leaf': min_samples_leaf,\n",
    "               'bootstrap': bootstrap}\n",
    "\n",
    "# Use the random grid to search for best hyperparameters\n",
    "# First create the base model to tune\n",
    "rf = RandomForestRegressor()\n",
    "# Random search of parameters, using 3 fold cross validation, \n",
    "# search across 100 different combinations, and use all available cores\n",
    "rf_random = RandomizedSearchCV(estimator = rf, param_distributions = random_grid, n_iter = 100, cv = 3, verbose=2, random_state=42, n_jobs = -1)\n",
    "# Fit the random search model\n",
    "rf_random.fit(indep_var_regression_long_b2_train,dep_var_regression_long_b2_train)"
   ]
  },
  {
   "cell_type": "markdown",
   "metadata": {},
   "source": [
    "RandomizedSearchCV\n",
    "RandomizedSearchCV(cv=3, estimator=RandomForestRegressor(), n_iter=100,\n",
    "                   n_jobs=-1,\n",
    "                   param_distributions={'bootstrap': [True, False],\n",
    "                                        'max_depth': [10, 20, 30, 40, 50, 60,\n",
    "                                                      70, 80, 90, 100, 110,\n",
    "                                                      None],\n",
    "                                        'max_features': ['auto', 'sqrt'],\n",
    "                                        'min_samples_leaf': [1, 2, 4],\n",
    "                                        'min_samples_split': [2, 5, 10],\n",
    "                                        'n_estimators': [200, 400, 600, 800,\n",
    "                                                         1000, 1200, 1400, 1600,\n",
    "                                                         1800, 2000]},\n",
    "                   random_state=42, verbose=2)"
   ]
  },
  {
   "cell_type": "code",
   "execution_count": 88,
   "metadata": {
    "ExecuteTime": {
     "end_time": "2023-07-07T07:47:35.945808Z",
     "start_time": "2023-07-07T07:47:35.936236Z"
    }
   },
   "outputs": [
    {
     "data": {
      "text/plain": [
       "{'n_estimators': 400,\n",
       " 'min_samples_split': 2,\n",
       " 'min_samples_leaf': 1,\n",
       " 'max_features': 'sqrt',\n",
       " 'max_depth': None,\n",
       " 'bootstrap': False}"
      ]
     },
     "execution_count": 88,
     "metadata": {},
     "output_type": "execute_result"
    }
   ],
   "source": [
    "rf_random.best_params_"
   ]
  },
  {
   "cell_type": "code",
   "execution_count": 87,
   "metadata": {
    "ExecuteTime": {
     "end_time": "2023-07-07T07:47:15.030409Z",
     "start_time": "2023-07-07T07:47:15.010437Z"
    }
   },
   "outputs": [
    {
     "data": {
      "text/html": [
       "<style>#sk-container-id-2 {color: black;background-color: white;}#sk-container-id-2 pre{padding: 0;}#sk-container-id-2 div.sk-toggleable {background-color: white;}#sk-container-id-2 label.sk-toggleable__label {cursor: pointer;display: block;width: 100%;margin-bottom: 0;padding: 0.3em;box-sizing: border-box;text-align: center;}#sk-container-id-2 label.sk-toggleable__label-arrow:before {content: \"▸\";float: left;margin-right: 0.25em;color: #696969;}#sk-container-id-2 label.sk-toggleable__label-arrow:hover:before {color: black;}#sk-container-id-2 div.sk-estimator:hover label.sk-toggleable__label-arrow:before {color: black;}#sk-container-id-2 div.sk-toggleable__content {max-height: 0;max-width: 0;overflow: hidden;text-align: left;background-color: #f0f8ff;}#sk-container-id-2 div.sk-toggleable__content pre {margin: 0.2em;color: black;border-radius: 0.25em;background-color: #f0f8ff;}#sk-container-id-2 input.sk-toggleable__control:checked~div.sk-toggleable__content {max-height: 200px;max-width: 100%;overflow: auto;}#sk-container-id-2 input.sk-toggleable__control:checked~label.sk-toggleable__label-arrow:before {content: \"▾\";}#sk-container-id-2 div.sk-estimator input.sk-toggleable__control:checked~label.sk-toggleable__label {background-color: #d4ebff;}#sk-container-id-2 div.sk-label input.sk-toggleable__control:checked~label.sk-toggleable__label {background-color: #d4ebff;}#sk-container-id-2 input.sk-hidden--visually {border: 0;clip: rect(1px 1px 1px 1px);clip: rect(1px, 1px, 1px, 1px);height: 1px;margin: -1px;overflow: hidden;padding: 0;position: absolute;width: 1px;}#sk-container-id-2 div.sk-estimator {font-family: monospace;background-color: #f0f8ff;border: 1px dotted black;border-radius: 0.25em;box-sizing: border-box;margin-bottom: 0.5em;}#sk-container-id-2 div.sk-estimator:hover {background-color: #d4ebff;}#sk-container-id-2 div.sk-parallel-item::after {content: \"\";width: 100%;border-bottom: 1px solid gray;flex-grow: 1;}#sk-container-id-2 div.sk-label:hover label.sk-toggleable__label {background-color: #d4ebff;}#sk-container-id-2 div.sk-serial::before {content: \"\";position: absolute;border-left: 1px solid gray;box-sizing: border-box;top: 0;bottom: 0;left: 50%;z-index: 0;}#sk-container-id-2 div.sk-serial {display: flex;flex-direction: column;align-items: center;background-color: white;padding-right: 0.2em;padding-left: 0.2em;position: relative;}#sk-container-id-2 div.sk-item {position: relative;z-index: 1;}#sk-container-id-2 div.sk-parallel {display: flex;align-items: stretch;justify-content: center;background-color: white;position: relative;}#sk-container-id-2 div.sk-item::before, #sk-container-id-2 div.sk-parallel-item::before {content: \"\";position: absolute;border-left: 1px solid gray;box-sizing: border-box;top: 0;bottom: 0;left: 50%;z-index: -1;}#sk-container-id-2 div.sk-parallel-item {display: flex;flex-direction: column;z-index: 1;position: relative;background-color: white;}#sk-container-id-2 div.sk-parallel-item:first-child::after {align-self: flex-end;width: 50%;}#sk-container-id-2 div.sk-parallel-item:last-child::after {align-self: flex-start;width: 50%;}#sk-container-id-2 div.sk-parallel-item:only-child::after {width: 0;}#sk-container-id-2 div.sk-dashed-wrapped {border: 1px dashed gray;margin: 0 0.4em 0.5em 0.4em;box-sizing: border-box;padding-bottom: 0.4em;background-color: white;}#sk-container-id-2 div.sk-label label {font-family: monospace;font-weight: bold;display: inline-block;line-height: 1.2em;}#sk-container-id-2 div.sk-label-container {text-align: center;}#sk-container-id-2 div.sk-container {/* jupyter's `normalize.less` sets `[hidden] { display: none; }` but bootstrap.min.css set `[hidden] { display: none !important; }` so we also need the `!important` here to be able to override the default hidden behavior on the sphinx rendered scikit-learn.org. See: https://github.com/scikit-learn/scikit-learn/issues/21755 */display: inline-block !important;position: relative;}#sk-container-id-2 div.sk-text-repr-fallback {display: none;}</style><div id=\"sk-container-id-2\" class=\"sk-top-container\"><div class=\"sk-text-repr-fallback\"><pre>RandomForestRegressor(bootstrap=False, max_features=&#x27;sqrt&#x27;, n_estimators=400)</pre><b>In a Jupyter environment, please rerun this cell to show the HTML representation or trust the notebook. <br />On GitHub, the HTML representation is unable to render, please try loading this page with nbviewer.org.</b></div><div class=\"sk-container\" hidden><div class=\"sk-item\"><div class=\"sk-estimator sk-toggleable\"><input class=\"sk-toggleable__control sk-hidden--visually\" id=\"sk-estimator-id-4\" type=\"checkbox\" checked><label for=\"sk-estimator-id-4\" class=\"sk-toggleable__label sk-toggleable__label-arrow\">RandomForestRegressor</label><div class=\"sk-toggleable__content\"><pre>RandomForestRegressor(bootstrap=False, max_features=&#x27;sqrt&#x27;, n_estimators=400)</pre></div></div></div></div></div>"
      ],
      "text/plain": [
       "RandomForestRegressor(bootstrap=False, max_features='sqrt', n_estimators=400)"
      ]
     },
     "execution_count": 87,
     "metadata": {},
     "output_type": "execute_result"
    }
   ],
   "source": [
    "rf_random.best_estimator_"
   ]
  },
  {
   "cell_type": "code",
   "execution_count": 113,
   "metadata": {
    "ExecuteTime": {
     "end_time": "2023-07-07T08:39:16.913942Z",
     "start_time": "2023-07-07T08:39:16.810664Z"
    },
    "scrolled": true
   },
   "outputs": [],
   "source": [
    "best_random = rf_random.best_estimator_\n",
    "best_random_predict= best_random.predict(B2_reg_prediction)"
   ]
  },
  {
   "cell_type": "markdown",
   "metadata": {},
   "source": [
    "We can now use a grid search to find other options for model optimisation"
   ]
  },
  {
   "cell_type": "code",
   "execution_count": 165,
   "metadata": {
    "ExecuteTime": {
     "end_time": "2023-07-07T15:04:21.428680Z",
     "start_time": "2023-07-07T15:04:21.397743Z"
    }
   },
   "outputs": [],
   "source": [
    "from sklearn.model_selection import GridSearchCV\n",
    "# Create the parameter grid based on the results of random search \n",
    "param_grid_2 = {'n_estimators': [400,800], #Number of trees\n",
    " 'min_samples_split': [2,5,10],\n",
    " 'min_samples_leaf': [1,2,3],\n",
    " 'max_features': ['auto','sqrt'], #Maximum number of features to be selected sqrt = sqrt(n_features)\n",
    " 'max_depth': [None,50,100], #maximum number of nodes in a tree,\n",
    " 'bootstrap': [True,False]} #Whether to include bootstrap samples\n",
    "# Create a based model\n",
    "rf_2 = RandomForestRegressor()\n",
    "# Instantiate the grid search model\n",
    "grid_search = GridSearchCV(estimator = rf_2, param_grid = param_grid_2, \n",
    "                          cv = 3, n_jobs = -1, verbose = 2)"
   ]
  },
  {
   "cell_type": "code",
   "execution_count": 166,
   "metadata": {
    "ExecuteTime": {
     "end_time": "2023-07-07T15:58:10.145161Z",
     "start_time": "2023-07-07T15:04:57.904939Z"
    },
    "scrolled": true
   },
   "outputs": [
    {
     "name": "stdout",
     "output_type": "stream",
     "text": [
      "Fitting 3 folds for each of 216 candidates, totalling 648 fits\n"
     ]
    },
    {
     "data": {
      "text/html": [
       "<style>#sk-container-id-6 {color: black;background-color: white;}#sk-container-id-6 pre{padding: 0;}#sk-container-id-6 div.sk-toggleable {background-color: white;}#sk-container-id-6 label.sk-toggleable__label {cursor: pointer;display: block;width: 100%;margin-bottom: 0;padding: 0.3em;box-sizing: border-box;text-align: center;}#sk-container-id-6 label.sk-toggleable__label-arrow:before {content: \"▸\";float: left;margin-right: 0.25em;color: #696969;}#sk-container-id-6 label.sk-toggleable__label-arrow:hover:before {color: black;}#sk-container-id-6 div.sk-estimator:hover label.sk-toggleable__label-arrow:before {color: black;}#sk-container-id-6 div.sk-toggleable__content {max-height: 0;max-width: 0;overflow: hidden;text-align: left;background-color: #f0f8ff;}#sk-container-id-6 div.sk-toggleable__content pre {margin: 0.2em;color: black;border-radius: 0.25em;background-color: #f0f8ff;}#sk-container-id-6 input.sk-toggleable__control:checked~div.sk-toggleable__content {max-height: 200px;max-width: 100%;overflow: auto;}#sk-container-id-6 input.sk-toggleable__control:checked~label.sk-toggleable__label-arrow:before {content: \"▾\";}#sk-container-id-6 div.sk-estimator input.sk-toggleable__control:checked~label.sk-toggleable__label {background-color: #d4ebff;}#sk-container-id-6 div.sk-label input.sk-toggleable__control:checked~label.sk-toggleable__label {background-color: #d4ebff;}#sk-container-id-6 input.sk-hidden--visually {border: 0;clip: rect(1px 1px 1px 1px);clip: rect(1px, 1px, 1px, 1px);height: 1px;margin: -1px;overflow: hidden;padding: 0;position: absolute;width: 1px;}#sk-container-id-6 div.sk-estimator {font-family: monospace;background-color: #f0f8ff;border: 1px dotted black;border-radius: 0.25em;box-sizing: border-box;margin-bottom: 0.5em;}#sk-container-id-6 div.sk-estimator:hover {background-color: #d4ebff;}#sk-container-id-6 div.sk-parallel-item::after {content: \"\";width: 100%;border-bottom: 1px solid gray;flex-grow: 1;}#sk-container-id-6 div.sk-label:hover label.sk-toggleable__label {background-color: #d4ebff;}#sk-container-id-6 div.sk-serial::before {content: \"\";position: absolute;border-left: 1px solid gray;box-sizing: border-box;top: 0;bottom: 0;left: 50%;z-index: 0;}#sk-container-id-6 div.sk-serial {display: flex;flex-direction: column;align-items: center;background-color: white;padding-right: 0.2em;padding-left: 0.2em;position: relative;}#sk-container-id-6 div.sk-item {position: relative;z-index: 1;}#sk-container-id-6 div.sk-parallel {display: flex;align-items: stretch;justify-content: center;background-color: white;position: relative;}#sk-container-id-6 div.sk-item::before, #sk-container-id-6 div.sk-parallel-item::before {content: \"\";position: absolute;border-left: 1px solid gray;box-sizing: border-box;top: 0;bottom: 0;left: 50%;z-index: -1;}#sk-container-id-6 div.sk-parallel-item {display: flex;flex-direction: column;z-index: 1;position: relative;background-color: white;}#sk-container-id-6 div.sk-parallel-item:first-child::after {align-self: flex-end;width: 50%;}#sk-container-id-6 div.sk-parallel-item:last-child::after {align-self: flex-start;width: 50%;}#sk-container-id-6 div.sk-parallel-item:only-child::after {width: 0;}#sk-container-id-6 div.sk-dashed-wrapped {border: 1px dashed gray;margin: 0 0.4em 0.5em 0.4em;box-sizing: border-box;padding-bottom: 0.4em;background-color: white;}#sk-container-id-6 div.sk-label label {font-family: monospace;font-weight: bold;display: inline-block;line-height: 1.2em;}#sk-container-id-6 div.sk-label-container {text-align: center;}#sk-container-id-6 div.sk-container {/* jupyter's `normalize.less` sets `[hidden] { display: none; }` but bootstrap.min.css set `[hidden] { display: none !important; }` so we also need the `!important` here to be able to override the default hidden behavior on the sphinx rendered scikit-learn.org. See: https://github.com/scikit-learn/scikit-learn/issues/21755 */display: inline-block !important;position: relative;}#sk-container-id-6 div.sk-text-repr-fallback {display: none;}</style><div id=\"sk-container-id-6\" class=\"sk-top-container\"><div class=\"sk-text-repr-fallback\"><pre>GridSearchCV(cv=3, estimator=RandomForestRegressor(), n_jobs=-1,\n",
       "             param_grid={&#x27;bootstrap&#x27;: [True, False],\n",
       "                         &#x27;max_depth&#x27;: [None, 50, 100],\n",
       "                         &#x27;max_features&#x27;: [&#x27;auto&#x27;, &#x27;sqrt&#x27;],\n",
       "                         &#x27;min_samples_leaf&#x27;: [1, 2, 3],\n",
       "                         &#x27;min_samples_split&#x27;: [2, 5, 10],\n",
       "                         &#x27;n_estimators&#x27;: [400, 800]},\n",
       "             verbose=2)</pre><b>In a Jupyter environment, please rerun this cell to show the HTML representation or trust the notebook. <br />On GitHub, the HTML representation is unable to render, please try loading this page with nbviewer.org.</b></div><div class=\"sk-container\" hidden><div class=\"sk-item sk-dashed-wrapped\"><div class=\"sk-label-container\"><div class=\"sk-label sk-toggleable\"><input class=\"sk-toggleable__control sk-hidden--visually\" id=\"sk-estimator-id-10\" type=\"checkbox\" ><label for=\"sk-estimator-id-10\" class=\"sk-toggleable__label sk-toggleable__label-arrow\">GridSearchCV</label><div class=\"sk-toggleable__content\"><pre>GridSearchCV(cv=3, estimator=RandomForestRegressor(), n_jobs=-1,\n",
       "             param_grid={&#x27;bootstrap&#x27;: [True, False],\n",
       "                         &#x27;max_depth&#x27;: [None, 50, 100],\n",
       "                         &#x27;max_features&#x27;: [&#x27;auto&#x27;, &#x27;sqrt&#x27;],\n",
       "                         &#x27;min_samples_leaf&#x27;: [1, 2, 3],\n",
       "                         &#x27;min_samples_split&#x27;: [2, 5, 10],\n",
       "                         &#x27;n_estimators&#x27;: [400, 800]},\n",
       "             verbose=2)</pre></div></div></div><div class=\"sk-parallel\"><div class=\"sk-parallel-item\"><div class=\"sk-item\"><div class=\"sk-label-container\"><div class=\"sk-label sk-toggleable\"><input class=\"sk-toggleable__control sk-hidden--visually\" id=\"sk-estimator-id-11\" type=\"checkbox\" ><label for=\"sk-estimator-id-11\" class=\"sk-toggleable__label sk-toggleable__label-arrow\">estimator: RandomForestRegressor</label><div class=\"sk-toggleable__content\"><pre>RandomForestRegressor()</pre></div></div></div><div class=\"sk-serial\"><div class=\"sk-item\"><div class=\"sk-estimator sk-toggleable\"><input class=\"sk-toggleable__control sk-hidden--visually\" id=\"sk-estimator-id-12\" type=\"checkbox\" ><label for=\"sk-estimator-id-12\" class=\"sk-toggleable__label sk-toggleable__label-arrow\">RandomForestRegressor</label><div class=\"sk-toggleable__content\"><pre>RandomForestRegressor()</pre></div></div></div></div></div></div></div></div></div></div>"
      ],
      "text/plain": [
       "GridSearchCV(cv=3, estimator=RandomForestRegressor(), n_jobs=-1,\n",
       "             param_grid={'bootstrap': [True, False],\n",
       "                         'max_depth': [None, 50, 100],\n",
       "                         'max_features': ['auto', 'sqrt'],\n",
       "                         'min_samples_leaf': [1, 2, 3],\n",
       "                         'min_samples_split': [2, 5, 10],\n",
       "                         'n_estimators': [400, 800]},\n",
       "             verbose=2)"
      ]
     },
     "execution_count": 166,
     "metadata": {},
     "output_type": "execute_result"
    }
   ],
   "source": [
    "grid_search.fit(indep_var_regression_long_b2_test,dep_var_regression_long_b2_test)"
   ]
  },
  {
   "cell_type": "code",
   "execution_count": 167,
   "metadata": {
    "ExecuteTime": {
     "end_time": "2023-07-07T16:31:37.344730Z",
     "start_time": "2023-07-07T16:31:37.265777Z"
    },
    "scrolled": true
   },
   "outputs": [],
   "source": [
    "best_grid = grid_search.best_estimator_\n",
    "grid_predicts = best_grid.predict(B2_reg_prediction)"
   ]
  },
  {
   "cell_type": "code",
   "execution_count": 168,
   "metadata": {
    "ExecuteTime": {
     "end_time": "2023-07-07T16:31:38.483336Z",
     "start_time": "2023-07-07T16:31:38.446405Z"
    }
   },
   "outputs": [],
   "source": [
    "b2_long_optimised = b2_comp.copy()\n",
    "b2_long_optimised= b2_long_optimised[['Real Longitude','Predicted RF Longitude']]\n",
    "b2_long_optimised['RF Grid Predictions'] = grid_predicts\n",
    "b2_long_optimised['RF Random Predictions'] = best_random_predict\n",
    "\n",
    "RF_long_b2_grid_search_errors=[mean_absolute_error(b2_long_optimised['Real Longitude'], b2_long_optimised['RF Grid Predictions']),r2_score(b2_long_optimised['Real Longitude'], b2_long_optimised['RF Grid Predictions']),mean_squared_error(b2_long_optimised['Real Longitude'], b2_long_optimised['RF Grid Predictions']),\n",
    "               mean_squared_error(b2_long_optimised['Real Longitude'], b2_long_optimised['RF Grid Predictions'],squared=False)]\n",
    "RF_long_b2_random_search_errors=[mean_absolute_error(b2_long_optimised['Real Longitude'], b2_long_optimised['RF Random Predictions']),r2_score(b2_long_optimised['Real Longitude'], b2_long_optimised['RF Random Predictions']),mean_squared_error(b2_long_optimised['Real Longitude'], b2_long_optimised['RF Random Predictions']),\n",
    "               mean_squared_error(b2_long_optimised['Real Longitude'], b2_long_optimised['RF Random Predictions'],squared=False)]\n",
    "RF_long_b2_orginal_errors=[mean_absolute_error(b2_long_optimised['Real Longitude'], b2_long_optimised['Predicted RF Longitude']),r2_score(b2_long_optimised['Real Longitude'], b2_long_optimised['Predicted RF Longitude']),mean_squared_error(b2_long_optimised['Real Longitude'], b2_long_optimised['Predicted RF Longitude']),\n",
    "               mean_squared_error(b2_long_optimised['Real Longitude'], b2_long_optimised['Predicted RF Longitude'],squared=False)]\n"
   ]
  },
  {
   "cell_type": "code",
   "execution_count": 169,
   "metadata": {
    "ExecuteTime": {
     "end_time": "2023-07-07T16:31:41.024736Z",
     "start_time": "2023-07-07T16:31:41.007805Z"
    },
    "scrolled": false
   },
   "outputs": [
    {
     "name": "stdout",
     "output_type": "stream",
     "text": [
      "We can compare Error Metrics for our Random Forest regression models predicting longitude and latitude in our \n"
     ]
    },
    {
     "data": {
      "text/html": [
       "<div>\n",
       "<style scoped>\n",
       "    .dataframe tbody tr th:only-of-type {\n",
       "        vertical-align: middle;\n",
       "    }\n",
       "\n",
       "    .dataframe tbody tr th {\n",
       "        vertical-align: top;\n",
       "    }\n",
       "\n",
       "    .dataframe thead th {\n",
       "        text-align: right;\n",
       "    }\n",
       "</style>\n",
       "<table border=\"1\" class=\"dataframe\">\n",
       "  <thead>\n",
       "    <tr style=\"text-align: right;\">\n",
       "      <th></th>\n",
       "      <th>Original Model</th>\n",
       "      <th>Random Search Model</th>\n",
       "      <th>Grid Search model</th>\n",
       "    </tr>\n",
       "  </thead>\n",
       "  <tbody>\n",
       "    <tr>\n",
       "      <th>MAE</th>\n",
       "      <td>8.370941</td>\n",
       "      <td>8.743676</td>\n",
       "      <td>9.320145</td>\n",
       "    </tr>\n",
       "    <tr>\n",
       "      <th>R Squared</th>\n",
       "      <td>0.859774</td>\n",
       "      <td>0.865220</td>\n",
       "      <td>0.852118</td>\n",
       "    </tr>\n",
       "    <tr>\n",
       "      <th>MSE</th>\n",
       "      <td>138.135699</td>\n",
       "      <td>132.771094</td>\n",
       "      <td>145.677726</td>\n",
       "    </tr>\n",
       "    <tr>\n",
       "      <th>RMSE</th>\n",
       "      <td>11.753114</td>\n",
       "      <td>11.522634</td>\n",
       "      <td>12.069703</td>\n",
       "    </tr>\n",
       "  </tbody>\n",
       "</table>\n",
       "</div>"
      ],
      "text/plain": [
       "           Original Model  Random Search Model  Grid Search model\n",
       "MAE              8.370941             8.743676           9.320145\n",
       "R Squared        0.859774             0.865220           0.852118\n",
       "MSE            138.135699           132.771094         145.677726\n",
       "RMSE            11.753114            11.522634          12.069703"
      ]
     },
     "execution_count": 169,
     "metadata": {},
     "output_type": "execute_result"
    }
   ],
   "source": [
    "#Creating a dataframe to compare the errors across all models.\n",
    "models_list_new=['Original Model', 'Random Search Model', 'Grid Search model']\n",
    "\n",
    "df_error_comp_long_b2_opt=pd.DataFrame(columns=models_list_new, index=error_stat)\n",
    "\n",
    "df_error_comp_long_b2_opt['Original Model']= RF_long_b2_orginal_errors\n",
    "df_error_comp_long_b2_opt['Random Search Model'] = RF_long_b2_random_search_errors\n",
    "df_error_comp_long_b2_opt['Grid Search model'] = RF_long_b2_grid_search_errors\n",
    "\n",
    "print('We can compare Error Metrics for our Random Forest regression models predicting longitude and latitude in our ')\n",
    "df_error_comp_long_b2_opt"
   ]
  },
  {
   "cell_type": "code",
   "execution_count": 170,
   "metadata": {
    "ExecuteTime": {
     "end_time": "2023-07-07T16:31:53.032542Z",
     "start_time": "2023-07-07T16:31:53.024567Z"
    }
   },
   "outputs": [
    {
     "data": {
      "text/html": [
       "<style>#sk-container-id-7 {color: black;background-color: white;}#sk-container-id-7 pre{padding: 0;}#sk-container-id-7 div.sk-toggleable {background-color: white;}#sk-container-id-7 label.sk-toggleable__label {cursor: pointer;display: block;width: 100%;margin-bottom: 0;padding: 0.3em;box-sizing: border-box;text-align: center;}#sk-container-id-7 label.sk-toggleable__label-arrow:before {content: \"▸\";float: left;margin-right: 0.25em;color: #696969;}#sk-container-id-7 label.sk-toggleable__label-arrow:hover:before {color: black;}#sk-container-id-7 div.sk-estimator:hover label.sk-toggleable__label-arrow:before {color: black;}#sk-container-id-7 div.sk-toggleable__content {max-height: 0;max-width: 0;overflow: hidden;text-align: left;background-color: #f0f8ff;}#sk-container-id-7 div.sk-toggleable__content pre {margin: 0.2em;color: black;border-radius: 0.25em;background-color: #f0f8ff;}#sk-container-id-7 input.sk-toggleable__control:checked~div.sk-toggleable__content {max-height: 200px;max-width: 100%;overflow: auto;}#sk-container-id-7 input.sk-toggleable__control:checked~label.sk-toggleable__label-arrow:before {content: \"▾\";}#sk-container-id-7 div.sk-estimator input.sk-toggleable__control:checked~label.sk-toggleable__label {background-color: #d4ebff;}#sk-container-id-7 div.sk-label input.sk-toggleable__control:checked~label.sk-toggleable__label {background-color: #d4ebff;}#sk-container-id-7 input.sk-hidden--visually {border: 0;clip: rect(1px 1px 1px 1px);clip: rect(1px, 1px, 1px, 1px);height: 1px;margin: -1px;overflow: hidden;padding: 0;position: absolute;width: 1px;}#sk-container-id-7 div.sk-estimator {font-family: monospace;background-color: #f0f8ff;border: 1px dotted black;border-radius: 0.25em;box-sizing: border-box;margin-bottom: 0.5em;}#sk-container-id-7 div.sk-estimator:hover {background-color: #d4ebff;}#sk-container-id-7 div.sk-parallel-item::after {content: \"\";width: 100%;border-bottom: 1px solid gray;flex-grow: 1;}#sk-container-id-7 div.sk-label:hover label.sk-toggleable__label {background-color: #d4ebff;}#sk-container-id-7 div.sk-serial::before {content: \"\";position: absolute;border-left: 1px solid gray;box-sizing: border-box;top: 0;bottom: 0;left: 50%;z-index: 0;}#sk-container-id-7 div.sk-serial {display: flex;flex-direction: column;align-items: center;background-color: white;padding-right: 0.2em;padding-left: 0.2em;position: relative;}#sk-container-id-7 div.sk-item {position: relative;z-index: 1;}#sk-container-id-7 div.sk-parallel {display: flex;align-items: stretch;justify-content: center;background-color: white;position: relative;}#sk-container-id-7 div.sk-item::before, #sk-container-id-7 div.sk-parallel-item::before {content: \"\";position: absolute;border-left: 1px solid gray;box-sizing: border-box;top: 0;bottom: 0;left: 50%;z-index: -1;}#sk-container-id-7 div.sk-parallel-item {display: flex;flex-direction: column;z-index: 1;position: relative;background-color: white;}#sk-container-id-7 div.sk-parallel-item:first-child::after {align-self: flex-end;width: 50%;}#sk-container-id-7 div.sk-parallel-item:last-child::after {align-self: flex-start;width: 50%;}#sk-container-id-7 div.sk-parallel-item:only-child::after {width: 0;}#sk-container-id-7 div.sk-dashed-wrapped {border: 1px dashed gray;margin: 0 0.4em 0.5em 0.4em;box-sizing: border-box;padding-bottom: 0.4em;background-color: white;}#sk-container-id-7 div.sk-label label {font-family: monospace;font-weight: bold;display: inline-block;line-height: 1.2em;}#sk-container-id-7 div.sk-label-container {text-align: center;}#sk-container-id-7 div.sk-container {/* jupyter's `normalize.less` sets `[hidden] { display: none; }` but bootstrap.min.css set `[hidden] { display: none !important; }` so we also need the `!important` here to be able to override the default hidden behavior on the sphinx rendered scikit-learn.org. See: https://github.com/scikit-learn/scikit-learn/issues/21755 */display: inline-block !important;position: relative;}#sk-container-id-7 div.sk-text-repr-fallback {display: none;}</style><div id=\"sk-container-id-7\" class=\"sk-top-container\"><div class=\"sk-text-repr-fallback\"><pre>RandomForestRegressor(bootstrap=False, max_features=&#x27;sqrt&#x27;, n_estimators=400)</pre><b>In a Jupyter environment, please rerun this cell to show the HTML representation or trust the notebook. <br />On GitHub, the HTML representation is unable to render, please try loading this page with nbviewer.org.</b></div><div class=\"sk-container\" hidden><div class=\"sk-item\"><div class=\"sk-estimator sk-toggleable\"><input class=\"sk-toggleable__control sk-hidden--visually\" id=\"sk-estimator-id-13\" type=\"checkbox\" checked><label for=\"sk-estimator-id-13\" class=\"sk-toggleable__label sk-toggleable__label-arrow\">RandomForestRegressor</label><div class=\"sk-toggleable__content\"><pre>RandomForestRegressor(bootstrap=False, max_features=&#x27;sqrt&#x27;, n_estimators=400)</pre></div></div></div></div></div>"
      ],
      "text/plain": [
       "RandomForestRegressor(bootstrap=False, max_features='sqrt', n_estimators=400)"
      ]
     },
     "execution_count": 170,
     "metadata": {},
     "output_type": "execute_result"
    }
   ],
   "source": [
    "rf_random.best_estimator_"
   ]
  },
  {
   "cell_type": "markdown",
   "metadata": {},
   "source": [
    "As we can see above, tuning the hyper parameters according to the Random Search best estimator: RandomForestRegressor(bootstrap=False, max_features='sqrt', n_estimators=400) has resulted in a smaller RMSE, and a R squared value closer to 1 which implies we have improved our model accuracy.\n"
   ]
  }
 ],
 "metadata": {
  "kernelspec": {
   "display_name": "Python 3",
   "language": "python",
   "name": "python3"
  },
  "language_info": {
   "codemirror_mode": {
    "name": "ipython",
    "version": 3
   },
   "file_extension": ".py",
   "mimetype": "text/x-python",
   "name": "python",
   "nbconvert_exporter": "python",
   "pygments_lexer": "ipython3",
   "version": "3.8.5"
  },
  "toc": {
   "base_numbering": 1,
   "nav_menu": {},
   "number_sections": true,
   "sideBar": true,
   "skip_h1_title": false,
   "title_cell": "Table of Contents",
   "title_sidebar": "Contents",
   "toc_cell": false,
   "toc_position": {},
   "toc_section_display": true,
   "toc_window_display": true
  },
  "varInspector": {
   "cols": {
    "lenName": 16,
    "lenType": 16,
    "lenVar": 40
   },
   "kernels_config": {
    "python": {
     "delete_cmd_postfix": "",
     "delete_cmd_prefix": "del ",
     "library": "var_list.py",
     "varRefreshCmd": "print(var_dic_list())"
    },
    "r": {
     "delete_cmd_postfix": ") ",
     "delete_cmd_prefix": "rm(",
     "library": "var_list.r",
     "varRefreshCmd": "cat(var_dic_list()) "
    }
   },
   "types_to_exclude": [
    "module",
    "function",
    "builtin_function_or_method",
    "instance",
    "_Feature"
   ],
   "window_display": false
  }
 },
 "nbformat": 4,
 "nbformat_minor": 4
}
